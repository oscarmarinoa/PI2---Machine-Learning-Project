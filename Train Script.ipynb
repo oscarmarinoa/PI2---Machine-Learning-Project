{
 "cells": [
  {
   "cell_type": "code",
   "execution_count": 205,
   "metadata": {},
   "outputs": [
    {
     "data": {
      "text/plain": [
       "2"
      ]
     },
     "execution_count": 205,
     "metadata": {},
     "output_type": "execute_result"
    }
   ],
   "source": [
    "2"
   ]
  },
  {
   "cell_type": "code",
   "execution_count": 206,
   "metadata": {},
   "outputs": [],
   "source": [
    "import pandas as pd\n",
    "import numpy as np\n",
    "import matplotlib.pyplot as plt\n",
    "import seaborn as sns\n",
    "import missingno as msno"
   ]
  },
  {
   "cell_type": "markdown",
   "metadata": {},
   "source": [
    "## Observación general de datos"
   ]
  },
  {
   "cell_type": "code",
   "execution_count": 207,
   "metadata": {},
   "outputs": [],
   "source": [
    "# Opening the dataset with pandas\n",
    "train = pd.read_csv(r'C:\\Users\\Oscar Marino\\Documents\\Henry\\DFT 04 - Henry Course\\Proyectos Individuales\\P2 ML\\Datathon\\properties_colombia_train.csv')"
   ]
  },
  {
   "cell_type": "code",
   "execution_count": 208,
   "metadata": {},
   "outputs": [
    {
     "data": {
      "text/html": [
       "<div>\n",
       "<style scoped>\n",
       "    .dataframe tbody tr th:only-of-type {\n",
       "        vertical-align: middle;\n",
       "    }\n",
       "\n",
       "    .dataframe tbody tr th {\n",
       "        vertical-align: top;\n",
       "    }\n",
       "\n",
       "    .dataframe thead th {\n",
       "        text-align: right;\n",
       "    }\n",
       "</style>\n",
       "<table border=\"1\" class=\"dataframe\">\n",
       "  <thead>\n",
       "    <tr style=\"text-align: right;\">\n",
       "      <th></th>\n",
       "      <th>Unnamed: 0</th>\n",
       "      <th>id</th>\n",
       "      <th>ad_type</th>\n",
       "      <th>start_date</th>\n",
       "      <th>end_date</th>\n",
       "      <th>created_on</th>\n",
       "      <th>lat</th>\n",
       "      <th>lon</th>\n",
       "      <th>l1</th>\n",
       "      <th>l2</th>\n",
       "      <th>...</th>\n",
       "      <th>surface_total</th>\n",
       "      <th>surface_covered</th>\n",
       "      <th>price</th>\n",
       "      <th>currency</th>\n",
       "      <th>price_period</th>\n",
       "      <th>title</th>\n",
       "      <th>description</th>\n",
       "      <th>property_type</th>\n",
       "      <th>operation_type</th>\n",
       "      <th>geometry</th>\n",
       "    </tr>\n",
       "  </thead>\n",
       "  <tbody>\n",
       "    <tr>\n",
       "      <th>0</th>\n",
       "      <td>861131</td>\n",
       "      <td>CScTjaFiP6yCzS8tFX0ZVA==</td>\n",
       "      <td>Propiedad</td>\n",
       "      <td>2020-12-14</td>\n",
       "      <td>9999-12-31</td>\n",
       "      <td>2020-12-14</td>\n",
       "      <td>6.203000</td>\n",
       "      <td>-75.572000</td>\n",
       "      <td>Colombia</td>\n",
       "      <td>Antioquia</td>\n",
       "      <td>...</td>\n",
       "      <td>NaN</td>\n",
       "      <td>NaN</td>\n",
       "      <td>9.000000e+09</td>\n",
       "      <td>COP</td>\n",
       "      <td>NaN</td>\n",
       "      <td>Hermosa Mansión En El Poblado. Área Construida...</td>\n",
       "      <td>&lt;b&gt;Hermosa Mansión En El Poblado. Área Constru...</td>\n",
       "      <td>Casa</td>\n",
       "      <td>Venta</td>\n",
       "      <td>POINT (-75.572 6.203)</td>\n",
       "    </tr>\n",
       "    <tr>\n",
       "      <th>1</th>\n",
       "      <td>200972</td>\n",
       "      <td>DlCxox9+FuugkxS2kBVfJg==</td>\n",
       "      <td>Propiedad</td>\n",
       "      <td>2020-09-16</td>\n",
       "      <td>2021-05-14</td>\n",
       "      <td>2020-09-16</td>\n",
       "      <td>4.722748</td>\n",
       "      <td>-74.073115</td>\n",
       "      <td>Colombia</td>\n",
       "      <td>Cundinamarca</td>\n",
       "      <td>...</td>\n",
       "      <td>NaN</td>\n",
       "      <td>NaN</td>\n",
       "      <td>6.250000e+08</td>\n",
       "      <td>COP</td>\n",
       "      <td>NaN</td>\n",
       "      <td>APARTAMENTO EN VENTA, BOGOTA-CIUDAD JARDIN NORTE</td>\n",
       "      <td>Venta apartamento en piso 16 con vista exterio...</td>\n",
       "      <td>Apartamento</td>\n",
       "      <td>Venta</td>\n",
       "      <td>POINT (-74.0731146 4.7227485)</td>\n",
       "    </tr>\n",
       "    <tr>\n",
       "      <th>2</th>\n",
       "      <td>554622</td>\n",
       "      <td>yitN1AigL45gh/K2YSF8rw==</td>\n",
       "      <td>Propiedad</td>\n",
       "      <td>2020-08-19</td>\n",
       "      <td>2020-08-20</td>\n",
       "      <td>2020-08-19</td>\n",
       "      <td>4.709000</td>\n",
       "      <td>-74.030000</td>\n",
       "      <td>Colombia</td>\n",
       "      <td>Cundinamarca</td>\n",
       "      <td>...</td>\n",
       "      <td>NaN</td>\n",
       "      <td>NaN</td>\n",
       "      <td>4.200000e+08</td>\n",
       "      <td>COP</td>\n",
       "      <td>NaN</td>\n",
       "      <td>Apartamento En Venta En Bogota Bella Suiza Cod...</td>\n",
       "      <td>Al entrar a este bonito apartamento interior e...</td>\n",
       "      <td>Casa</td>\n",
       "      <td>Venta</td>\n",
       "      <td>POINT (-74.03 4.709)</td>\n",
       "    </tr>\n",
       "    <tr>\n",
       "      <th>3</th>\n",
       "      <td>540321</td>\n",
       "      <td>hELQ9njwODbLMpATXieRdQ==</td>\n",
       "      <td>Propiedad</td>\n",
       "      <td>2020-11-23</td>\n",
       "      <td>2020-11-30</td>\n",
       "      <td>2020-11-23</td>\n",
       "      <td>NaN</td>\n",
       "      <td>NaN</td>\n",
       "      <td>Colombia</td>\n",
       "      <td>Santander</td>\n",
       "      <td>...</td>\n",
       "      <td>NaN</td>\n",
       "      <td>NaN</td>\n",
       "      <td>1.310000e+09</td>\n",
       "      <td>COP</td>\n",
       "      <td>NaN</td>\n",
       "      <td>SE VENDE LOCAL COMERCIAL EN CABECERA DEL LLANO...</td>\n",
       "      <td>Se encuentra ubicado en el sector de la Cabece...</td>\n",
       "      <td>Otro</td>\n",
       "      <td>Venta</td>\n",
       "      <td>POINT EMPTY</td>\n",
       "    </tr>\n",
       "    <tr>\n",
       "      <th>4</th>\n",
       "      <td>448920</td>\n",
       "      <td>aBCtKT7LDzt2CxJQ+gVFEA==</td>\n",
       "      <td>Propiedad</td>\n",
       "      <td>2020-10-06</td>\n",
       "      <td>2020-10-07</td>\n",
       "      <td>2020-10-06</td>\n",
       "      <td>NaN</td>\n",
       "      <td>NaN</td>\n",
       "      <td>Colombia</td>\n",
       "      <td>Antioquia</td>\n",
       "      <td>...</td>\n",
       "      <td>NaN</td>\n",
       "      <td>NaN</td>\n",
       "      <td>2.100000e+08</td>\n",
       "      <td>COP</td>\n",
       "      <td>NaN</td>\n",
       "      <td>Apartamento en Venta Ubicado en ITAGUI</td>\n",
       "      <td>Codigo Inmueble 4302 Apartamento con 3 habitac...</td>\n",
       "      <td>Apartamento</td>\n",
       "      <td>Venta</td>\n",
       "      <td>POINT EMPTY</td>\n",
       "    </tr>\n",
       "  </tbody>\n",
       "</table>\n",
       "<p>5 rows × 27 columns</p>\n",
       "</div>"
      ],
      "text/plain": [
       "   Unnamed: 0                        id    ad_type  start_date    end_date  \\\n",
       "0      861131  CScTjaFiP6yCzS8tFX0ZVA==  Propiedad  2020-12-14  9999-12-31   \n",
       "1      200972  DlCxox9+FuugkxS2kBVfJg==  Propiedad  2020-09-16  2021-05-14   \n",
       "2      554622  yitN1AigL45gh/K2YSF8rw==  Propiedad  2020-08-19  2020-08-20   \n",
       "3      540321  hELQ9njwODbLMpATXieRdQ==  Propiedad  2020-11-23  2020-11-30   \n",
       "4      448920  aBCtKT7LDzt2CxJQ+gVFEA==  Propiedad  2020-10-06  2020-10-07   \n",
       "\n",
       "   created_on       lat        lon        l1            l2  ... surface_total  \\\n",
       "0  2020-12-14  6.203000 -75.572000  Colombia     Antioquia  ...           NaN   \n",
       "1  2020-09-16  4.722748 -74.073115  Colombia  Cundinamarca  ...           NaN   \n",
       "2  2020-08-19  4.709000 -74.030000  Colombia  Cundinamarca  ...           NaN   \n",
       "3  2020-11-23       NaN        NaN  Colombia     Santander  ...           NaN   \n",
       "4  2020-10-06       NaN        NaN  Colombia     Antioquia  ...           NaN   \n",
       "\n",
       "  surface_covered         price currency  price_period  \\\n",
       "0             NaN  9.000000e+09      COP           NaN   \n",
       "1             NaN  6.250000e+08      COP           NaN   \n",
       "2             NaN  4.200000e+08      COP           NaN   \n",
       "3             NaN  1.310000e+09      COP           NaN   \n",
       "4             NaN  2.100000e+08      COP           NaN   \n",
       "\n",
       "                                               title  \\\n",
       "0  Hermosa Mansión En El Poblado. Área Construida...   \n",
       "1   APARTAMENTO EN VENTA, BOGOTA-CIUDAD JARDIN NORTE   \n",
       "2  Apartamento En Venta En Bogota Bella Suiza Cod...   \n",
       "3  SE VENDE LOCAL COMERCIAL EN CABECERA DEL LLANO...   \n",
       "4             Apartamento en Venta Ubicado en ITAGUI   \n",
       "\n",
       "                                         description  property_type  \\\n",
       "0  <b>Hermosa Mansión En El Poblado. Área Constru...           Casa   \n",
       "1  Venta apartamento en piso 16 con vista exterio...    Apartamento   \n",
       "2  Al entrar a este bonito apartamento interior e...           Casa   \n",
       "3  Se encuentra ubicado en el sector de la Cabece...           Otro   \n",
       "4  Codigo Inmueble 4302 Apartamento con 3 habitac...    Apartamento   \n",
       "\n",
       "   operation_type                       geometry  \n",
       "0           Venta          POINT (-75.572 6.203)  \n",
       "1           Venta  POINT (-74.0731146 4.7227485)  \n",
       "2           Venta           POINT (-74.03 4.709)  \n",
       "3           Venta                    POINT EMPTY  \n",
       "4           Venta                    POINT EMPTY  \n",
       "\n",
       "[5 rows x 27 columns]"
      ]
     },
     "execution_count": 208,
     "metadata": {},
     "output_type": "execute_result"
    }
   ],
   "source": [
    "train.head(5)"
   ]
  },
  {
   "cell_type": "code",
   "execution_count": 209,
   "metadata": {},
   "outputs": [
    {
     "data": {
      "text/plain": [
       "(197549, 27)"
      ]
     },
     "execution_count": 209,
     "metadata": {},
     "output_type": "execute_result"
    }
   ],
   "source": [
    "# The dataset has 197549 rows and 27 columns.\n",
    "train.shape"
   ]
  },
  {
   "cell_type": "code",
   "execution_count": 210,
   "metadata": {},
   "outputs": [
    {
     "name": "stdout",
     "output_type": "stream",
     "text": [
      "<class 'pandas.core.frame.DataFrame'>\n",
      "RangeIndex: 197549 entries, 0 to 197548\n",
      "Data columns (total 27 columns):\n",
      " #   Column           Non-Null Count   Dtype  \n",
      "---  ------           --------------   -----  \n",
      " 0   Unnamed: 0       197549 non-null  int64  \n",
      " 1   id               197549 non-null  object \n",
      " 2   ad_type          197549 non-null  object \n",
      " 3   start_date       197549 non-null  object \n",
      " 4   end_date         197549 non-null  object \n",
      " 5   created_on       197549 non-null  object \n",
      " 6   lat              148051 non-null  float64\n",
      " 7   lon              148051 non-null  float64\n",
      " 8   l1               197549 non-null  object \n",
      " 9   l2               197549 non-null  object \n",
      " 10  l3               186517 non-null  object \n",
      " 11  l4               45367 non-null   object \n",
      " 12  l5               27409 non-null   object \n",
      " 13  l6               6867 non-null    object \n",
      " 14  rooms            27537 non-null   float64\n",
      " 15  bedrooms         40525 non-null   float64\n",
      " 16  bathrooms        156467 non-null  float64\n",
      " 17  surface_total    6974 non-null    float64\n",
      " 18  surface_covered  9802 non-null    float64\n",
      " 19  price            197486 non-null  float64\n",
      " 20  currency         197482 non-null  object \n",
      " 21  price_period     35971 non-null   object \n",
      " 22  title            197548 non-null  object \n",
      " 23  description      197428 non-null  object \n",
      " 24  property_type    197549 non-null  object \n",
      " 25  operation_type   197549 non-null  object \n",
      " 26  geometry         197549 non-null  object \n",
      "dtypes: float64(8), int64(1), object(18)\n",
      "memory usage: 40.7+ MB\n"
     ]
    }
   ],
   "source": [
    "# As we can see several columns from the dataset have null values. They will be studied with more detail \n",
    "# in order to understand how to manage them.\n",
    "train.info()"
   ]
  },
  {
   "cell_type": "code",
   "execution_count": 211,
   "metadata": {},
   "outputs": [
    {
     "data": {
      "image/png": "[encoded data removed]",
      "text/plain": [
       "<Figure size 2500x1000 with 3 Axes>"
      ]
     },
     "metadata": {},
     "output_type": "display_data"
    }
   ],
   "source": [
    "# We will use the missingno library to see the null values in an illustrative way.\n",
    "import missingno as msno\n",
    "\n",
    "msno.bar(train)\n",
    "plt.show()"
   ]
  },
  {
   "cell_type": "code",
   "execution_count": 212,
   "metadata": {},
   "outputs": [],
   "source": [
    "# In order to clean the dataframe some columns will be deleted because different factors that are explained below:\n",
    "\n",
    "# Unnamed: 0: As this column has no description and is imported when opening the data we proceed to erase it.\n",
    "\n",
    "# id: Is the value to identify each property and does not have incidence in the price of properties.\n",
    "\n",
    "train.drop(['Unnamed: 0', 'id'], axis=1, inplace=True)"
   ]
  },
  {
   "cell_type": "code",
   "execution_count": 213,
   "metadata": {},
   "outputs": [
    {
     "data": {
      "text/plain": [
       "False    197045\n",
       "True        504\n",
       "dtype: int64"
      ]
     },
     "execution_count": 213,
     "metadata": {},
     "output_type": "execute_result"
    }
   ],
   "source": [
    "# A first step into the EDA (exploratory data analysis) is to verify if we have instances that are repeted.\n",
    "# According to the following code we do not have properties that are duplicated.\n",
    "\n",
    "# We can see that if we take out the 'id' and 'Unnamed: 0' columns, there are several entries with exactly the same data. This is because some properties are\n",
    "# re-published when the publication period ends.\n",
    "\n",
    "# As we can see, we have 504 properties that have been re-published, increasing the data with repeated records. \n",
    "train.duplicated().value_counts()"
   ]
  },
  {
   "cell_type": "code",
   "execution_count": 214,
   "metadata": {},
   "outputs": [
    {
     "data": {
      "text/plain": [
       "(197045, 25)"
      ]
     },
     "execution_count": 214,
     "metadata": {},
     "output_type": "execute_result"
    }
   ],
   "source": [
    "#We obtain the index of the properties that are duplicated and use them to drop the repeated records.\n",
    "repeated_properties = train[train.duplicated() == True].index\n",
    "train.drop(repeated_properties, axis = 0, inplace=True)\n",
    "\n",
    "# After deleting the dupliacated records we have 197045 rows.\n",
    "train.shape"
   ]
  },
  {
   "cell_type": "code",
   "execution_count": 215,
   "metadata": {},
   "outputs": [],
   "source": [
    "# We reset the index of the dataframe to avoid future problems.\n",
    "train.reset_index(drop=True, inplace=True)"
   ]
  },
  {
   "cell_type": "markdown",
   "metadata": {},
   "source": [
    "## Null Values Transformation/Imputation"
   ]
  },
  {
   "cell_type": "code",
   "execution_count": 216,
   "metadata": {},
   "outputs": [],
   "source": [
    "# Ad the ad_type column just have one value for all the records we proceed to erase it as it is not meaningful for the model.\n",
    "train.ad_type.value_counts()\n",
    "train.drop('ad_type', axis=1, inplace=True)"
   ]
  },
  {
   "cell_type": "code",
   "execution_count": 217,
   "metadata": {},
   "outputs": [],
   "source": [
    "# As the start_date column and the created_on columns are the same we proceed to drop one of the 2 columns\n",
    "train[train.start_date != train.created_on]\n",
    "train.drop('created_on',axis=1,inplace=True)"
   ]
  },
  {
   "cell_type": "code",
   "execution_count": 218,
   "metadata": {},
   "outputs": [],
   "source": [
    "# Then we transform the date columns to datetime variables.\n",
    "train['start_date'] = train['start_date'].apply(lambda x: pd.to_datetime(x))\n",
    "\n",
    "# For the end_date that has dates with 9999 as year it is not possible to simply change it to datetime type. Therefore, some different transformation has to be executed.\n",
    "# As these variables are not going to be used in the ML model nor influence it, these values are arbitrary changed for the 2022 year. \n",
    "train['end_date'] = train['end_date'].apply(lambda x: pd.to_datetime(x) if x[:4]!='9999'else pd.to_datetime(x.replace(\"9999\",\"2022\")))"
   ]
  },
  {
   "cell_type": "code",
   "execution_count": 219,
   "metadata": {},
   "outputs": [],
   "source": [
    "# In order to clean the dataframe some columns will be deleted because different factors that are explained below:\n",
    "\n",
    "# operation_type : In this column all the records are Volombia.As is just one value it does not influence or affect the model.\n",
    "\n",
    "train.drop([ 'operation_type'], axis=1, inplace=True)"
   ]
  },
  {
   "cell_type": "code",
   "execution_count": 220,
   "metadata": {},
   "outputs": [],
   "source": [
    "# Renaming some columns for a suitable name\n",
    "train.rename(columns={'l1':'pais', 'l2':'departamento', 'l3':'municipio', 'l4':'sector', 'l5':'sector_bogota', 'lat':'latitud', 'lon':'longitud'}, inplace=True)"
   ]
  },
  {
   "cell_type": "markdown",
   "metadata": {},
   "source": [
    "#### Latitude and longitude columns (latitud, longitud)"
   ]
  },
  {
   "cell_type": "code",
   "execution_count": 221,
   "metadata": {},
   "outputs": [
    {
     "name": "stdout",
     "output_type": "stream",
     "text": [
      "The latitude of the location is:  6.2443382\n",
      "The longitude of the location is:  -75.573553\n",
      "Medellín, Valle de Aburrá, Antioquia, 0500, Colombia\n"
     ]
    }
   ],
   "source": [
    "# To fill the empty latitudes and longitudes in the dataframe we are going to use the library Geopy as the library allows to locate the coordinates of addresses, cities, countries,\n",
    "# and landmarks across the globe using third-party geocoders and other data sources.\n",
    "\n",
    "# Import the required library\n",
    "from geopy.geocoders import Nominatim\n",
    "\n",
    "# Initialize Nominatim API: Nominatim indexes named features within the OpenStreetMap.\n",
    "geolocator = Nominatim(user_agent=\"MyApp\")\n",
    "\n",
    "# Creation of a variable with location function. The variable will return geographic data from the inserted record. \n",
    "# --> Medellín as an example.\n",
    "location = geolocator.geocode('Medellín')\n",
    "\n",
    "# Using the latitude and longitude columns from the data returned, we obtain this values for Medellín\n",
    "print(\"The latitude of the location is: \", location.latitude)\n",
    "print(\"The longitude of the location is: \", location.longitude)\n",
    "print(location)"
   ]
  },
  {
   "cell_type": "code",
   "execution_count": 222,
   "metadata": {},
   "outputs": [],
   "source": [
    "# To do this we are going to use the pais and departamento colums as they are complete columns.\n",
    "\n",
    "# Using concatenate strings we create a variable containing records made of the departamento and country.\n",
    "localization = train.departamento.str.cat(train.pais, sep=', ')\n",
    "train['localization'] = localization\n",
    "\n",
    "# Then, we obtain a list of unique records in the column departamento. This list will be used to obtain the latitute and longitud of the different departments (departamentos) of our data.\n",
    "# We use the pais column in the concatenation in order to get coordinates from Colombia and not from another country with locations with the same name.\n",
    "departamento = list(train['departamento'].unique())\n",
    "\n",
    "# Variable with the unique records of 'departamento, pais' e.g 'Antioquia, Colombia' for which the latitude and longitude will be found.\n",
    "list_unique_locations = list(train['localization'].unique())\n",
    "\n",
    "# Creation of empty list to save the latitude and longitude records.\n",
    "list_coor_lat = []\n",
    "list_coor_lon = []\n",
    "\n",
    "# for cicle to obtain the atitude and longitude of the unique location records. The unique locations go through the location geolocator to obtain the geographic area.\n",
    "for i in list_unique_locations:\n",
    "    location = geolocator.geocode(i)\n",
    "    list_coor_lat.append(location.latitude)\n",
    "    list_coor_lon.append(location.longitude)"
   ]
  },
  {
   "cell_type": "code",
   "execution_count": 223,
   "metadata": {},
   "outputs": [
    {
     "data": {
      "text/plain": [
       "(49439, 23)"
      ]
     },
     "execution_count": 223,
     "metadata": {},
     "output_type": "execute_result"
    }
   ],
   "source": [
    "# with the previous records we create a Dataframe containing the unique location records and its latitude and longitude.\n",
    "data = pd.DataFrame()\n",
    "data['localization'] = departamento\n",
    "data['latitude_l'] = list_coor_lat\n",
    "data['longitude_l'] = list_coor_lon\n",
    "\n",
    "# Before changing this empty values we have 49439 records without data for 'latitud' and 'longitud' columns.\n",
    "train[train.latitud.isnull() == True].shape"
   ]
  },
  {
   "cell_type": "code",
   "execution_count": 224,
   "metadata": {},
   "outputs": [
    {
     "name": "stderr",
     "output_type": "stream",
     "text": [
      "C:\\Users\\Oscar Marino\\AppData\\Local\\Temp\\ipykernel_9608\\28429328.py:21: SettingWithCopyWarning: \n",
      "A value is trying to be set on a copy of a slice from a DataFrame\n",
      "\n",
      "See the caveats in the documentation: https://pandas.pydata.org/pandas-docs/stable/user_guide/indexing.html#returning-a-view-versus-a-copy\n",
      "  train['latitud'][index_r] = data.latitude_l[index_d]\n",
      "C:\\Users\\Oscar Marino\\AppData\\Local\\Temp\\ipykernel_9608\\28429328.py:22: SettingWithCopyWarning: \n",
      "A value is trying to be set on a copy of a slice from a DataFrame\n",
      "\n",
      "See the caveats in the documentation: https://pandas.pydata.org/pandas-docs/stable/user_guide/indexing.html#returning-a-view-versus-a-copy\n",
      "  train['longitud'][index_r] = data.longitude_l[index_d]\n"
     ]
    },
    {
     "data": {
      "text/plain": [
       "(0, 23)"
      ]
     },
     "execution_count": 224,
     "metadata": {},
     "output_type": "execute_result"
    }
   ],
   "source": [
    "# Using the train and data dataframes we are going to fill the empty records with geographic information gotten in the previous steps.\n",
    "\n",
    "# We do this with a for cicle that iterates train.latitud, if there is an NaN space we enter anothe for cicle that iterates data['localization'].\n",
    "\n",
    "# If the record in the train.departamento column match the departamento in the dataframe Data (the dataframe with geographic information),\n",
    "# the empty record in train.latitud and train.longitud will be inputed with the 'latitud' and 'longitud' from the correct departamet (departamento)\n",
    "# from the data dataframe.\n",
    "\n",
    "# first for cycle.\n",
    "for index_r, record in enumerate(train.latitud):\n",
    "    \n",
    "    # If the record is NaN in train.latitud we continue with another for cycle.\n",
    "    if np.isnan(train.latitud[index_r]) and np.isnan(train.longitud[index_r]):\n",
    "        \n",
    "        # second for cycle.\n",
    "        for index_d, departamento in enumerate(data['localization']):\n",
    "            \n",
    "            # If the records match, the NaN records are completed with the geographic information of the correct department.\n",
    "            if train.departamento[index_r] == departamento:\n",
    "                \n",
    "                train['latitud'][index_r] = data.latitude_l[index_d]\n",
    "                train['longitud'][index_r] = data.longitude_l[index_d]\n",
    "\n",
    "# we chech that the NaN records are 0 now.\n",
    "train[train.latitud.isnull() == True].shape"
   ]
  },
  {
   "cell_type": "code",
   "execution_count": 225,
   "metadata": {},
   "outputs": [
    {
     "data": {
      "text/plain": [
       "(0, 23)"
      ]
     },
     "execution_count": 225,
     "metadata": {},
     "output_type": "execute_result"
    }
   ],
   "source": [
    "# After the previuos steps we do not have empty records for the columns latitud and longitud anymore.\n",
    "train[train.latitud.isnull() == True].shape"
   ]
  },
  {
   "cell_type": "code",
   "execution_count": 226,
   "metadata": {},
   "outputs": [],
   "source": [
    "# We delete the column train.localization because we dont need it after.\n",
    "train.drop('localization', axis=1, inplace=True)"
   ]
  },
  {
   "cell_type": "code",
   "execution_count": 227,
   "metadata": {},
   "outputs": [
    {
     "data": {
      "text/plain": [
       "False    197045\n",
       "dtype: int64"
      ]
     },
     "execution_count": 227,
     "metadata": {},
     "output_type": "execute_result"
    }
   ],
   "source": [
    "# Confirmation of existance of duplicated values\n",
    "train.duplicated().value_counts()"
   ]
  },
  {
   "cell_type": "markdown",
   "metadata": {},
   "source": [
    "#### Designation of target column"
   ]
  },
  {
   "cell_type": "code",
   "execution_count": 228,
   "metadata": {},
   "outputs": [
    {
     "data": {
      "text/html": [
       "<div>\n",
       "<style scoped>\n",
       "    .dataframe tbody tr th:only-of-type {\n",
       "        vertical-align: middle;\n",
       "    }\n",
       "\n",
       "    .dataframe tbody tr th {\n",
       "        vertical-align: top;\n",
       "    }\n",
       "\n",
       "    .dataframe thead th {\n",
       "        text-align: right;\n",
       "    }\n",
       "</style>\n",
       "<table border=\"1\" class=\"dataframe\">\n",
       "  <thead>\n",
       "    <tr style=\"text-align: right;\">\n",
       "      <th></th>\n",
       "      <th>start_date</th>\n",
       "      <th>end_date</th>\n",
       "      <th>latitud</th>\n",
       "      <th>longitud</th>\n",
       "      <th>pais</th>\n",
       "      <th>departamento</th>\n",
       "      <th>municipio</th>\n",
       "      <th>sector</th>\n",
       "      <th>sector_bogota</th>\n",
       "      <th>l6</th>\n",
       "      <th>...</th>\n",
       "      <th>surface_total</th>\n",
       "      <th>surface_covered</th>\n",
       "      <th>price</th>\n",
       "      <th>currency</th>\n",
       "      <th>price_period</th>\n",
       "      <th>title</th>\n",
       "      <th>description</th>\n",
       "      <th>property_type</th>\n",
       "      <th>geometry</th>\n",
       "      <th>target</th>\n",
       "    </tr>\n",
       "  </thead>\n",
       "  <tbody>\n",
       "    <tr>\n",
       "      <th>0</th>\n",
       "      <td>2020-12-14</td>\n",
       "      <td>2022-12-31</td>\n",
       "      <td>6.203000</td>\n",
       "      <td>-75.572000</td>\n",
       "      <td>Colombia</td>\n",
       "      <td>Antioquia</td>\n",
       "      <td>Medellín</td>\n",
       "      <td>El Poblado</td>\n",
       "      <td>NaN</td>\n",
       "      <td>NaN</td>\n",
       "      <td>...</td>\n",
       "      <td>NaN</td>\n",
       "      <td>NaN</td>\n",
       "      <td>9.000000e+09</td>\n",
       "      <td>COP</td>\n",
       "      <td>NaN</td>\n",
       "      <td>Hermosa Mansión En El Poblado. Área Construida...</td>\n",
       "      <td>&lt;b&gt;Hermosa Mansión En El Poblado. Área Constru...</td>\n",
       "      <td>Casa</td>\n",
       "      <td>POINT (-75.572 6.203)</td>\n",
       "      <td>1</td>\n",
       "    </tr>\n",
       "    <tr>\n",
       "      <th>1</th>\n",
       "      <td>2020-09-16</td>\n",
       "      <td>2021-05-14</td>\n",
       "      <td>4.722748</td>\n",
       "      <td>-74.073115</td>\n",
       "      <td>Colombia</td>\n",
       "      <td>Cundinamarca</td>\n",
       "      <td>Bogotá D.C</td>\n",
       "      <td>Zona Noroccidental</td>\n",
       "      <td>Suba</td>\n",
       "      <td>NaN</td>\n",
       "      <td>...</td>\n",
       "      <td>NaN</td>\n",
       "      <td>NaN</td>\n",
       "      <td>6.250000e+08</td>\n",
       "      <td>COP</td>\n",
       "      <td>NaN</td>\n",
       "      <td>APARTAMENTO EN VENTA, BOGOTA-CIUDAD JARDIN NORTE</td>\n",
       "      <td>Venta apartamento en piso 16 con vista exterio...</td>\n",
       "      <td>Apartamento</td>\n",
       "      <td>POINT (-74.0731146 4.7227485)</td>\n",
       "      <td>0</td>\n",
       "    </tr>\n",
       "    <tr>\n",
       "      <th>2</th>\n",
       "      <td>2020-08-19</td>\n",
       "      <td>2020-08-20</td>\n",
       "      <td>4.709000</td>\n",
       "      <td>-74.030000</td>\n",
       "      <td>Colombia</td>\n",
       "      <td>Cundinamarca</td>\n",
       "      <td>Bogotá D.C</td>\n",
       "      <td>Zona Norte</td>\n",
       "      <td>Usaquén</td>\n",
       "      <td>Bella Suiza</td>\n",
       "      <td>...</td>\n",
       "      <td>NaN</td>\n",
       "      <td>NaN</td>\n",
       "      <td>4.200000e+08</td>\n",
       "      <td>COP</td>\n",
       "      <td>NaN</td>\n",
       "      <td>Apartamento En Venta En Bogota Bella Suiza Cod...</td>\n",
       "      <td>Al entrar a este bonito apartamento interior e...</td>\n",
       "      <td>Casa</td>\n",
       "      <td>POINT (-74.03 4.709)</td>\n",
       "      <td>0</td>\n",
       "    </tr>\n",
       "  </tbody>\n",
       "</table>\n",
       "<p>3 rows × 23 columns</p>\n",
       "</div>"
      ],
      "text/plain": [
       "  start_date   end_date   latitud   longitud      pais  departamento  \\\n",
       "0 2020-12-14 2022-12-31  6.203000 -75.572000  Colombia     Antioquia   \n",
       "1 2020-09-16 2021-05-14  4.722748 -74.073115  Colombia  Cundinamarca   \n",
       "2 2020-08-19 2020-08-20  4.709000 -74.030000  Colombia  Cundinamarca   \n",
       "\n",
       "    municipio              sector sector_bogota           l6  ...  \\\n",
       "0    Medellín          El Poblado           NaN          NaN  ...   \n",
       "1  Bogotá D.C  Zona Noroccidental          Suba          NaN  ...   \n",
       "2  Bogotá D.C          Zona Norte       Usaquén  Bella Suiza  ...   \n",
       "\n",
       "   surface_total  surface_covered         price  currency  price_period  \\\n",
       "0            NaN              NaN  9.000000e+09       COP           NaN   \n",
       "1            NaN              NaN  6.250000e+08       COP           NaN   \n",
       "2            NaN              NaN  4.200000e+08       COP           NaN   \n",
       "\n",
       "                                               title  \\\n",
       "0  Hermosa Mansión En El Poblado. Área Construida...   \n",
       "1   APARTAMENTO EN VENTA, BOGOTA-CIUDAD JARDIN NORTE   \n",
       "2  Apartamento En Venta En Bogota Bella Suiza Cod...   \n",
       "\n",
       "                                         description property_type  \\\n",
       "0  <b>Hermosa Mansión En El Poblado. Área Constru...          Casa   \n",
       "1  Venta apartamento en piso 16 con vista exterio...   Apartamento   \n",
       "2  Al entrar a este bonito apartamento interior e...          Casa   \n",
       "\n",
       "                        geometry target  \n",
       "0          POINT (-75.572 6.203)      1  \n",
       "1  POINT (-74.0731146 4.7227485)      0  \n",
       "2           POINT (-74.03 4.709)      0  \n",
       "\n",
       "[3 rows x 23 columns]"
      ]
     },
     "execution_count": 228,
     "metadata": {},
     "output_type": "execute_result"
    }
   ],
   "source": [
    "# From the 197549 records there are 8 records with currency in USD. This 8 records accout for less than 0.5 % of the data, therefore, they represent a diminute fraction of the properties. Hence, they are dropped because\n",
    "# they do not influence the dataset and make noise.\n",
    "\n",
    "# Using the index of the records with USD as currency we proceed to clean de Train Dataset.\n",
    "train.drop((train[train.currency == 'USD'].index), axis=0, inplace=True)\n",
    "\n",
    "# We assing a variable with the mean price of the properties to know if they are expensive o cheap.\n",
    "avg_price = train.price.mean()\n",
    "\n",
    "# Cretion of variable target to fill the dataframe\n",
    "target = train.price.apply(lambda x: 1 if x >= avg_price else 0) # target = train.price.apply(lambda x: 1 if x > train.price.mean() else 0)\n",
    "\n",
    "# It works without assingning the mean to a variable but it takes longer.\n",
    "# target = train.price.apply(lambda x: 1 if x > train.price.mean() else 0)\n",
    "\n",
    "# Creation of the target column in the dataframe\n",
    "train['target'] = target\n",
    "train.head(3)"
   ]
  },
  {
   "cell_type": "code",
   "execution_count": 229,
   "metadata": {},
   "outputs": [
    {
     "data": {
      "text/plain": [
       "0    150793\n",
       "1     46244\n",
       "Name: target, dtype: int64"
      ]
     },
     "execution_count": 229,
     "metadata": {},
     "output_type": "execute_result"
    }
   ],
   "source": [
    "# Counting how many expensive = 1 and cheap = 0 properties we have.\n",
    "train['target'].value_counts()"
   ]
  },
  {
   "cell_type": "code",
   "execution_count": 230,
   "metadata": {},
   "outputs": [
    {
     "data": {
      "image/png": "[encoded data removed]",
      "text/plain": [
       "<Figure size 2500x1000 with 3 Axes>"
      ]
     },
     "metadata": {},
     "output_type": "display_data"
    }
   ],
   "source": [
    "msno.bar(train[['pais', 'departamento', 'municipio', 'sector', 'sector_bogota', 'l6']])\n",
    "plt.show()"
   ]
  },
  {
   "cell_type": "markdown",
   "metadata": {},
   "source": [
    "#### Latitude and longitude properties that are whitin Colombia"
   ]
  },
  {
   "cell_type": "code",
   "execution_count": 231,
   "metadata": {},
   "outputs": [],
   "source": [
    "# Usign the geopandas and ploty libraries we are going to check if we have properties that are out of Colombia\n",
    "import geopandas as gpd\n",
    "import plotly.express as px"
   ]
  },
  {
   "cell_type": "code",
   "execution_count": 232,
   "metadata": {},
   "outputs": [],
   "source": [
    "# First we create a copy of the original dataframe without the null spaces in the column geometry\n",
    "train_coor = train[train.geometry != 'POINT EMPTY']\n",
    "\n",
    "# At the same time we save the index of the records that has no information about its coordinates in order not to lose valuable.\n",
    "records_no_coordinates = train[train.geometry == 'POINT EMPTY'].index\n",
    "\n",
    "# Creation of a variable with an array designed to store shapely geometry objects.\n",
    "gs = gpd.GeoSeries.from_wkt(train_coor.geometry)\n",
    "\n",
    "# Creation of a Dataframe with a column geometry. The geometry variable is the coordinates from our properties in a 2 dimensional coordinate system\n",
    "# This Dataframe will be used to plot the map with the location of properties in colombia\n",
    "train_geo = gpd.GeoDataFrame(train_coor, geometry=gs)\n",
    "\n",
    "# As we alredy have the latitude (column lat) and longitud (column lon) as points in the column geometry, there is no neccesity for them in the dataframe"
   ]
  },
  {
   "cell_type": "code",
   "execution_count": 233,
   "metadata": {},
   "outputs": [
    {
     "data": {
      "text/html": [
       "<div>\n",
       "<style scoped>\n",
       "    .dataframe tbody tr th:only-of-type {\n",
       "        vertical-align: middle;\n",
       "    }\n",
       "\n",
       "    .dataframe tbody tr th {\n",
       "        vertical-align: top;\n",
       "    }\n",
       "\n",
       "    .dataframe thead th {\n",
       "        text-align: right;\n",
       "    }\n",
       "</style>\n",
       "<table border=\"1\" class=\"dataframe\">\n",
       "  <thead>\n",
       "    <tr style=\"text-align: right;\">\n",
       "      <th></th>\n",
       "      <th>pop_est</th>\n",
       "      <th>continent</th>\n",
       "      <th>name</th>\n",
       "      <th>iso_a3</th>\n",
       "      <th>gdp_md_est</th>\n",
       "      <th>geometry</th>\n",
       "    </tr>\n",
       "  </thead>\n",
       "  <tbody>\n",
       "    <tr>\n",
       "      <th>0</th>\n",
       "      <td>889953.0</td>\n",
       "      <td>Oceania</td>\n",
       "      <td>Fiji</td>\n",
       "      <td>FJI</td>\n",
       "      <td>5496</td>\n",
       "      <td>MULTIPOLYGON (((180.00000 -16.06713, 180.00000...</td>\n",
       "    </tr>\n",
       "    <tr>\n",
       "      <th>1</th>\n",
       "      <td>58005463.0</td>\n",
       "      <td>Africa</td>\n",
       "      <td>Tanzania</td>\n",
       "      <td>TZA</td>\n",
       "      <td>63177</td>\n",
       "      <td>POLYGON ((33.90371 -0.95000, 34.07262 -1.05982...</td>\n",
       "    </tr>\n",
       "    <tr>\n",
       "      <th>2</th>\n",
       "      <td>603253.0</td>\n",
       "      <td>Africa</td>\n",
       "      <td>W. Sahara</td>\n",
       "      <td>ESH</td>\n",
       "      <td>907</td>\n",
       "      <td>POLYGON ((-8.66559 27.65643, -8.66512 27.58948...</td>\n",
       "    </tr>\n",
       "    <tr>\n",
       "      <th>3</th>\n",
       "      <td>37589262.0</td>\n",
       "      <td>North America</td>\n",
       "      <td>Canada</td>\n",
       "      <td>CAN</td>\n",
       "      <td>1736425</td>\n",
       "      <td>MULTIPOLYGON (((-122.84000 49.00000, -122.9742...</td>\n",
       "    </tr>\n",
       "    <tr>\n",
       "      <th>4</th>\n",
       "      <td>328239523.0</td>\n",
       "      <td>North America</td>\n",
       "      <td>United States of America</td>\n",
       "      <td>USA</td>\n",
       "      <td>21433226</td>\n",
       "      <td>MULTIPOLYGON (((-122.84000 49.00000, -120.0000...</td>\n",
       "    </tr>\n",
       "  </tbody>\n",
       "</table>\n",
       "</div>"
      ],
      "text/plain": [
       "       pop_est      continent                      name iso_a3  gdp_md_est  \\\n",
       "0     889953.0        Oceania                      Fiji    FJI        5496   \n",
       "1   58005463.0         Africa                  Tanzania    TZA       63177   \n",
       "2     603253.0         Africa                 W. Sahara    ESH         907   \n",
       "3   37589262.0  North America                    Canada    CAN     1736425   \n",
       "4  328239523.0  North America  United States of America    USA    21433226   \n",
       "\n",
       "                                            geometry  \n",
       "0  MULTIPOLYGON (((180.00000 -16.06713, 180.00000...  \n",
       "1  POLYGON ((33.90371 -0.95000, 34.07262 -1.05982...  \n",
       "2  POLYGON ((-8.66559 27.65643, -8.66512 27.58948...  \n",
       "3  MULTIPOLYGON (((-122.84000 49.00000, -122.9742...  \n",
       "4  MULTIPOLYGON (((-122.84000 49.00000, -120.0000...  "
      ]
     },
     "execution_count": 233,
     "metadata": {},
     "output_type": "execute_result"
    }
   ],
   "source": [
    "# Get built in dataset from geopandas with information regarding geographic limits of countries.\n",
    "\n",
    "world_data = gpd.read_file(gpd.datasets.get_path('naturalearth_lowres'))\n",
    "world_data.head(5)"
   ]
  },
  {
   "cell_type": "code",
   "execution_count": 234,
   "metadata": {},
   "outputs": [
    {
     "data": {
      "text/plain": [
       "Text(0.5, 1.0, 'Colombian properties Dataset')"
      ]
     },
     "execution_count": 234,
     "metadata": {},
     "output_type": "execute_result"
    },
    {
     "data": {
      "image/png": "[encoded data removed]",
      "text/plain": [
       "<Figure size 640x480 with 1 Axes>"
      ]
     },
     "metadata": {},
     "output_type": "display_data"
    }
   ],
   "source": [
    "# For plotting the map:\n",
    "\n",
    "# Map configuration\n",
    "axis = world_data[(world_data.continent == 'South America') | (world_data.continent == 'North America')].plot(color='lightblue', edgecolor = 'black')\n",
    "\n",
    "# Call a plot function from matplot lib\n",
    "\n",
    "# Map with the properties where we can see that we have properties out of Colombia. Some of them are in Argentina and USA. The properties nearby Central America are in San Andres and Providencia,\n",
    "# that are small islands that belong to Colombia.\n",
    "train_geo.plot(ax = axis, color = 'red') # Creation of the points with the coordinates.\n",
    "plt.title('Colombian properties Dataset')"
   ]
  },
  {
   "cell_type": "code",
   "execution_count": 235,
   "metadata": {},
   "outputs": [],
   "source": [
    "# From the previous graph we can see that above 20° and -20° latitud, are the properties outside Colombia. As they represent just a minimum part of the data (less than 1%) we proceed to eliminate these records.\n",
    "train_coor[(train_coor.latitud <= -20) | (train_coor.latitud >= 20)].index\n",
    "\n",
    "# using the index of the records outside Colombia we proceed to drop them.\n",
    "train.drop((train_coor[(train_coor.latitud <= -20) | (train_coor.latitud >= 20)].index), inplace = True)"
   ]
  },
  {
   "cell_type": "code",
   "execution_count": 236,
   "metadata": {},
   "outputs": [
    {
     "data": {
      "text/plain": [
       "Text(0.5, 1.0, 'Colombian properties Dataset')"
      ]
     },
     "execution_count": 236,
     "metadata": {},
     "output_type": "execute_result"
    },
    {
     "data": {
      "image/png": "[encoded data removed]",
      "text/plain": [
       "<Figure size 640x480 with 1 Axes>"
      ]
     },
     "metadata": {},
     "output_type": "display_data"
    }
   ],
   "source": [
    "# In order for the user to see the records outside Colombia more clearly, we print another illustration\n",
    "# clearer for the viewer.\n",
    "axis = world_data[(world_data.name == 'Colombia')].plot(color='lightblue', edgecolor = 'black')\n",
    "train_geo.plot(ax = axis,  color = 'red',figsize=(20,20))\n",
    "plt.title('Colombian properties Dataset')"
   ]
  },
  {
   "cell_type": "code",
   "execution_count": 237,
   "metadata": {},
   "outputs": [],
   "source": [
    "# Dataframe Checkpoint\n",
    "df = train.copy()"
   ]
  },
  {
   "cell_type": "code",
   "execution_count": 238,
   "metadata": {},
   "outputs": [],
   "source": [
    "# In order to clean the dataframe some columns will be deleted because different factors that are explained below:\n",
    "\n",
    "# pais: In this column all the records are Colombia.As is just one value it does not influence or affect the model.\n",
    "\n",
    "# Sector: It is dropped because ???\n",
    "\n",
    "# sector_bogota: This column is dropped due to it only contains information about Bogotá neighboorhouds, not taking into account information for other municipios (provinces).\n",
    "\n",
    "# l6: contains a diminute proportion of data that can be used. It was not possible to fill null values with information from the column description, hence, it is eliminated.\n",
    "\n",
    "# price: column used for calculating the target values. It is not used in the test dataset.\n",
    "\n",
    "# currency: After deleting the records with values equal to USD, all the records are COP. As is just one value it does not influence or affect the model.\n",
    "\n",
    "# title: This column was used for completing the columns rooms, bedrooms, bathrooms, surface_total, surface_covered. After that can be deleted.\n",
    "\n",
    "# description: This column was used for completing the columns rooms, bedrooms, bathrooms, surface_total, surface_covered. After that can be deleted.\n",
    "\n",
    "# operation_type : In this column all the records are Volombia.As is just one value it does not influence or affect the model.\n",
    "\n",
    "# geometry: This column has records with information of latitude and longitude \n",
    "\n",
    "train.drop(['pais', 'sector', 'sector_bogota', 'l6', 'price', 'currency', 'price_period', 'title', 'description', 'geometry'], axis=1, inplace=True)\n"
   ]
  },
  {
   "cell_type": "markdown",
   "metadata": {},
   "source": [
    "#### Null values in 'rooms','bedrooms', 'bathrooms', 'surface_total' and 'surface_covered' columns"
   ]
  },
  {
   "cell_type": "code",
   "execution_count": 239,
   "metadata": {},
   "outputs": [
    {
     "name": "stderr",
     "output_type": "stream",
     "text": [
      "C:\\Users\\Oscar Marino\\AppData\\Local\\Temp\\ipykernel_9608\\2518600482.py:11: FutureWarning: The default value of numeric_only in DataFrameGroupBy.mean is deprecated. In a future version, numeric_only will default to False. Either specify numeric_only or select only columns which should be valid for the function.\n",
      "  empty = train.groupby('property_type').mean()\n"
     ]
    },
    {
     "data": {
      "text/html": [
       "<div>\n",
       "<style scoped>\n",
       "    .dataframe tbody tr th:only-of-type {\n",
       "        vertical-align: middle;\n",
       "    }\n",
       "\n",
       "    .dataframe tbody tr th {\n",
       "        vertical-align: top;\n",
       "    }\n",
       "\n",
       "    .dataframe thead th {\n",
       "        text-align: right;\n",
       "    }\n",
       "</style>\n",
       "<table border=\"1\" class=\"dataframe\">\n",
       "  <thead>\n",
       "    <tr style=\"text-align: right;\">\n",
       "      <th></th>\n",
       "      <th>rooms</th>\n",
       "      <th>bedrooms</th>\n",
       "      <th>bathrooms</th>\n",
       "      <th>surface_total</th>\n",
       "      <th>surface_covered</th>\n",
       "    </tr>\n",
       "    <tr>\n",
       "      <th>property_type</th>\n",
       "      <th></th>\n",
       "      <th></th>\n",
       "      <th></th>\n",
       "      <th></th>\n",
       "      <th></th>\n",
       "    </tr>\n",
       "  </thead>\n",
       "  <tbody>\n",
       "    <tr>\n",
       "      <th>Apartamento</th>\n",
       "      <td>3.0</td>\n",
       "      <td>3.0</td>\n",
       "      <td>2.0</td>\n",
       "      <td>108.0</td>\n",
       "      <td>113.0</td>\n",
       "    </tr>\n",
       "    <tr>\n",
       "      <th>Casa</th>\n",
       "      <td>4.0</td>\n",
       "      <td>4.0</td>\n",
       "      <td>3.0</td>\n",
       "      <td>897.0</td>\n",
       "      <td>300.0</td>\n",
       "    </tr>\n",
       "    <tr>\n",
       "      <th>Finca</th>\n",
       "      <td>4.0</td>\n",
       "      <td>4.0</td>\n",
       "      <td>4.0</td>\n",
       "      <td>14925.0</td>\n",
       "      <td>30939.0</td>\n",
       "    </tr>\n",
       "    <tr>\n",
       "      <th>Local comercial</th>\n",
       "      <td>3.0</td>\n",
       "      <td>1.0</td>\n",
       "      <td>2.0</td>\n",
       "      <td>180.0</td>\n",
       "      <td>160.0</td>\n",
       "    </tr>\n",
       "    <tr>\n",
       "      <th>Lote</th>\n",
       "      <td>3.0</td>\n",
       "      <td>1.0</td>\n",
       "      <td>2.0</td>\n",
       "      <td>8979.0</td>\n",
       "      <td>13101.0</td>\n",
       "    </tr>\n",
       "    <tr>\n",
       "      <th>Oficina</th>\n",
       "      <td>3.0</td>\n",
       "      <td>1.0</td>\n",
       "      <td>2.0</td>\n",
       "      <td>144.0</td>\n",
       "      <td>121.0</td>\n",
       "    </tr>\n",
       "    <tr>\n",
       "      <th>Otro</th>\n",
       "      <td>6.0</td>\n",
       "      <td>5.0</td>\n",
       "      <td>3.0</td>\n",
       "      <td>991.0</td>\n",
       "      <td>1010.0</td>\n",
       "    </tr>\n",
       "    <tr>\n",
       "      <th>Parqueadero</th>\n",
       "      <td>4.0</td>\n",
       "      <td>2.0</td>\n",
       "      <td>NaN</td>\n",
       "      <td>496.0</td>\n",
       "      <td>545.0</td>\n",
       "    </tr>\n",
       "  </tbody>\n",
       "</table>\n",
       "</div>"
      ],
      "text/plain": [
       "                 rooms  bedrooms  bathrooms  surface_total  surface_covered\n",
       "property_type                                                              \n",
       "Apartamento        3.0       3.0        2.0          108.0            113.0\n",
       "Casa               4.0       4.0        3.0          897.0            300.0\n",
       "Finca              4.0       4.0        4.0        14925.0          30939.0\n",
       "Local comercial    3.0       1.0        2.0          180.0            160.0\n",
       "Lote               3.0       1.0        2.0         8979.0          13101.0\n",
       "Oficina            3.0       1.0        2.0          144.0            121.0\n",
       "Otro               6.0       5.0        3.0          991.0           1010.0\n",
       "Parqueadero        4.0       2.0        NaN          496.0            545.0"
      ]
     },
     "execution_count": 239,
     "metadata": {},
     "output_type": "execute_result"
    }
   ],
   "source": [
    "# Using an additional dataframe we are going to impute the NaN values with the mean of the the following columns rooms','bedrooms', 'bathrooms', 'surface_total', 'surface_covered',\n",
    "# according to the type of property.\n",
    "# This is done because a large amount of records are missing and we need to improve the data for the ML model. \n",
    "# The imputation is done according to the type of property, that is a column with complete records.\n",
    "# Using this filtered mean allows us to fill empty spaces with a value more similar than just an average mean.\n",
    "\n",
    "# Firstly, we create an empty dataframe where we will save the mean vallues.\n",
    "empty = pd.DataFrame()\n",
    "\n",
    "# Using the function groupby we obtain the mean for each type of property according to the different columns\n",
    "empty = train.groupby('property_type').mean()\n",
    "\n",
    "# The information is saved in the empty dataframe\n",
    "empty = empty[['rooms','bedrooms', 'bathrooms', 'surface_total', 'surface_covered']].round()\n",
    "\n",
    "# Checking for the results obtained.\n",
    "empty"
   ]
  },
  {
   "cell_type": "code",
   "execution_count": 240,
   "metadata": {},
   "outputs": [
    {
     "name": "stdout",
     "output_type": "stream",
     "text": [
      "Values for rooms: 3.0 4.0 4.0 3.0 3.0 3.0 6.0 4.0\n",
      "Values for bedrooms: 3.0 4.0 4.0 1.0 1.0 1.0 5.0 2.0\n",
      "Values for bathrooms: 2.0 3.0 4.0 2.0 2.0 2.0 3.0 0\n",
      "Values for surface_total: 108.0 897.0 14925.0 180.0 8979.0 144.0 991.0 496.0\n",
      "Values for surface_covered: 113.0 300.0 30939.0 160.0 13101.0 121.0 1010.0 545.0\n"
     ]
    }
   ],
   "source": [
    "# Using the dataframe Empty allow us to obtain the mean values for the the type of property according to the different columns.\n",
    "# This values are kept in separate variables to use them to replace records with NaN values.\n",
    "\n",
    "# Mean values for rooms by the type of property\n",
    "r_a     = empty.iloc[0,0]\n",
    "r_c     = empty.iloc[1,0]\n",
    "r_f     = empty.iloc[2,0]\n",
    "r_lc    = empty.iloc[3,0]\n",
    "r_l     = empty.iloc[4,0]\n",
    "r_o     = empty.iloc[5,0]\n",
    "r_ot    = empty.iloc[6,0]\n",
    "r_p     = empty.iloc[7,0]\n",
    "\n",
    "print('Values for rooms:',r_a,r_c,r_f,r_lc,r_l,r_o,r_ot,r_p)\n",
    "\n",
    "# Mean values for bedrooms according to the type of property\n",
    "bed_a     = empty.iloc[0,1]\n",
    "bed_c     = empty.iloc[1,1]\n",
    "bed_f     = empty.iloc[2,1]\n",
    "bed_lc    = empty.iloc[3,1]\n",
    "bed_l     = empty.iloc[4,1]\n",
    "bed_o     = empty.iloc[5,1]\n",
    "bed_ot    = empty.iloc[6,1]\n",
    "bed_p     = empty.iloc[7,1]\n",
    "\n",
    "print('Values for bedrooms:',bed_a,bed_c,bed_f,bed_lc,bed_l,bed_o,bed_ot,bed_p)\n",
    "\n",
    "# Mean values for bathrooms according to the type of property\n",
    "bath_a     = empty.iloc[0,2]\n",
    "bath_c     = empty.iloc[1,2]\n",
    "bath_f     = empty.iloc[2,2]\n",
    "bath_lc    = empty.iloc[3,2]\n",
    "bath_l     = empty.iloc[4,2]\n",
    "bath_o     = empty.iloc[5,2]\n",
    "bath_ot    = empty.iloc[6,2]\n",
    "bath_p     = 0 # As parking spots do not have bathrooms according to the data.\n",
    "\n",
    "print('Values for bathrooms:',bath_a,bath_c,bath_f,bath_lc,bath_l,bath_o,bath_ot,bath_p)\n",
    "\n",
    "# Mean values for surface_total according to the type of property\n",
    "surf_to_a     = empty.iloc[0,3]\n",
    "surf_to_c     = empty.iloc[1,3]\n",
    "surf_to_f     = empty.iloc[2,3]\n",
    "surf_to_lc    = empty.iloc[3,3]\n",
    "surf_to_l     = empty.iloc[4,3]\n",
    "surf_to_o     = empty.iloc[5,3]\n",
    "surf_to_ot    = empty.iloc[6,3]\n",
    "surf_to_p     = empty.iloc[7,3]\n",
    "\n",
    "print('Values for surface_total:',surf_to_a,surf_to_c,surf_to_f,surf_to_lc,surf_to_l,surf_to_o,surf_to_ot,surf_to_p)\n",
    "\n",
    "# Mean values for surface_covered according to the type of property\n",
    "surf_co_a     = empty.iloc[0,4]\n",
    "surf_co_c     = empty.iloc[1,4]\n",
    "surf_co_f     = empty.iloc[2,4]\n",
    "surf_co_lc    = empty.iloc[3,4]\n",
    "surf_co_l     = empty.iloc[4,4]\n",
    "surf_co_o     = empty.iloc[5,4]\n",
    "surf_co_ot    = empty.iloc[6,4]\n",
    "surf_co_p     = empty.iloc[7,4]\n",
    "\n",
    "print('Values for surface_covered:',surf_co_a,surf_co_c,surf_co_f,surf_co_lc,surf_co_l,surf_co_o,surf_co_ot,surf_co_p)"
   ]
  },
  {
   "cell_type": "code",
   "execution_count": 241,
   "metadata": {},
   "outputs": [
    {
     "name": "stderr",
     "output_type": "stream",
     "text": [
      "C:\\Users\\Oscar Marino\\AppData\\Local\\Temp\\ipykernel_9608\\2774877826.py:7: SettingWithCopyWarning: \n",
      "A value is trying to be set on a copy of a slice from a DataFrame\n",
      "\n",
      "See the caveats in the documentation: https://pandas.pydata.org/pandas-docs/stable/user_guide/indexing.html#returning-a-view-versus-a-copy\n",
      "  train.rooms[i] = r_a\n",
      "C:\\Users\\Oscar Marino\\AppData\\Local\\Temp\\ipykernel_9608\\2774877826.py:13: SettingWithCopyWarning: \n",
      "A value is trying to be set on a copy of a slice from a DataFrame\n",
      "\n",
      "See the caveats in the documentation: https://pandas.pydata.org/pandas-docs/stable/user_guide/indexing.html#returning-a-view-versus-a-copy\n",
      "  train.rooms[i] = r_c\n",
      "C:\\Users\\Oscar Marino\\AppData\\Local\\Temp\\ipykernel_9608\\2774877826.py:17: SettingWithCopyWarning: \n",
      "A value is trying to be set on a copy of a slice from a DataFrame\n",
      "\n",
      "See the caveats in the documentation: https://pandas.pydata.org/pandas-docs/stable/user_guide/indexing.html#returning-a-view-versus-a-copy\n",
      "  train.rooms[i] = r_f\n",
      "C:\\Users\\Oscar Marino\\AppData\\Local\\Temp\\ipykernel_9608\\2774877826.py:21: SettingWithCopyWarning: \n",
      "A value is trying to be set on a copy of a slice from a DataFrame\n",
      "\n",
      "See the caveats in the documentation: https://pandas.pydata.org/pandas-docs/stable/user_guide/indexing.html#returning-a-view-versus-a-copy\n",
      "  train.rooms[i] = r_lc\n",
      "C:\\Users\\Oscar Marino\\AppData\\Local\\Temp\\ipykernel_9608\\2774877826.py:25: SettingWithCopyWarning: \n",
      "A value is trying to be set on a copy of a slice from a DataFrame\n",
      "\n",
      "See the caveats in the documentation: https://pandas.pydata.org/pandas-docs/stable/user_guide/indexing.html#returning-a-view-versus-a-copy\n",
      "  train.rooms[i] = r_l\n",
      "C:\\Users\\Oscar Marino\\AppData\\Local\\Temp\\ipykernel_9608\\2774877826.py:29: SettingWithCopyWarning: \n",
      "A value is trying to be set on a copy of a slice from a DataFrame\n",
      "\n",
      "See the caveats in the documentation: https://pandas.pydata.org/pandas-docs/stable/user_guide/indexing.html#returning-a-view-versus-a-copy\n",
      "  train.rooms[i] = r_o\n",
      "C:\\Users\\Oscar Marino\\AppData\\Local\\Temp\\ipykernel_9608\\2774877826.py:33: SettingWithCopyWarning: \n",
      "A value is trying to be set on a copy of a slice from a DataFrame\n",
      "\n",
      "See the caveats in the documentation: https://pandas.pydata.org/pandas-docs/stable/user_guide/indexing.html#returning-a-view-versus-a-copy\n",
      "  train.rooms[i] = r_ot\n",
      "C:\\Users\\Oscar Marino\\AppData\\Local\\Temp\\ipykernel_9608\\2774877826.py:37: SettingWithCopyWarning: \n",
      "A value is trying to be set on a copy of a slice from a DataFrame\n",
      "\n",
      "See the caveats in the documentation: https://pandas.pydata.org/pandas-docs/stable/user_guide/indexing.html#returning-a-view-versus-a-copy\n",
      "  train.rooms[i] = r_p\n"
     ]
    }
   ],
   "source": [
    "# For the column rooms where the record is NaN and in the same row the property_type is 'Apartamento' we are going to insert the value of the mean of rooms for Apartamento:\n",
    "# We obtain the where the condition is met. It takes around 2 mins.\n",
    "list_r_a = train[(np.isnan(train.rooms) == True) & (train.property_type == 'Apartamento')].index\n",
    "\n",
    "# With a for cycle we iterate over the different index that met the condition. The records with this index are changed by the mean.\n",
    "for i in train[(np.isnan(train.rooms) == True) & (train.property_type == 'Apartamento')].index:\n",
    "    train.rooms[i] = r_a\n",
    "    \n",
    "# The same process is repeated for the other property types ('Casa', 'Finca', 'Local comercial', 'Lote', 'Oficina', 'Otro', 'Parqueadero').\n",
    "\n",
    "list_r_c = train[(np.isnan(train.rooms) == True) & (train.property_type == 'Casa')].index\n",
    "for i in list_r_c:\n",
    "    train.rooms[i] = r_c\n",
    "    \n",
    "list_r_f = train[(np.isnan(train.rooms) == True) & (train.property_type == 'Finca')].index\n",
    "for i in list_r_f:\n",
    "    train.rooms[i] = r_f\n",
    "    \n",
    "list_r_lc = train[(np.isnan(train.rooms) == True) & (train.property_type == 'Local comercial')].index\n",
    "for i in list_r_lc:\n",
    "    train.rooms[i] = r_lc\n",
    "    \n",
    "list_r_l = train[(np.isnan(train.rooms) == True) & (train.property_type == 'Lote')].index\n",
    "for i in list_r_l:\n",
    "    train.rooms[i] = r_l\n",
    "    \n",
    "list_r_o = train[(np.isnan(train.rooms) == True) & (train.property_type == 'Oficina')].index\n",
    "for i in list_r_o:\n",
    "    train.rooms[i] = r_o\n",
    "    \n",
    "list_r_ot = train[(np.isnan(train.rooms) == True) & (train.property_type == 'Otro')].index\n",
    "for i in list_r_ot:\n",
    "    train.rooms[i] = r_ot\n",
    "    \n",
    "list_r_p = train[(np.isnan(train.rooms) == True) & (train.property_type == 'Parqueadero')].index\n",
    "for i in list_r_p:\n",
    "    train.rooms[i] = r_p"
   ]
  },
  {
   "cell_type": "code",
   "execution_count": 242,
   "metadata": {},
   "outputs": [],
   "source": [
    "train.reset_index(drop = True, inplace=True)"
   ]
  },
  {
   "cell_type": "code",
   "execution_count": 243,
   "metadata": {},
   "outputs": [
    {
     "name": "stderr",
     "output_type": "stream",
     "text": [
      "C:\\Users\\Oscar Marino\\AppData\\Local\\Temp\\ipykernel_9608\\1558389497.py:16: SettingWithCopyWarning: \n",
      "A value is trying to be set on a copy of a slice from a DataFrame\n",
      "\n",
      "See the caveats in the documentation: https://pandas.pydata.org/pandas-docs/stable/user_guide/indexing.html#returning-a-view-versus-a-copy\n",
      "  train.bedrooms[j] = bed_a\n",
      "C:\\Users\\Oscar Marino\\AppData\\Local\\Temp\\ipykernel_9608\\1558389497.py:18: SettingWithCopyWarning: \n",
      "A value is trying to be set on a copy of a slice from a DataFrame\n",
      "\n",
      "See the caveats in the documentation: https://pandas.pydata.org/pandas-docs/stable/user_guide/indexing.html#returning-a-view-versus-a-copy\n",
      "  train.bedrooms[j] = bed_c\n",
      "C:\\Users\\Oscar Marino\\AppData\\Local\\Temp\\ipykernel_9608\\1558389497.py:20: SettingWithCopyWarning: \n",
      "A value is trying to be set on a copy of a slice from a DataFrame\n",
      "\n",
      "See the caveats in the documentation: https://pandas.pydata.org/pandas-docs/stable/user_guide/indexing.html#returning-a-view-versus-a-copy\n",
      "  train.bedrooms[j] = bed_f\n",
      "C:\\Users\\Oscar Marino\\AppData\\Local\\Temp\\ipykernel_9608\\1558389497.py:22: SettingWithCopyWarning: \n",
      "A value is trying to be set on a copy of a slice from a DataFrame\n",
      "\n",
      "See the caveats in the documentation: https://pandas.pydata.org/pandas-docs/stable/user_guide/indexing.html#returning-a-view-versus-a-copy\n",
      "  train.bedrooms[j] = bed_lc\n",
      "C:\\Users\\Oscar Marino\\AppData\\Local\\Temp\\ipykernel_9608\\1558389497.py:24: SettingWithCopyWarning: \n",
      "A value is trying to be set on a copy of a slice from a DataFrame\n",
      "\n",
      "See the caveats in the documentation: https://pandas.pydata.org/pandas-docs/stable/user_guide/indexing.html#returning-a-view-versus-a-copy\n",
      "  train.bedrooms[j] = bed_l\n",
      "C:\\Users\\Oscar Marino\\AppData\\Local\\Temp\\ipykernel_9608\\1558389497.py:26: SettingWithCopyWarning: \n",
      "A value is trying to be set on a copy of a slice from a DataFrame\n",
      "\n",
      "See the caveats in the documentation: https://pandas.pydata.org/pandas-docs/stable/user_guide/indexing.html#returning-a-view-versus-a-copy\n",
      "  train.bedrooms[j] = bed_o\n",
      "C:\\Users\\Oscar Marino\\AppData\\Local\\Temp\\ipykernel_9608\\1558389497.py:28: SettingWithCopyWarning: \n",
      "A value is trying to be set on a copy of a slice from a DataFrame\n",
      "\n",
      "See the caveats in the documentation: https://pandas.pydata.org/pandas-docs/stable/user_guide/indexing.html#returning-a-view-versus-a-copy\n",
      "  train.bedrooms[j] = bed_ot\n",
      "C:\\Users\\Oscar Marino\\AppData\\Local\\Temp\\ipykernel_9608\\1558389497.py:30: SettingWithCopyWarning: \n",
      "A value is trying to be set on a copy of a slice from a DataFrame\n",
      "\n",
      "See the caveats in the documentation: https://pandas.pydata.org/pandas-docs/stable/user_guide/indexing.html#returning-a-view-versus-a-copy\n",
      "  train.bedrooms[j] = bed_p\n",
      "C:\\Users\\Oscar Marino\\AppData\\Local\\Temp\\ipykernel_9608\\1558389497.py:42: SettingWithCopyWarning: \n",
      "A value is trying to be set on a copy of a slice from a DataFrame\n",
      "\n",
      "See the caveats in the documentation: https://pandas.pydata.org/pandas-docs/stable/user_guide/indexing.html#returning-a-view-versus-a-copy\n",
      "  train.bathrooms[j] = bath_a\n",
      "C:\\Users\\Oscar Marino\\AppData\\Local\\Temp\\ipykernel_9608\\1558389497.py:44: SettingWithCopyWarning: \n",
      "A value is trying to be set on a copy of a slice from a DataFrame\n",
      "\n",
      "See the caveats in the documentation: https://pandas.pydata.org/pandas-docs/stable/user_guide/indexing.html#returning-a-view-versus-a-copy\n",
      "  train.bathrooms[j] = bath_c\n",
      "C:\\Users\\Oscar Marino\\AppData\\Local\\Temp\\ipykernel_9608\\1558389497.py:46: SettingWithCopyWarning: \n",
      "A value is trying to be set on a copy of a slice from a DataFrame\n",
      "\n",
      "See the caveats in the documentation: https://pandas.pydata.org/pandas-docs/stable/user_guide/indexing.html#returning-a-view-versus-a-copy\n",
      "  train.bathrooms[j] = bath_f\n",
      "C:\\Users\\Oscar Marino\\AppData\\Local\\Temp\\ipykernel_9608\\1558389497.py:48: SettingWithCopyWarning: \n",
      "A value is trying to be set on a copy of a slice from a DataFrame\n",
      "\n",
      "See the caveats in the documentation: https://pandas.pydata.org/pandas-docs/stable/user_guide/indexing.html#returning-a-view-versus-a-copy\n",
      "  train.bathrooms[j] = bath_lc\n",
      "C:\\Users\\Oscar Marino\\AppData\\Local\\Temp\\ipykernel_9608\\1558389497.py:50: SettingWithCopyWarning: \n",
      "A value is trying to be set on a copy of a slice from a DataFrame\n",
      "\n",
      "See the caveats in the documentation: https://pandas.pydata.org/pandas-docs/stable/user_guide/indexing.html#returning-a-view-versus-a-copy\n",
      "  train.bathrooms[j] = bath_l\n",
      "C:\\Users\\Oscar Marino\\AppData\\Local\\Temp\\ipykernel_9608\\1558389497.py:52: SettingWithCopyWarning: \n",
      "A value is trying to be set on a copy of a slice from a DataFrame\n",
      "\n",
      "See the caveats in the documentation: https://pandas.pydata.org/pandas-docs/stable/user_guide/indexing.html#returning-a-view-versus-a-copy\n",
      "  train.bathrooms[j] = bath_o\n",
      "C:\\Users\\Oscar Marino\\AppData\\Local\\Temp\\ipykernel_9608\\1558389497.py:54: SettingWithCopyWarning: \n",
      "A value is trying to be set on a copy of a slice from a DataFrame\n",
      "\n",
      "See the caveats in the documentation: https://pandas.pydata.org/pandas-docs/stable/user_guide/indexing.html#returning-a-view-versus-a-copy\n",
      "  train.bathrooms[j] = bath_ot\n",
      "C:\\Users\\Oscar Marino\\AppData\\Local\\Temp\\ipykernel_9608\\1558389497.py:56: SettingWithCopyWarning: \n",
      "A value is trying to be set on a copy of a slice from a DataFrame\n",
      "\n",
      "See the caveats in the documentation: https://pandas.pydata.org/pandas-docs/stable/user_guide/indexing.html#returning-a-view-versus-a-copy\n",
      "  train.bathrooms[j] = bath_p\n",
      "C:\\Users\\Oscar Marino\\AppData\\Local\\Temp\\ipykernel_9608\\1558389497.py:65: SettingWithCopyWarning: \n",
      "A value is trying to be set on a copy of a slice from a DataFrame\n",
      "\n",
      "See the caveats in the documentation: https://pandas.pydata.org/pandas-docs/stable/user_guide/indexing.html#returning-a-view-versus-a-copy\n",
      "  train.surface_total[j] = surf_to_a\n",
      "C:\\Users\\Oscar Marino\\AppData\\Local\\Temp\\ipykernel_9608\\1558389497.py:67: SettingWithCopyWarning: \n",
      "A value is trying to be set on a copy of a slice from a DataFrame\n",
      "\n",
      "See the caveats in the documentation: https://pandas.pydata.org/pandas-docs/stable/user_guide/indexing.html#returning-a-view-versus-a-copy\n",
      "  train.surface_total[j] = surf_to_c\n",
      "C:\\Users\\Oscar Marino\\AppData\\Local\\Temp\\ipykernel_9608\\1558389497.py:69: SettingWithCopyWarning: \n",
      "A value is trying to be set on a copy of a slice from a DataFrame\n",
      "\n",
      "See the caveats in the documentation: https://pandas.pydata.org/pandas-docs/stable/user_guide/indexing.html#returning-a-view-versus-a-copy\n",
      "  train.surface_total[j] = surf_to_f\n",
      "C:\\Users\\Oscar Marino\\AppData\\Local\\Temp\\ipykernel_9608\\1558389497.py:71: SettingWithCopyWarning: \n",
      "A value is trying to be set on a copy of a slice from a DataFrame\n",
      "\n",
      "See the caveats in the documentation: https://pandas.pydata.org/pandas-docs/stable/user_guide/indexing.html#returning-a-view-versus-a-copy\n",
      "  train.surface_total[j] = surf_to_lc\n",
      "C:\\Users\\Oscar Marino\\AppData\\Local\\Temp\\ipykernel_9608\\1558389497.py:73: SettingWithCopyWarning: \n",
      "A value is trying to be set on a copy of a slice from a DataFrame\n",
      "\n",
      "See the caveats in the documentation: https://pandas.pydata.org/pandas-docs/stable/user_guide/indexing.html#returning-a-view-versus-a-copy\n",
      "  train.surface_total[j] = surf_to_l\n",
      "C:\\Users\\Oscar Marino\\AppData\\Local\\Temp\\ipykernel_9608\\1558389497.py:75: SettingWithCopyWarning: \n",
      "A value is trying to be set on a copy of a slice from a DataFrame\n",
      "\n",
      "See the caveats in the documentation: https://pandas.pydata.org/pandas-docs/stable/user_guide/indexing.html#returning-a-view-versus-a-copy\n",
      "  train.surface_total[j] = surf_to_o\n",
      "C:\\Users\\Oscar Marino\\AppData\\Local\\Temp\\ipykernel_9608\\1558389497.py:77: SettingWithCopyWarning: \n",
      "A value is trying to be set on a copy of a slice from a DataFrame\n",
      "\n",
      "See the caveats in the documentation: https://pandas.pydata.org/pandas-docs/stable/user_guide/indexing.html#returning-a-view-versus-a-copy\n",
      "  train.surface_total[j] = surf_to_ot\n",
      "C:\\Users\\Oscar Marino\\AppData\\Local\\Temp\\ipykernel_9608\\1558389497.py:79: SettingWithCopyWarning: \n",
      "A value is trying to be set on a copy of a slice from a DataFrame\n",
      "\n",
      "See the caveats in the documentation: https://pandas.pydata.org/pandas-docs/stable/user_guide/indexing.html#returning-a-view-versus-a-copy\n",
      "  train.surface_total[j] = surf_to_p\n",
      "C:\\Users\\Oscar Marino\\AppData\\Local\\Temp\\ipykernel_9608\\1558389497.py:88: SettingWithCopyWarning: \n",
      "A value is trying to be set on a copy of a slice from a DataFrame\n",
      "\n",
      "See the caveats in the documentation: https://pandas.pydata.org/pandas-docs/stable/user_guide/indexing.html#returning-a-view-versus-a-copy\n",
      "  train.surface_covered[j] = surf_co_a\n",
      "C:\\Users\\Oscar Marino\\AppData\\Local\\Temp\\ipykernel_9608\\1558389497.py:90: SettingWithCopyWarning: \n",
      "A value is trying to be set on a copy of a slice from a DataFrame\n",
      "\n",
      "See the caveats in the documentation: https://pandas.pydata.org/pandas-docs/stable/user_guide/indexing.html#returning-a-view-versus-a-copy\n",
      "  train.surface_covered[j] = surf_co_c\n",
      "C:\\Users\\Oscar Marino\\AppData\\Local\\Temp\\ipykernel_9608\\1558389497.py:92: SettingWithCopyWarning: \n",
      "A value is trying to be set on a copy of a slice from a DataFrame\n",
      "\n",
      "See the caveats in the documentation: https://pandas.pydata.org/pandas-docs/stable/user_guide/indexing.html#returning-a-view-versus-a-copy\n",
      "  train.surface_covered[j] = surf_co_f\n",
      "C:\\Users\\Oscar Marino\\AppData\\Local\\Temp\\ipykernel_9608\\1558389497.py:94: SettingWithCopyWarning: \n",
      "A value is trying to be set on a copy of a slice from a DataFrame\n",
      "\n",
      "See the caveats in the documentation: https://pandas.pydata.org/pandas-docs/stable/user_guide/indexing.html#returning-a-view-versus-a-copy\n",
      "  train.surface_covered[j] = surf_co_lc\n",
      "C:\\Users\\Oscar Marino\\AppData\\Local\\Temp\\ipykernel_9608\\1558389497.py:96: SettingWithCopyWarning: \n",
      "A value is trying to be set on a copy of a slice from a DataFrame\n",
      "\n",
      "See the caveats in the documentation: https://pandas.pydata.org/pandas-docs/stable/user_guide/indexing.html#returning-a-view-versus-a-copy\n",
      "  train.surface_covered[j] = surf_co_l\n",
      "C:\\Users\\Oscar Marino\\AppData\\Local\\Temp\\ipykernel_9608\\1558389497.py:98: SettingWithCopyWarning: \n",
      "A value is trying to be set on a copy of a slice from a DataFrame\n",
      "\n",
      "See the caveats in the documentation: https://pandas.pydata.org/pandas-docs/stable/user_guide/indexing.html#returning-a-view-versus-a-copy\n",
      "  train.surface_covered[j] = surf_co_o\n",
      "C:\\Users\\Oscar Marino\\AppData\\Local\\Temp\\ipykernel_9608\\1558389497.py:100: SettingWithCopyWarning: \n",
      "A value is trying to be set on a copy of a slice from a DataFrame\n",
      "\n",
      "See the caveats in the documentation: https://pandas.pydata.org/pandas-docs/stable/user_guide/indexing.html#returning-a-view-versus-a-copy\n",
      "  train.surface_covered[j] = surf_co_ot\n",
      "C:\\Users\\Oscar Marino\\AppData\\Local\\Temp\\ipykernel_9608\\1558389497.py:102: SettingWithCopyWarning: \n",
      "A value is trying to be set on a copy of a slice from a DataFrame\n",
      "\n",
      "See the caveats in the documentation: https://pandas.pydata.org/pandas-docs/stable/user_guide/indexing.html#returning-a-view-versus-a-copy\n",
      "  train.surface_covered[j] = surf_co_p\n"
     ]
    }
   ],
   "source": [
    "# Later on (after a night of resting :p), it was possible to define another way to do the same process of changing the mean value for each category.\n",
    "\n",
    "# For the column bedrooms\n",
    "\n",
    "# We create a counter variable in order to manage the bucle and enter the mean value desired according to each column.\n",
    "n = 0\n",
    "\n",
    "# Creation of an iteration over the names of the columns of the Empty Dataframe.\n",
    "for i in empty.index:\n",
    "    # Using masks we filter the dataframe Train and obtain the index where the records are Nan and met a condition (type of property).\n",
    "    list_index = train[(np.isnan(train.bedrooms) == True) & (train.property_type == i)].index\n",
    "    # Using the index of the records that are NaN and the type of property desired, the value of this records are changed for the mean value of the type of property in the\n",
    "    # suitable column.\n",
    "    for j in list_index:\n",
    "        if n == 0:\n",
    "            train.bedrooms[j] = bed_a\n",
    "        elif n == 1:\n",
    "            train.bedrooms[j] = bed_c\n",
    "        elif n == 2:\n",
    "            train.bedrooms[j] = bed_f\n",
    "        elif n == 3:\n",
    "            train.bedrooms[j] = bed_lc\n",
    "        elif n == 4:\n",
    "            train.bedrooms[j] = bed_l\n",
    "        elif n == 5:\n",
    "            train.bedrooms[j] = bed_o\n",
    "        elif n == 6:\n",
    "            train.bedrooms[j] = bed_ot \n",
    "        elif n == 7:\n",
    "            train.bedrooms[j] = bed_p\n",
    "    n += 1\n",
    "\n",
    "\n",
    "# The same process is repeated for the other columns.\n",
    "\n",
    "# For the column bathrooms\n",
    "n = 0\n",
    "for i in empty.index:\n",
    "    list_index = train[(np.isnan(train.bathrooms) == True) & (train.property_type == i)].index\n",
    "    for j in list_index:\n",
    "        if n == 0:\n",
    "            train.bathrooms[j] = bath_a\n",
    "        elif n == 1:\n",
    "            train.bathrooms[j] = bath_c\n",
    "        elif n == 2:\n",
    "            train.bathrooms[j] = bath_f\n",
    "        elif n == 3:\n",
    "            train.bathrooms[j] = bath_lc\n",
    "        elif n == 4:\n",
    "            train.bathrooms[j] = bath_l\n",
    "        elif n == 5:\n",
    "            train.bathrooms[j] = bath_o\n",
    "        elif n == 6:\n",
    "            train.bathrooms[j] = bath_ot \n",
    "        elif n == 7:\n",
    "            train.bathrooms[j] = bath_p\n",
    "    n += 1\n",
    "    \n",
    "# For the column surface_total\n",
    "n = 0\n",
    "for i in empty.index:\n",
    "    list_index = train[(np.isnan(train.surface_total) == True) & (train.property_type == i)].index\n",
    "    for j in list_index:\n",
    "        if n == 0:\n",
    "            train.surface_total[j] = surf_to_a\n",
    "        elif n == 1:\n",
    "            train.surface_total[j] = surf_to_c\n",
    "        elif n == 2:\n",
    "            train.surface_total[j] = surf_to_f\n",
    "        elif n == 3:\n",
    "            train.surface_total[j] = surf_to_lc\n",
    "        elif n == 4:\n",
    "            train.surface_total[j] = surf_to_l\n",
    "        elif n == 5:\n",
    "            train.surface_total[j] = surf_to_o\n",
    "        elif n == 6:\n",
    "            train.surface_total[j] = surf_to_ot \n",
    "        elif n == 7:\n",
    "            train.surface_total[j] = surf_to_p\n",
    "    n += 1\n",
    "    \n",
    "# For the column surface_covered\n",
    "n = 0\n",
    "for i in empty.index:\n",
    "    list_index = train[(np.isnan(train.surface_covered) == True) & (train.property_type == i)].index\n",
    "    for j in list_index:\n",
    "        if n == 0:\n",
    "            train.surface_covered[j] = surf_co_a\n",
    "        elif n == 1:\n",
    "            train.surface_covered[j] = surf_co_c\n",
    "        elif n == 2:\n",
    "            train.surface_covered[j] = surf_co_f\n",
    "        elif n == 3:\n",
    "            train.surface_covered[j] = surf_co_lc\n",
    "        elif n == 4:\n",
    "            train.surface_covered[j] = surf_co_l\n",
    "        elif n == 5:\n",
    "            train.surface_covered[j] = surf_co_o\n",
    "        elif n == 6:\n",
    "            train.surface_covered[j] = surf_co_ot \n",
    "        elif n == 7:\n",
    "            train.surface_covered[j] = surf_co_p\n",
    "    n += 1"
   ]
  },
  {
   "cell_type": "code",
   "execution_count": 244,
   "metadata": {},
   "outputs": [
    {
     "name": "stdout",
     "output_type": "stream",
     "text": [
      "<class 'pandas.core.frame.DataFrame'>\n",
      "RangeIndex: 197035 entries, 0 to 197034\n",
      "Data columns (total 13 columns):\n",
      " #   Column           Non-Null Count   Dtype         \n",
      "---  ------           --------------   -----         \n",
      " 0   start_date       197035 non-null  datetime64[ns]\n",
      " 1   end_date         197035 non-null  datetime64[ns]\n",
      " 2   latitud          197035 non-null  float64       \n",
      " 3   longitud         197035 non-null  float64       \n",
      " 4   departamento     197035 non-null  object        \n",
      " 5   municipio        186042 non-null  object        \n",
      " 6   rooms            197035 non-null  float64       \n",
      " 7   bedrooms         197035 non-null  float64       \n",
      " 8   bathrooms        197035 non-null  float64       \n",
      " 9   surface_total    197035 non-null  float64       \n",
      " 10  surface_covered  197035 non-null  float64       \n",
      " 11  property_type    197035 non-null  object        \n",
      " 12  target           197035 non-null  int64         \n",
      "dtypes: datetime64[ns](2), float64(7), int64(1), object(3)\n",
      "memory usage: 19.5+ MB\n"
     ]
    }
   ],
   "source": [
    "# Verification of how the columns were completed.\n",
    "train.info()"
   ]
  },
  {
   "cell_type": "code",
   "execution_count": 245,
   "metadata": {},
   "outputs": [
    {
     "data": {
      "text/plain": [
       "(197035, 13)"
      ]
     },
     "execution_count": 245,
     "metadata": {},
     "output_type": "execute_result"
    }
   ],
   "source": [
    "train.shape"
   ]
  },
  {
   "cell_type": "markdown",
   "metadata": {},
   "source": [
    "Explain both graphics"
   ]
  },
  {
   "cell_type": "code",
   "execution_count": 246,
   "metadata": {},
   "outputs": [
    {
     "data": {
      "text/plain": [
       "\"sns.pairplot(train[['latitud','longitud', 'rooms', 'bedrooms', 'bathrooms', 'surface_total', 'surface_covered', 'target']], hue='target')\\nplt.show()\""
      ]
     },
     "execution_count": 246,
     "metadata": {},
     "output_type": "execute_result"
    }
   ],
   "source": [
    "'''sns.pairplot(train[['latitud','longitud', 'rooms', 'bedrooms', 'bathrooms', 'surface_total', 'surface_covered', 'target']], hue='target')\n",
    "plt.show()'''"
   ]
  },
  {
   "cell_type": "code",
   "execution_count": 247,
   "metadata": {},
   "outputs": [
    {
     "data": {
      "text/plain": [
       "\"df_num = df[['latitud','longitud', 'rooms', 'bedrooms', 'bathrooms', 'surface_total', 'surface_covered', 'target']]\\ncorrelation = df_num.corr()\\n\\nplt.figure(figsize=(10,10))\\nsns.heatmap(correlation, cbar = True,  annot=True, fmt= '.2f',annot_kws={'size': 15},\\n           xticklabels= correlation, \\n           yticklabels= correlation,\\n           cmap= 'coolwarm')\""
      ]
     },
     "execution_count": 247,
     "metadata": {},
     "output_type": "execute_result"
    }
   ],
   "source": [
    "'''df_num = df[['latitud','longitud', 'rooms', 'bedrooms', 'bathrooms', 'surface_total', 'surface_covered', 'target']]\n",
    "correlation = df_num.corr()\n",
    "\n",
    "plt.figure(figsize=(10,10))\n",
    "sns.heatmap(correlation, cbar = True,  annot=True, fmt= '.2f',annot_kws={'size': 15},\n",
    "           xticklabels= correlation, \n",
    "           yticklabels= correlation,\n",
    "           cmap= 'coolwarm')'''"
   ]
  },
  {
   "cell_type": "markdown",
   "metadata": {},
   "source": [
    "## Outliers"
   ]
  },
  {
   "cell_type": "code",
   "execution_count": 248,
   "metadata": {},
   "outputs": [],
   "source": [
    "# Dataframe Checkpoint\n",
    "df2 = train.copy()"
   ]
  },
  {
   "cell_type": "code",
   "execution_count": 249,
   "metadata": {},
   "outputs": [],
   "source": [
    "train.reset_index(drop=True, inplace=True)"
   ]
  },
  {
   "cell_type": "code",
   "execution_count": 250,
   "metadata": {},
   "outputs": [
    {
     "data": {
      "text/html": [
       "<div>\n",
       "<style scoped>\n",
       "    .dataframe tbody tr th:only-of-type {\n",
       "        vertical-align: middle;\n",
       "    }\n",
       "\n",
       "    .dataframe tbody tr th {\n",
       "        vertical-align: top;\n",
       "    }\n",
       "\n",
       "    .dataframe thead th {\n",
       "        text-align: right;\n",
       "    }\n",
       "</style>\n",
       "<table border=\"1\" class=\"dataframe\">\n",
       "  <thead>\n",
       "    <tr style=\"text-align: right;\">\n",
       "      <th></th>\n",
       "      <th>start_date</th>\n",
       "      <th>end_date</th>\n",
       "      <th>latitud</th>\n",
       "      <th>longitud</th>\n",
       "      <th>departamento</th>\n",
       "      <th>municipio</th>\n",
       "      <th>rooms</th>\n",
       "      <th>bedrooms</th>\n",
       "      <th>bathrooms</th>\n",
       "      <th>surface_total</th>\n",
       "      <th>surface_covered</th>\n",
       "      <th>property_type</th>\n",
       "      <th>target</th>\n",
       "    </tr>\n",
       "  </thead>\n",
       "  <tbody>\n",
       "    <tr>\n",
       "      <th>0</th>\n",
       "      <td>2020-12-14</td>\n",
       "      <td>2022-12-31</td>\n",
       "      <td>6.203000</td>\n",
       "      <td>-75.572000</td>\n",
       "      <td>Antioquia</td>\n",
       "      <td>Medellín</td>\n",
       "      <td>4.0</td>\n",
       "      <td>4.0</td>\n",
       "      <td>4.0</td>\n",
       "      <td>897.0</td>\n",
       "      <td>300.0</td>\n",
       "      <td>Casa</td>\n",
       "      <td>1</td>\n",
       "    </tr>\n",
       "    <tr>\n",
       "      <th>1</th>\n",
       "      <td>2020-09-16</td>\n",
       "      <td>2021-05-14</td>\n",
       "      <td>4.722748</td>\n",
       "      <td>-74.073115</td>\n",
       "      <td>Cundinamarca</td>\n",
       "      <td>Bogotá D.C</td>\n",
       "      <td>3.0</td>\n",
       "      <td>3.0</td>\n",
       "      <td>2.0</td>\n",
       "      <td>108.0</td>\n",
       "      <td>113.0</td>\n",
       "      <td>Apartamento</td>\n",
       "      <td>0</td>\n",
       "    </tr>\n",
       "    <tr>\n",
       "      <th>2</th>\n",
       "      <td>2020-08-19</td>\n",
       "      <td>2020-08-20</td>\n",
       "      <td>4.709000</td>\n",
       "      <td>-74.030000</td>\n",
       "      <td>Cundinamarca</td>\n",
       "      <td>Bogotá D.C</td>\n",
       "      <td>4.0</td>\n",
       "      <td>4.0</td>\n",
       "      <td>2.0</td>\n",
       "      <td>897.0</td>\n",
       "      <td>300.0</td>\n",
       "      <td>Casa</td>\n",
       "      <td>0</td>\n",
       "    </tr>\n",
       "    <tr>\n",
       "      <th>3</th>\n",
       "      <td>2020-11-23</td>\n",
       "      <td>2020-11-30</td>\n",
       "      <td>7.000008</td>\n",
       "      <td>-73.250009</td>\n",
       "      <td>Santander</td>\n",
       "      <td>Bucaramanga</td>\n",
       "      <td>6.0</td>\n",
       "      <td>5.0</td>\n",
       "      <td>1.0</td>\n",
       "      <td>991.0</td>\n",
       "      <td>1010.0</td>\n",
       "      <td>Otro</td>\n",
       "      <td>1</td>\n",
       "    </tr>\n",
       "    <tr>\n",
       "      <th>4</th>\n",
       "      <td>2020-10-06</td>\n",
       "      <td>2020-10-07</td>\n",
       "      <td>7.000008</td>\n",
       "      <td>-75.500009</td>\n",
       "      <td>Antioquia</td>\n",
       "      <td>Medellín</td>\n",
       "      <td>3.0</td>\n",
       "      <td>3.0</td>\n",
       "      <td>2.0</td>\n",
       "      <td>108.0</td>\n",
       "      <td>113.0</td>\n",
       "      <td>Apartamento</td>\n",
       "      <td>0</td>\n",
       "    </tr>\n",
       "    <tr>\n",
       "      <th>...</th>\n",
       "      <td>...</td>\n",
       "      <td>...</td>\n",
       "      <td>...</td>\n",
       "      <td>...</td>\n",
       "      <td>...</td>\n",
       "      <td>...</td>\n",
       "      <td>...</td>\n",
       "      <td>...</td>\n",
       "      <td>...</td>\n",
       "      <td>...</td>\n",
       "      <td>...</td>\n",
       "      <td>...</td>\n",
       "      <td>...</td>\n",
       "    </tr>\n",
       "    <tr>\n",
       "      <th>197030</th>\n",
       "      <td>2020-10-27</td>\n",
       "      <td>2022-12-31</td>\n",
       "      <td>4.649682</td>\n",
       "      <td>-74.161950</td>\n",
       "      <td>Cundinamarca</td>\n",
       "      <td>Bogotá D.C</td>\n",
       "      <td>3.0</td>\n",
       "      <td>3.0</td>\n",
       "      <td>2.0</td>\n",
       "      <td>108.0</td>\n",
       "      <td>113.0</td>\n",
       "      <td>Apartamento</td>\n",
       "      <td>0</td>\n",
       "    </tr>\n",
       "    <tr>\n",
       "      <th>197031</th>\n",
       "      <td>2020-11-27</td>\n",
       "      <td>2020-12-09</td>\n",
       "      <td>4.668000</td>\n",
       "      <td>-74.055000</td>\n",
       "      <td>Cundinamarca</td>\n",
       "      <td>Bogotá D.C</td>\n",
       "      <td>3.0</td>\n",
       "      <td>1.0</td>\n",
       "      <td>1.0</td>\n",
       "      <td>144.0</td>\n",
       "      <td>17.0</td>\n",
       "      <td>Oficina</td>\n",
       "      <td>0</td>\n",
       "    </tr>\n",
       "    <tr>\n",
       "      <th>197032</th>\n",
       "      <td>2020-10-28</td>\n",
       "      <td>2021-01-02</td>\n",
       "      <td>3.413000</td>\n",
       "      <td>-76.541000</td>\n",
       "      <td>Valle del Cauca</td>\n",
       "      <td>Cali</td>\n",
       "      <td>6.0</td>\n",
       "      <td>5.0</td>\n",
       "      <td>1.0</td>\n",
       "      <td>991.0</td>\n",
       "      <td>1010.0</td>\n",
       "      <td>Otro</td>\n",
       "      <td>0</td>\n",
       "    </tr>\n",
       "    <tr>\n",
       "      <th>197033</th>\n",
       "      <td>2020-08-14</td>\n",
       "      <td>2020-08-14</td>\n",
       "      <td>4.674874</td>\n",
       "      <td>-74.147077</td>\n",
       "      <td>Cundinamarca</td>\n",
       "      <td>Bogotá D.C</td>\n",
       "      <td>4.0</td>\n",
       "      <td>4.0</td>\n",
       "      <td>2.0</td>\n",
       "      <td>897.0</td>\n",
       "      <td>300.0</td>\n",
       "      <td>Casa</td>\n",
       "      <td>0</td>\n",
       "    </tr>\n",
       "    <tr>\n",
       "      <th>197034</th>\n",
       "      <td>2020-10-06</td>\n",
       "      <td>2020-11-27</td>\n",
       "      <td>10.935994</td>\n",
       "      <td>-74.802899</td>\n",
       "      <td>Atlántico</td>\n",
       "      <td>Barranquilla</td>\n",
       "      <td>3.0</td>\n",
       "      <td>3.0</td>\n",
       "      <td>1.0</td>\n",
       "      <td>108.0</td>\n",
       "      <td>113.0</td>\n",
       "      <td>Apartamento</td>\n",
       "      <td>0</td>\n",
       "    </tr>\n",
       "  </tbody>\n",
       "</table>\n",
       "<p>197035 rows × 13 columns</p>\n",
       "</div>"
      ],
      "text/plain": [
       "       start_date   end_date    latitud   longitud     departamento  \\\n",
       "0      2020-12-14 2022-12-31   6.203000 -75.572000        Antioquia   \n",
       "1      2020-09-16 2021-05-14   4.722748 -74.073115     Cundinamarca   \n",
       "2      2020-08-19 2020-08-20   4.709000 -74.030000     Cundinamarca   \n",
       "3      2020-11-23 2020-11-30   7.000008 -73.250009        Santander   \n",
       "4      2020-10-06 2020-10-07   7.000008 -75.500009        Antioquia   \n",
       "...           ...        ...        ...        ...              ...   \n",
       "197030 2020-10-27 2022-12-31   4.649682 -74.161950     Cundinamarca   \n",
       "197031 2020-11-27 2020-12-09   4.668000 -74.055000     Cundinamarca   \n",
       "197032 2020-10-28 2021-01-02   3.413000 -76.541000  Valle del Cauca   \n",
       "197033 2020-08-14 2020-08-14   4.674874 -74.147077     Cundinamarca   \n",
       "197034 2020-10-06 2020-11-27  10.935994 -74.802899        Atlántico   \n",
       "\n",
       "           municipio  rooms  bedrooms  bathrooms  surface_total  \\\n",
       "0           Medellín    4.0       4.0        4.0          897.0   \n",
       "1         Bogotá D.C    3.0       3.0        2.0          108.0   \n",
       "2         Bogotá D.C    4.0       4.0        2.0          897.0   \n",
       "3        Bucaramanga    6.0       5.0        1.0          991.0   \n",
       "4           Medellín    3.0       3.0        2.0          108.0   \n",
       "...              ...    ...       ...        ...            ...   \n",
       "197030    Bogotá D.C    3.0       3.0        2.0          108.0   \n",
       "197031    Bogotá D.C    3.0       1.0        1.0          144.0   \n",
       "197032          Cali    6.0       5.0        1.0          991.0   \n",
       "197033    Bogotá D.C    4.0       4.0        2.0          897.0   \n",
       "197034  Barranquilla    3.0       3.0        1.0          108.0   \n",
       "\n",
       "        surface_covered property_type  target  \n",
       "0                 300.0          Casa       1  \n",
       "1                 113.0   Apartamento       0  \n",
       "2                 300.0          Casa       0  \n",
       "3                1010.0          Otro       1  \n",
       "4                 113.0   Apartamento       0  \n",
       "...                 ...           ...     ...  \n",
       "197030            113.0   Apartamento       0  \n",
       "197031             17.0       Oficina       0  \n",
       "197032           1010.0          Otro       0  \n",
       "197033            300.0          Casa       0  \n",
       "197034            113.0   Apartamento       0  \n",
       "\n",
       "[197035 rows x 13 columns]"
      ]
     },
     "execution_count": 250,
     "metadata": {},
     "output_type": "execute_result"
    }
   ],
   "source": [
    "train"
   ]
  },
  {
   "cell_type": "code",
   "execution_count": 251,
   "metadata": {},
   "outputs": [],
   "source": [
    "# Outliers detection will be applicated to the colums latitud, longitud, rooms, bedrooms, surface_total, surface_covered and price.\n",
    "# For each of these columns we will find the intequantile range to erase outliers usinf a for cycle.\n",
    "\n",
    "def outliers(df):\n",
    "    index_to_drop = []\n",
    "    for c in df[['latitud','longitud', 'rooms', 'bedrooms', 'bathrooms', 'surface_total', 'surface_covered']]:\n",
    "        # For each of these columns we will find the quantiles, upper wisker and lower wisker.\n",
    "        q1 = df[c].quantile(0.25)\n",
    "        q3 = df[c].quantile(0.75)\n",
    "        iqr = q3 - q1\n",
    "        uw = q3 + 1.5*iqr\n",
    "        lw = q1 - 1.5*iqr\n",
    "        # Using masks we find the idex of the records that are above or below of the upper and lower wisker.\n",
    "        index_iteration = df[(df[c] < lw) | (df[c] > uw)].index\n",
    "        index_iteration = list(index_iteration)\n",
    "        for i in index_iteration:\n",
    "            if i not in index_to_drop:\n",
    "                # In an empty list we append all the index of the records  that are considered outliers.\n",
    "                index_to_drop.append(i)\n",
    "    return index_to_drop"
   ]
  },
  {
   "cell_type": "code",
   "execution_count": 252,
   "metadata": {},
   "outputs": [],
   "source": [
    "# The index are kept in a variable.\n",
    "outliers = outliers(train)\n",
    "len(outliers)\n",
    "\n",
    "# We drop the outliers and reset the index to avoid future conflicts.\n",
    "train.drop(outliers, axis=0, inplace=True)\n",
    "train.reset_index(drop=True, inplace=True)"
   ]
  },
  {
   "cell_type": "code",
   "execution_count": 253,
   "metadata": {},
   "outputs": [],
   "source": [
    "# Dataframe Checkpoint\n",
    "df3 = train.copy()"
   ]
  },
  {
   "cell_type": "code",
   "execution_count": 436,
   "metadata": {},
   "outputs": [
    {
     "data": {
      "text/html": [
       "<div>\n",
       "<style scoped>\n",
       "    .dataframe tbody tr th:only-of-type {\n",
       "        vertical-align: middle;\n",
       "    }\n",
       "\n",
       "    .dataframe tbody tr th {\n",
       "        vertical-align: top;\n",
       "    }\n",
       "\n",
       "    .dataframe thead th {\n",
       "        text-align: right;\n",
       "    }\n",
       "</style>\n",
       "<table border=\"1\" class=\"dataframe\">\n",
       "  <thead>\n",
       "    <tr style=\"text-align: right;\">\n",
       "      <th></th>\n",
       "      <th>start_date</th>\n",
       "      <th>end_date</th>\n",
       "      <th>latitud</th>\n",
       "      <th>longitud</th>\n",
       "      <th>departamento</th>\n",
       "      <th>municipio</th>\n",
       "      <th>rooms</th>\n",
       "      <th>bedrooms</th>\n",
       "      <th>bathrooms</th>\n",
       "      <th>surface_total</th>\n",
       "      <th>surface_covered</th>\n",
       "      <th>property_type</th>\n",
       "      <th>target</th>\n",
       "    </tr>\n",
       "  </thead>\n",
       "  <tbody>\n",
       "    <tr>\n",
       "      <th>0</th>\n",
       "      <td>2020-12-14</td>\n",
       "      <td>2022-12-31</td>\n",
       "      <td>6.203000</td>\n",
       "      <td>-75.572000</td>\n",
       "      <td>Antioquia</td>\n",
       "      <td>Medellín</td>\n",
       "      <td>4.0</td>\n",
       "      <td>4.0</td>\n",
       "      <td>4.0</td>\n",
       "      <td>897.0</td>\n",
       "      <td>300.0</td>\n",
       "      <td>Casa</td>\n",
       "      <td>1</td>\n",
       "    </tr>\n",
       "    <tr>\n",
       "      <th>1</th>\n",
       "      <td>2020-09-16</td>\n",
       "      <td>2021-05-14</td>\n",
       "      <td>4.722748</td>\n",
       "      <td>-74.073115</td>\n",
       "      <td>Cundinamarca</td>\n",
       "      <td>Bogotá D.C</td>\n",
       "      <td>3.0</td>\n",
       "      <td>3.0</td>\n",
       "      <td>2.0</td>\n",
       "      <td>108.0</td>\n",
       "      <td>113.0</td>\n",
       "      <td>Apartamento</td>\n",
       "      <td>0</td>\n",
       "    </tr>\n",
       "    <tr>\n",
       "      <th>2</th>\n",
       "      <td>2020-08-19</td>\n",
       "      <td>2020-08-20</td>\n",
       "      <td>4.709000</td>\n",
       "      <td>-74.030000</td>\n",
       "      <td>Cundinamarca</td>\n",
       "      <td>Bogotá D.C</td>\n",
       "      <td>4.0</td>\n",
       "      <td>4.0</td>\n",
       "      <td>2.0</td>\n",
       "      <td>897.0</td>\n",
       "      <td>300.0</td>\n",
       "      <td>Casa</td>\n",
       "      <td>0</td>\n",
       "    </tr>\n",
       "    <tr>\n",
       "      <th>3</th>\n",
       "      <td>2020-10-06</td>\n",
       "      <td>2020-10-07</td>\n",
       "      <td>7.000008</td>\n",
       "      <td>-75.500009</td>\n",
       "      <td>Antioquia</td>\n",
       "      <td>Medellín</td>\n",
       "      <td>3.0</td>\n",
       "      <td>3.0</td>\n",
       "      <td>2.0</td>\n",
       "      <td>108.0</td>\n",
       "      <td>113.0</td>\n",
       "      <td>Apartamento</td>\n",
       "      <td>0</td>\n",
       "    </tr>\n",
       "    <tr>\n",
       "      <th>4</th>\n",
       "      <td>2020-12-17</td>\n",
       "      <td>2021-03-04</td>\n",
       "      <td>5.049009</td>\n",
       "      <td>-75.506802</td>\n",
       "      <td>Caldas</td>\n",
       "      <td>Manizales</td>\n",
       "      <td>3.0</td>\n",
       "      <td>3.0</td>\n",
       "      <td>2.0</td>\n",
       "      <td>108.0</td>\n",
       "      <td>113.0</td>\n",
       "      <td>Apartamento</td>\n",
       "      <td>0</td>\n",
       "    </tr>\n",
       "    <tr>\n",
       "      <th>...</th>\n",
       "      <td>...</td>\n",
       "      <td>...</td>\n",
       "      <td>...</td>\n",
       "      <td>...</td>\n",
       "      <td>...</td>\n",
       "      <td>...</td>\n",
       "      <td>...</td>\n",
       "      <td>...</td>\n",
       "      <td>...</td>\n",
       "      <td>...</td>\n",
       "      <td>...</td>\n",
       "      <td>...</td>\n",
       "      <td>...</td>\n",
       "    </tr>\n",
       "    <tr>\n",
       "      <th>131930</th>\n",
       "      <td>2020-12-19</td>\n",
       "      <td>2021-03-02</td>\n",
       "      <td>7.000008</td>\n",
       "      <td>-73.250009</td>\n",
       "      <td>Santander</td>\n",
       "      <td>Bucaramanga</td>\n",
       "      <td>3.0</td>\n",
       "      <td>3.0</td>\n",
       "      <td>2.0</td>\n",
       "      <td>108.0</td>\n",
       "      <td>113.0</td>\n",
       "      <td>Apartamento</td>\n",
       "      <td>0</td>\n",
       "    </tr>\n",
       "    <tr>\n",
       "      <th>131931</th>\n",
       "      <td>2020-11-30</td>\n",
       "      <td>2021-05-19</td>\n",
       "      <td>7.064000</td>\n",
       "      <td>-73.106000</td>\n",
       "      <td>Santander</td>\n",
       "      <td>Floridablanca</td>\n",
       "      <td>3.0</td>\n",
       "      <td>3.0</td>\n",
       "      <td>2.0</td>\n",
       "      <td>108.0</td>\n",
       "      <td>113.0</td>\n",
       "      <td>Apartamento</td>\n",
       "      <td>0</td>\n",
       "    </tr>\n",
       "    <tr>\n",
       "      <th>131932</th>\n",
       "      <td>2020-08-11</td>\n",
       "      <td>2020-08-11</td>\n",
       "      <td>4.636047</td>\n",
       "      <td>-74.147480</td>\n",
       "      <td>Cundinamarca</td>\n",
       "      <td>Bogotá D.C</td>\n",
       "      <td>3.0</td>\n",
       "      <td>3.0</td>\n",
       "      <td>2.0</td>\n",
       "      <td>108.0</td>\n",
       "      <td>113.0</td>\n",
       "      <td>Apartamento</td>\n",
       "      <td>0</td>\n",
       "    </tr>\n",
       "    <tr>\n",
       "      <th>131933</th>\n",
       "      <td>2020-10-27</td>\n",
       "      <td>2022-12-31</td>\n",
       "      <td>4.649682</td>\n",
       "      <td>-74.161950</td>\n",
       "      <td>Cundinamarca</td>\n",
       "      <td>Bogotá D.C</td>\n",
       "      <td>3.0</td>\n",
       "      <td>3.0</td>\n",
       "      <td>2.0</td>\n",
       "      <td>108.0</td>\n",
       "      <td>113.0</td>\n",
       "      <td>Apartamento</td>\n",
       "      <td>0</td>\n",
       "    </tr>\n",
       "    <tr>\n",
       "      <th>131934</th>\n",
       "      <td>2020-08-14</td>\n",
       "      <td>2020-08-14</td>\n",
       "      <td>4.674874</td>\n",
       "      <td>-74.147077</td>\n",
       "      <td>Cundinamarca</td>\n",
       "      <td>Bogotá D.C</td>\n",
       "      <td>4.0</td>\n",
       "      <td>4.0</td>\n",
       "      <td>2.0</td>\n",
       "      <td>897.0</td>\n",
       "      <td>300.0</td>\n",
       "      <td>Casa</td>\n",
       "      <td>0</td>\n",
       "    </tr>\n",
       "  </tbody>\n",
       "</table>\n",
       "<p>131935 rows × 13 columns</p>\n",
       "</div>"
      ],
      "text/plain": [
       "       start_date   end_date   latitud   longitud  departamento  \\\n",
       "0      2020-12-14 2022-12-31  6.203000 -75.572000     Antioquia   \n",
       "1      2020-09-16 2021-05-14  4.722748 -74.073115  Cundinamarca   \n",
       "2      2020-08-19 2020-08-20  4.709000 -74.030000  Cundinamarca   \n",
       "3      2020-10-06 2020-10-07  7.000008 -75.500009     Antioquia   \n",
       "4      2020-12-17 2021-03-04  5.049009 -75.506802        Caldas   \n",
       "...           ...        ...       ...        ...           ...   \n",
       "131930 2020-12-19 2021-03-02  7.000008 -73.250009     Santander   \n",
       "131931 2020-11-30 2021-05-19  7.064000 -73.106000     Santander   \n",
       "131932 2020-08-11 2020-08-11  4.636047 -74.147480  Cundinamarca   \n",
       "131933 2020-10-27 2022-12-31  4.649682 -74.161950  Cundinamarca   \n",
       "131934 2020-08-14 2020-08-14  4.674874 -74.147077  Cundinamarca   \n",
       "\n",
       "            municipio  rooms  bedrooms  bathrooms  surface_total  \\\n",
       "0            Medellín    4.0       4.0        4.0          897.0   \n",
       "1          Bogotá D.C    3.0       3.0        2.0          108.0   \n",
       "2          Bogotá D.C    4.0       4.0        2.0          897.0   \n",
       "3            Medellín    3.0       3.0        2.0          108.0   \n",
       "4           Manizales    3.0       3.0        2.0          108.0   \n",
       "...               ...    ...       ...        ...            ...   \n",
       "131930    Bucaramanga    3.0       3.0        2.0          108.0   \n",
       "131931  Floridablanca    3.0       3.0        2.0          108.0   \n",
       "131932     Bogotá D.C    3.0       3.0        2.0          108.0   \n",
       "131933     Bogotá D.C    3.0       3.0        2.0          108.0   \n",
       "131934     Bogotá D.C    4.0       4.0        2.0          897.0   \n",
       "\n",
       "        surface_covered property_type  target  \n",
       "0                 300.0          Casa       1  \n",
       "1                 113.0   Apartamento       0  \n",
       "2                 300.0          Casa       0  \n",
       "3                 113.0   Apartamento       0  \n",
       "4                 113.0   Apartamento       0  \n",
       "...                 ...           ...     ...  \n",
       "131930            113.0   Apartamento       0  \n",
       "131931            113.0   Apartamento       0  \n",
       "131932            113.0   Apartamento       0  \n",
       "131933            113.0   Apartamento       0  \n",
       "131934            300.0          Casa       0  \n",
       "\n",
       "[131935 rows x 13 columns]"
      ]
     },
     "execution_count": 436,
     "metadata": {},
     "output_type": "execute_result"
    }
   ],
   "source": [
    "df3"
   ]
  },
  {
   "cell_type": "code",
   "execution_count": 442,
   "metadata": {},
   "outputs": [],
   "source": [
    "train = df3"
   ]
  },
  {
   "cell_type": "markdown",
   "metadata": {},
   "source": [
    "## Escalado/normalización"
   ]
  },
  {
   "cell_type": "code",
   "execution_count": 444,
   "metadata": {},
   "outputs": [
    {
     "data": {
      "text/html": [
       "<div>\n",
       "<style scoped>\n",
       "    .dataframe tbody tr th:only-of-type {\n",
       "        vertical-align: middle;\n",
       "    }\n",
       "\n",
       "    .dataframe tbody tr th {\n",
       "        vertical-align: top;\n",
       "    }\n",
       "\n",
       "    .dataframe thead th {\n",
       "        text-align: right;\n",
       "    }\n",
       "</style>\n",
       "<table border=\"1\" class=\"dataframe\">\n",
       "  <thead>\n",
       "    <tr style=\"text-align: right;\">\n",
       "      <th></th>\n",
       "      <th>start_date</th>\n",
       "      <th>end_date</th>\n",
       "      <th>latitud</th>\n",
       "      <th>longitud</th>\n",
       "      <th>departamento</th>\n",
       "      <th>municipio</th>\n",
       "      <th>rooms</th>\n",
       "      <th>bedrooms</th>\n",
       "      <th>bathrooms</th>\n",
       "      <th>surface_total</th>\n",
       "      <th>surface_covered</th>\n",
       "      <th>property_type</th>\n",
       "      <th>target</th>\n",
       "    </tr>\n",
       "  </thead>\n",
       "  <tbody>\n",
       "    <tr>\n",
       "      <th>0</th>\n",
       "      <td>2020-12-14</td>\n",
       "      <td>2022-12-31</td>\n",
       "      <td>6.203000</td>\n",
       "      <td>-75.572000</td>\n",
       "      <td>Antioquia</td>\n",
       "      <td>Medellín</td>\n",
       "      <td>4.0</td>\n",
       "      <td>4.0</td>\n",
       "      <td>4.0</td>\n",
       "      <td>897.0</td>\n",
       "      <td>300.0</td>\n",
       "      <td>Casa</td>\n",
       "      <td>1</td>\n",
       "    </tr>\n",
       "    <tr>\n",
       "      <th>1</th>\n",
       "      <td>2020-09-16</td>\n",
       "      <td>2021-05-14</td>\n",
       "      <td>4.722748</td>\n",
       "      <td>-74.073115</td>\n",
       "      <td>Cundinamarca</td>\n",
       "      <td>Bogotá D.C</td>\n",
       "      <td>3.0</td>\n",
       "      <td>3.0</td>\n",
       "      <td>2.0</td>\n",
       "      <td>108.0</td>\n",
       "      <td>113.0</td>\n",
       "      <td>Apartamento</td>\n",
       "      <td>0</td>\n",
       "    </tr>\n",
       "    <tr>\n",
       "      <th>2</th>\n",
       "      <td>2020-08-19</td>\n",
       "      <td>2020-08-20</td>\n",
       "      <td>4.709000</td>\n",
       "      <td>-74.030000</td>\n",
       "      <td>Cundinamarca</td>\n",
       "      <td>Bogotá D.C</td>\n",
       "      <td>4.0</td>\n",
       "      <td>4.0</td>\n",
       "      <td>2.0</td>\n",
       "      <td>897.0</td>\n",
       "      <td>300.0</td>\n",
       "      <td>Casa</td>\n",
       "      <td>0</td>\n",
       "    </tr>\n",
       "    <tr>\n",
       "      <th>3</th>\n",
       "      <td>2020-10-06</td>\n",
       "      <td>2020-10-07</td>\n",
       "      <td>7.000008</td>\n",
       "      <td>-75.500009</td>\n",
       "      <td>Antioquia</td>\n",
       "      <td>Medellín</td>\n",
       "      <td>3.0</td>\n",
       "      <td>3.0</td>\n",
       "      <td>2.0</td>\n",
       "      <td>108.0</td>\n",
       "      <td>113.0</td>\n",
       "      <td>Apartamento</td>\n",
       "      <td>0</td>\n",
       "    </tr>\n",
       "    <tr>\n",
       "      <th>4</th>\n",
       "      <td>2020-12-17</td>\n",
       "      <td>2021-03-04</td>\n",
       "      <td>5.049009</td>\n",
       "      <td>-75.506802</td>\n",
       "      <td>Caldas</td>\n",
       "      <td>Manizales</td>\n",
       "      <td>3.0</td>\n",
       "      <td>3.0</td>\n",
       "      <td>2.0</td>\n",
       "      <td>108.0</td>\n",
       "      <td>113.0</td>\n",
       "      <td>Apartamento</td>\n",
       "      <td>0</td>\n",
       "    </tr>\n",
       "    <tr>\n",
       "      <th>...</th>\n",
       "      <td>...</td>\n",
       "      <td>...</td>\n",
       "      <td>...</td>\n",
       "      <td>...</td>\n",
       "      <td>...</td>\n",
       "      <td>...</td>\n",
       "      <td>...</td>\n",
       "      <td>...</td>\n",
       "      <td>...</td>\n",
       "      <td>...</td>\n",
       "      <td>...</td>\n",
       "      <td>...</td>\n",
       "      <td>...</td>\n",
       "    </tr>\n",
       "    <tr>\n",
       "      <th>131930</th>\n",
       "      <td>2020-12-19</td>\n",
       "      <td>2021-03-02</td>\n",
       "      <td>7.000008</td>\n",
       "      <td>-73.250009</td>\n",
       "      <td>Santander</td>\n",
       "      <td>Bucaramanga</td>\n",
       "      <td>3.0</td>\n",
       "      <td>3.0</td>\n",
       "      <td>2.0</td>\n",
       "      <td>108.0</td>\n",
       "      <td>113.0</td>\n",
       "      <td>Apartamento</td>\n",
       "      <td>0</td>\n",
       "    </tr>\n",
       "    <tr>\n",
       "      <th>131931</th>\n",
       "      <td>2020-11-30</td>\n",
       "      <td>2021-05-19</td>\n",
       "      <td>7.064000</td>\n",
       "      <td>-73.106000</td>\n",
       "      <td>Santander</td>\n",
       "      <td>Floridablanca</td>\n",
       "      <td>3.0</td>\n",
       "      <td>3.0</td>\n",
       "      <td>2.0</td>\n",
       "      <td>108.0</td>\n",
       "      <td>113.0</td>\n",
       "      <td>Apartamento</td>\n",
       "      <td>0</td>\n",
       "    </tr>\n",
       "    <tr>\n",
       "      <th>131932</th>\n",
       "      <td>2020-08-11</td>\n",
       "      <td>2020-08-11</td>\n",
       "      <td>4.636047</td>\n",
       "      <td>-74.147480</td>\n",
       "      <td>Cundinamarca</td>\n",
       "      <td>Bogotá D.C</td>\n",
       "      <td>3.0</td>\n",
       "      <td>3.0</td>\n",
       "      <td>2.0</td>\n",
       "      <td>108.0</td>\n",
       "      <td>113.0</td>\n",
       "      <td>Apartamento</td>\n",
       "      <td>0</td>\n",
       "    </tr>\n",
       "    <tr>\n",
       "      <th>131933</th>\n",
       "      <td>2020-10-27</td>\n",
       "      <td>2022-12-31</td>\n",
       "      <td>4.649682</td>\n",
       "      <td>-74.161950</td>\n",
       "      <td>Cundinamarca</td>\n",
       "      <td>Bogotá D.C</td>\n",
       "      <td>3.0</td>\n",
       "      <td>3.0</td>\n",
       "      <td>2.0</td>\n",
       "      <td>108.0</td>\n",
       "      <td>113.0</td>\n",
       "      <td>Apartamento</td>\n",
       "      <td>0</td>\n",
       "    </tr>\n",
       "    <tr>\n",
       "      <th>131934</th>\n",
       "      <td>2020-08-14</td>\n",
       "      <td>2020-08-14</td>\n",
       "      <td>4.674874</td>\n",
       "      <td>-74.147077</td>\n",
       "      <td>Cundinamarca</td>\n",
       "      <td>Bogotá D.C</td>\n",
       "      <td>4.0</td>\n",
       "      <td>4.0</td>\n",
       "      <td>2.0</td>\n",
       "      <td>897.0</td>\n",
       "      <td>300.0</td>\n",
       "      <td>Casa</td>\n",
       "      <td>0</td>\n",
       "    </tr>\n",
       "  </tbody>\n",
       "</table>\n",
       "<p>131935 rows × 13 columns</p>\n",
       "</div>"
      ],
      "text/plain": [
       "       start_date   end_date   latitud   longitud  departamento  \\\n",
       "0      2020-12-14 2022-12-31  6.203000 -75.572000     Antioquia   \n",
       "1      2020-09-16 2021-05-14  4.722748 -74.073115  Cundinamarca   \n",
       "2      2020-08-19 2020-08-20  4.709000 -74.030000  Cundinamarca   \n",
       "3      2020-10-06 2020-10-07  7.000008 -75.500009     Antioquia   \n",
       "4      2020-12-17 2021-03-04  5.049009 -75.506802        Caldas   \n",
       "...           ...        ...       ...        ...           ...   \n",
       "131930 2020-12-19 2021-03-02  7.000008 -73.250009     Santander   \n",
       "131931 2020-11-30 2021-05-19  7.064000 -73.106000     Santander   \n",
       "131932 2020-08-11 2020-08-11  4.636047 -74.147480  Cundinamarca   \n",
       "131933 2020-10-27 2022-12-31  4.649682 -74.161950  Cundinamarca   \n",
       "131934 2020-08-14 2020-08-14  4.674874 -74.147077  Cundinamarca   \n",
       "\n",
       "            municipio  rooms  bedrooms  bathrooms  surface_total  \\\n",
       "0            Medellín    4.0       4.0        4.0          897.0   \n",
       "1          Bogotá D.C    3.0       3.0        2.0          108.0   \n",
       "2          Bogotá D.C    4.0       4.0        2.0          897.0   \n",
       "3            Medellín    3.0       3.0        2.0          108.0   \n",
       "4           Manizales    3.0       3.0        2.0          108.0   \n",
       "...               ...    ...       ...        ...            ...   \n",
       "131930    Bucaramanga    3.0       3.0        2.0          108.0   \n",
       "131931  Floridablanca    3.0       3.0        2.0          108.0   \n",
       "131932     Bogotá D.C    3.0       3.0        2.0          108.0   \n",
       "131933     Bogotá D.C    3.0       3.0        2.0          108.0   \n",
       "131934     Bogotá D.C    4.0       4.0        2.0          897.0   \n",
       "\n",
       "        surface_covered property_type  target  \n",
       "0                 300.0          Casa       1  \n",
       "1                 113.0   Apartamento       0  \n",
       "2                 300.0          Casa       0  \n",
       "3                 113.0   Apartamento       0  \n",
       "4                 113.0   Apartamento       0  \n",
       "...                 ...           ...     ...  \n",
       "131930            113.0   Apartamento       0  \n",
       "131931            113.0   Apartamento       0  \n",
       "131932            113.0   Apartamento       0  \n",
       "131933            113.0   Apartamento       0  \n",
       "131934            300.0          Casa       0  \n",
       "\n",
       "[131935 rows x 13 columns]"
      ]
     },
     "execution_count": 444,
     "metadata": {},
     "output_type": "execute_result"
    }
   ],
   "source": [
    "train"
   ]
  },
  {
   "cell_type": "code",
   "execution_count": 445,
   "metadata": {},
   "outputs": [
    {
     "data": {
      "text/html": [
       "<div>\n",
       "<style scoped>\n",
       "    .dataframe tbody tr th:only-of-type {\n",
       "        vertical-align: middle;\n",
       "    }\n",
       "\n",
       "    .dataframe tbody tr th {\n",
       "        vertical-align: top;\n",
       "    }\n",
       "\n",
       "    .dataframe thead th {\n",
       "        text-align: right;\n",
       "    }\n",
       "</style>\n",
       "<table border=\"1\" class=\"dataframe\">\n",
       "  <thead>\n",
       "    <tr style=\"text-align: right;\">\n",
       "      <th></th>\n",
       "      <th>latitud</th>\n",
       "      <th>longitud</th>\n",
       "      <th>rooms</th>\n",
       "      <th>bedrooms</th>\n",
       "      <th>bathrooms</th>\n",
       "      <th>surface_total</th>\n",
       "      <th>surface_covered</th>\n",
       "    </tr>\n",
       "  </thead>\n",
       "  <tbody>\n",
       "    <tr>\n",
       "      <th>0</th>\n",
       "      <td>6.203000</td>\n",
       "      <td>-75.572000</td>\n",
       "      <td>4.0</td>\n",
       "      <td>4.0</td>\n",
       "      <td>4.0</td>\n",
       "      <td>897.0</td>\n",
       "      <td>300.0</td>\n",
       "    </tr>\n",
       "    <tr>\n",
       "      <th>1</th>\n",
       "      <td>4.722748</td>\n",
       "      <td>-74.073115</td>\n",
       "      <td>3.0</td>\n",
       "      <td>3.0</td>\n",
       "      <td>2.0</td>\n",
       "      <td>108.0</td>\n",
       "      <td>113.0</td>\n",
       "    </tr>\n",
       "    <tr>\n",
       "      <th>2</th>\n",
       "      <td>4.709000</td>\n",
       "      <td>-74.030000</td>\n",
       "      <td>4.0</td>\n",
       "      <td>4.0</td>\n",
       "      <td>2.0</td>\n",
       "      <td>897.0</td>\n",
       "      <td>300.0</td>\n",
       "    </tr>\n",
       "    <tr>\n",
       "      <th>3</th>\n",
       "      <td>7.000008</td>\n",
       "      <td>-75.500009</td>\n",
       "      <td>3.0</td>\n",
       "      <td>3.0</td>\n",
       "      <td>2.0</td>\n",
       "      <td>108.0</td>\n",
       "      <td>113.0</td>\n",
       "    </tr>\n",
       "    <tr>\n",
       "      <th>4</th>\n",
       "      <td>5.049009</td>\n",
       "      <td>-75.506802</td>\n",
       "      <td>3.0</td>\n",
       "      <td>3.0</td>\n",
       "      <td>2.0</td>\n",
       "      <td>108.0</td>\n",
       "      <td>113.0</td>\n",
       "    </tr>\n",
       "    <tr>\n",
       "      <th>...</th>\n",
       "      <td>...</td>\n",
       "      <td>...</td>\n",
       "      <td>...</td>\n",
       "      <td>...</td>\n",
       "      <td>...</td>\n",
       "      <td>...</td>\n",
       "      <td>...</td>\n",
       "    </tr>\n",
       "    <tr>\n",
       "      <th>131930</th>\n",
       "      <td>7.000008</td>\n",
       "      <td>-73.250009</td>\n",
       "      <td>3.0</td>\n",
       "      <td>3.0</td>\n",
       "      <td>2.0</td>\n",
       "      <td>108.0</td>\n",
       "      <td>113.0</td>\n",
       "    </tr>\n",
       "    <tr>\n",
       "      <th>131931</th>\n",
       "      <td>7.064000</td>\n",
       "      <td>-73.106000</td>\n",
       "      <td>3.0</td>\n",
       "      <td>3.0</td>\n",
       "      <td>2.0</td>\n",
       "      <td>108.0</td>\n",
       "      <td>113.0</td>\n",
       "    </tr>\n",
       "    <tr>\n",
       "      <th>131932</th>\n",
       "      <td>4.636047</td>\n",
       "      <td>-74.147480</td>\n",
       "      <td>3.0</td>\n",
       "      <td>3.0</td>\n",
       "      <td>2.0</td>\n",
       "      <td>108.0</td>\n",
       "      <td>113.0</td>\n",
       "    </tr>\n",
       "    <tr>\n",
       "      <th>131933</th>\n",
       "      <td>4.649682</td>\n",
       "      <td>-74.161950</td>\n",
       "      <td>3.0</td>\n",
       "      <td>3.0</td>\n",
       "      <td>2.0</td>\n",
       "      <td>108.0</td>\n",
       "      <td>113.0</td>\n",
       "    </tr>\n",
       "    <tr>\n",
       "      <th>131934</th>\n",
       "      <td>4.674874</td>\n",
       "      <td>-74.147077</td>\n",
       "      <td>4.0</td>\n",
       "      <td>4.0</td>\n",
       "      <td>2.0</td>\n",
       "      <td>897.0</td>\n",
       "      <td>300.0</td>\n",
       "    </tr>\n",
       "  </tbody>\n",
       "</table>\n",
       "<p>131935 rows × 7 columns</p>\n",
       "</div>"
      ],
      "text/plain": [
       "         latitud   longitud  rooms  bedrooms  bathrooms  surface_total  \\\n",
       "0       6.203000 -75.572000    4.0       4.0        4.0          897.0   \n",
       "1       4.722748 -74.073115    3.0       3.0        2.0          108.0   \n",
       "2       4.709000 -74.030000    4.0       4.0        2.0          897.0   \n",
       "3       7.000008 -75.500009    3.0       3.0        2.0          108.0   \n",
       "4       5.049009 -75.506802    3.0       3.0        2.0          108.0   \n",
       "...          ...        ...    ...       ...        ...            ...   \n",
       "131930  7.000008 -73.250009    3.0       3.0        2.0          108.0   \n",
       "131931  7.064000 -73.106000    3.0       3.0        2.0          108.0   \n",
       "131932  4.636047 -74.147480    3.0       3.0        2.0          108.0   \n",
       "131933  4.649682 -74.161950    3.0       3.0        2.0          108.0   \n",
       "131934  4.674874 -74.147077    4.0       4.0        2.0          897.0   \n",
       "\n",
       "        surface_covered  \n",
       "0                 300.0  \n",
       "1                 113.0  \n",
       "2                 300.0  \n",
       "3                 113.0  \n",
       "4                 113.0  \n",
       "...                 ...  \n",
       "131930            113.0  \n",
       "131931            113.0  \n",
       "131932            113.0  \n",
       "131933            113.0  \n",
       "131934            300.0  \n",
       "\n",
       "[131935 rows x 7 columns]"
      ]
     },
     "execution_count": 445,
     "metadata": {},
     "output_type": "execute_result"
    }
   ],
   "source": [
    "df_num = train[['latitud','longitud', 'rooms', 'bedrooms', 'bathrooms', 'surface_total', 'surface_covered']]\n",
    "df_num"
   ]
  },
  {
   "cell_type": "code",
   "execution_count": 446,
   "metadata": {},
   "outputs": [
    {
     "name": "stdout",
     "output_type": "stream",
     "text": [
      "<class 'pandas.core.frame.DataFrame'>\n",
      "RangeIndex: 131935 entries, 0 to 131934\n",
      "Data columns (total 7 columns):\n",
      " #   Column           Non-Null Count   Dtype  \n",
      "---  ------           --------------   -----  \n",
      " 0   latitud          131935 non-null  float64\n",
      " 1   longitud         131935 non-null  float64\n",
      " 2   rooms            131935 non-null  float64\n",
      " 3   bedrooms         131935 non-null  float64\n",
      " 4   bathrooms        131935 non-null  float64\n",
      " 5   surface_total    131935 non-null  float64\n",
      " 6   surface_covered  131935 non-null  float64\n",
      "dtypes: float64(7)\n",
      "memory usage: 7.0 MB\n"
     ]
    }
   ],
   "source": [
    "# Verifying that the data is complete.\n",
    "df_num.info()"
   ]
  },
  {
   "cell_type": "code",
   "execution_count": 447,
   "metadata": {},
   "outputs": [],
   "source": [
    "# As the numerical variables have different measure scales and distributions, we are going to normalize the data using sklearn pre-processing functions.\n",
    "# As there are several functions to rescale the data, we are going to apply a buch of them and see which one has better results.\n",
    "\n",
    "# Import the desire library\n",
    "from sklearn import preprocessing"
   ]
  },
  {
   "cell_type": "code",
   "execution_count": 448,
   "metadata": {},
   "outputs": [
    {
     "data": {
      "text/plain": [
       "array([[0.53800501, 0.33867969, 0.66666667, ..., 1.        , 0.43100926,\n",
       "        0.5164076 ],\n",
       "       [0.37972072, 0.61571351, 0.33333333, ..., 0.33333333, 0.04631887,\n",
       "        0.19343696],\n",
       "       [0.37825059, 0.62368223, 0.66666667, ..., 0.33333333, 0.43100926,\n",
       "        0.5164076 ],\n",
       "       ...,\n",
       "       [0.37044971, 0.60196886, 0.33333333, ..., 0.33333333, 0.04631887,\n",
       "        0.19343696],\n",
       "       [0.37190768, 0.5992943 , 0.33333333, ..., 0.33333333, 0.04631887,\n",
       "        0.19343696],\n",
       "       [0.37460151, 0.60204331, 0.66666667, ..., 0.33333333, 0.43100926,\n",
       "        0.5164076 ]])"
      ]
     },
     "execution_count": 448,
     "metadata": {},
     "output_type": "execute_result"
    }
   ],
   "source": [
    "# The MinMax scale the data taking the max and min value.It transform features by scaling each feature to a given range.\n",
    "# The fit_transform receive the data and then transform and changed to numpy arrays.\n",
    "data_min_max = preprocessing.MinMaxScaler().fit_transform(df_num)\n",
    "data_min_max"
   ]
  },
  {
   "cell_type": "code",
   "execution_count": 449,
   "metadata": {},
   "outputs": [
    {
     "data": {
      "text/plain": [
       "array([[ 0.00296832, -0.00276899,  0.00330219, ...,  0.00446689,\n",
       "         0.00476806,  0.00424204],\n",
       "       [ 0.00225998, -0.00271407,  0.00247664, ...,  0.00223345,\n",
       "         0.00057408,  0.00159783],\n",
       "       [ 0.0022534 , -0.00271249,  0.00330219, ...,  0.00223345,\n",
       "         0.00476806,  0.00424204],\n",
       "       ...,\n",
       "       [ 0.00221849, -0.00271679,  0.00247664, ...,  0.00223345,\n",
       "         0.00057408,  0.00159783],\n",
       "       [ 0.00222501, -0.00271732,  0.00247664, ...,  0.00223345,\n",
       "         0.00057408,  0.00159783],\n",
       "       [ 0.00223707, -0.00271678,  0.00330219, ...,  0.00223345,\n",
       "         0.00476806,  0.00424204]])"
      ]
     },
     "execution_count": 449,
     "metadata": {},
     "output_type": "execute_result"
    }
   ],
   "source": [
    "# This function normalize the data using the magnitud of each vector (feature). It normalize samples individually to unit norm, in which each sample (each row of the data)\n",
    "# is rescaled independently of other samples so that its norm  equals one.\n",
    "\n",
    "# As the normalizer function works with the rows and not the columns we use the transpossed.\n",
    "data_normalized = preprocessing.Normalizer().fit_transform(df_num.T)\n",
    "data_normalized = data_normalized.T\n",
    "data_normalized"
   ]
  },
  {
   "cell_type": "code",
   "execution_count": 450,
   "metadata": {},
   "outputs": [
    {
     "data": {
      "text/plain": [
       "(array([[ 0.43090006, -0.4193246 ,  1.33604081, ...,  2.06019651,\n",
       "          1.44535292,  1.43042643],\n",
       "        [-0.54604636,  1.00490125, -0.55249797, ..., -0.40400057,\n",
       "         -0.68984661, -0.68300815],\n",
       "        [-0.55512019,  1.04586831,  1.33604081, ..., -0.40400057,\n",
       "          1.44535292,  1.43042643],\n",
       "        ...,\n",
       "        [-0.60326801,  0.93424028, -0.55249797, ..., -0.40400057,\n",
       "         -0.68984661, -0.68300815],\n",
       "        [-0.59426929,  0.92049037, -0.55249797, ..., -0.40400057,\n",
       "         -0.68984661, -0.68300815],\n",
       "        [-0.5776427 ,  0.93462301,  1.33604081, ..., -0.40400057,\n",
       "          1.44535292,  1.43042643]]),\n",
       " array([[ 0.47560353, -0.04854447,  1.        , ...,  2.        ,\n",
       "          1.        ,  1.        ],\n",
       "        [-0.15215144,  0.96216786,  0.        , ...,  0.        ,\n",
       "          0.        ,  0.        ],\n",
       "        [-0.157982  ,  0.99124044,  1.        , ...,  0.        ,\n",
       "          1.        ,  1.        ],\n",
       "        ...,\n",
       "        [-0.18892027,  0.91202279,  0.        , ...,  0.        ,\n",
       "          0.        ,  0.        ],\n",
       "        [-0.18313797,  0.90226506,  0.        , ...,  0.        ,\n",
       "          0.        ,  0.        ],\n",
       "        [-0.17245425,  0.91229439,  1.        , ...,  0.        ,\n",
       "          1.        ,  1.        ]]))"
      ]
     },
     "execution_count": 450,
     "metadata": {},
     "output_type": "execute_result"
    }
   ],
   "source": [
    "# It works changing the data to obtain a standard deviation of 1 and a mean of 0, as some ml models work under the premise of data with a normal distribution.\n",
    "\n",
    "# It transform features by scaling each feature to a given range usign the mean value of each feature.\n",
    "data_standardized = preprocessing.StandardScaler().fit_transform(df_num)\n",
    "\n",
    "# It transform features by scaling each feature to a given range usign the interquantile range of each feature. This functions work under the premise of avoiding outliers because they make noise.\n",
    "data_standardized_robust = preprocessing.RobustScaler().fit_transform(df_num)\n",
    "\n",
    "data_standardized, data_standardized_robust"
   ]
  },
  {
   "cell_type": "code",
   "execution_count": 451,
   "metadata": {},
   "outputs": [
    {
     "data": {
      "image/png": "[encoded data removed]",
      "text/plain": [
       "<Figure size 1500x300 with 5 Axes>"
      ]
     },
     "metadata": {},
     "output_type": "display_data"
    },
    {
     "data": {
      "image/png": "[encoded data removed]",
      "text/plain": [
       "<Figure size 1500x300 with 5 Axes>"
      ]
     },
     "metadata": {},
     "output_type": "display_data"
    }
   ],
   "source": [
    "# Conversion of numpy arrays (vectors) into Dataframes to graph them.\n",
    "data_min_max = pd.DataFrame(data_min_max, columns=['latitud','longitud', 'rooms', 'bedrooms', 'bathrooms', 'surface_total', 'surface_covered'])\n",
    "data_normalized = pd.DataFrame(data_normalized, columns=['latitud','longitud', 'rooms', 'bedrooms', 'bathrooms', 'surface_total', 'surface_covered'])\n",
    "c = pd.DataFrame(data_standardized, columns=['latitud','longitud', 'rooms', 'bedrooms', 'bathrooms', 'surface_total', 'surface_covered'])\n",
    "data_standardized_robust = pd.DataFrame(data_standardized_robust, columns=['latitud','longitud', 'rooms', 'bedrooms', 'bathrooms', 'surface_total', 'surface_covered'])\n",
    "\n",
    "# Creation of a figure of 5 subplots to compare the methods appleid.\n",
    "fig = plt.figure(figsize = (15,3))\n",
    "ax1 = fig.add_subplot(1, 5, 1)\n",
    "ax2 = fig.add_subplot(1, 5, 2)\n",
    "ax3 = fig.add_subplot(1, 5, 3)\n",
    "ax4 = fig.add_subplot(1, 5, 4)\n",
    "ax5 = fig.add_subplot(1, 5, 5)\n",
    "\n",
    "# Personalization of the different subplots.\n",
    "ax1.set_title('bathrooms')\n",
    "ax1.plot(df_num['bathrooms'], linewidth = 0, marker = '*', color='r', markersize = 3)\n",
    "\n",
    "ax2.set_title('Min Max')\n",
    "ax2.plot(data_min_max['bathrooms'], linewidth = 0, marker = '*', color='r', markersize = 3)\n",
    "\n",
    "ax3.set_title('Normalizer')\n",
    "ax3.plot(data_normalized['bathrooms'], linewidth = 0, marker = '*', color='r', markersize = 3)\n",
    "ax3.set_ylim(0, 1)\n",
    "\n",
    "ax4.set_title('Standard Scaler')\n",
    "ax4.plot(data_standardized['bathrooms'], linewidth = 0, marker = '*', color='r', markersize = 3)\n",
    "\n",
    "ax5.set_title('Robust Scaler')\n",
    "ax5.plot(data_standardized_robust['bathrooms'], linewidth = 0, marker = '*', color='r', markersize = 3)\n",
    "\n",
    "plt.show()\n",
    "\n",
    "# Creation of a figure of 5 subplots to illustrate the histograms.\n",
    "fig = plt.figure(figsize = (15,3))\n",
    "ax1 = fig.add_subplot(1, 5, 1)\n",
    "ax2 = fig.add_subplot(1, 5, 2)\n",
    "ax3 = fig.add_subplot(1, 5, 3)\n",
    "ax4 = fig.add_subplot(1, 5, 4)\n",
    "ax5 = fig.add_subplot(1, 5, 5)\n",
    "\n",
    "ax1.set_title('bathrooms')\n",
    "ax1.hist(df_num['bathrooms'], linewidth = 0, color='r', bins=5)\n",
    "\n",
    "ax2.set_title('Min Max')\n",
    "ax2.hist(data_min_max['bathrooms'], linewidth = 0, color='r', bins=5)\n",
    "\n",
    "ax3.set_title('Normalizer')\n",
    "ax3.hist(data_normalized['bathrooms'], linewidth = 0, color='r', bins=5)\n",
    "\n",
    "ax4.set_title('Standard Scaler')\n",
    "ax4.hist(data_standardized['bathrooms'], linewidth = 0, color='r', bins=5)\n",
    "\n",
    "ax5.set_title('Robust Scaler')\n",
    "ax5.hist(data_standardized_robust['bathrooms'], linewidth = 0, color='r', bins=5)\n",
    "\n",
    "plt.show()"
   ]
  },
  {
   "cell_type": "code",
   "execution_count": null,
   "metadata": {},
   "outputs": [],
   "source": [
    "# We graph the information for bathrooms as is the feature with higher correlation with the column target.\n",
    "# As we can see the data has been normalized and it all look the same. However we can see that in the histograms the scale range has change. In the scatter plots that looks like line in the y axis we can see tjat the data have different scales."
   ]
  },
  {
   "cell_type": "code",
   "execution_count": 452,
   "metadata": {},
   "outputs": [],
   "source": [
    "# Dataframe checkpoint\n",
    "df4 = train.copy()"
   ]
  },
  {
   "cell_type": "code",
   "execution_count": 453,
   "metadata": {},
   "outputs": [
    {
     "data": {
      "text/html": [
       "<div>\n",
       "<style scoped>\n",
       "    .dataframe tbody tr th:only-of-type {\n",
       "        vertical-align: middle;\n",
       "    }\n",
       "\n",
       "    .dataframe tbody tr th {\n",
       "        vertical-align: top;\n",
       "    }\n",
       "\n",
       "    .dataframe thead th {\n",
       "        text-align: right;\n",
       "    }\n",
       "</style>\n",
       "<table border=\"1\" class=\"dataframe\">\n",
       "  <thead>\n",
       "    <tr style=\"text-align: right;\">\n",
       "      <th></th>\n",
       "      <th>start_date</th>\n",
       "      <th>end_date</th>\n",
       "      <th>latitud</th>\n",
       "      <th>longitud</th>\n",
       "      <th>departamento</th>\n",
       "      <th>municipio</th>\n",
       "      <th>rooms</th>\n",
       "      <th>bedrooms</th>\n",
       "      <th>bathrooms</th>\n",
       "      <th>surface_total</th>\n",
       "      <th>surface_covered</th>\n",
       "      <th>property_type</th>\n",
       "      <th>target</th>\n",
       "    </tr>\n",
       "  </thead>\n",
       "  <tbody>\n",
       "    <tr>\n",
       "      <th>0</th>\n",
       "      <td>2020-12-14</td>\n",
       "      <td>2022-12-31</td>\n",
       "      <td>6.203000</td>\n",
       "      <td>-75.572000</td>\n",
       "      <td>Antioquia</td>\n",
       "      <td>Medellín</td>\n",
       "      <td>4.0</td>\n",
       "      <td>4.0</td>\n",
       "      <td>4.0</td>\n",
       "      <td>897.0</td>\n",
       "      <td>300.0</td>\n",
       "      <td>Casa</td>\n",
       "      <td>1</td>\n",
       "    </tr>\n",
       "    <tr>\n",
       "      <th>1</th>\n",
       "      <td>2020-09-16</td>\n",
       "      <td>2021-05-14</td>\n",
       "      <td>4.722748</td>\n",
       "      <td>-74.073115</td>\n",
       "      <td>Cundinamarca</td>\n",
       "      <td>Bogotá D.C</td>\n",
       "      <td>3.0</td>\n",
       "      <td>3.0</td>\n",
       "      <td>2.0</td>\n",
       "      <td>108.0</td>\n",
       "      <td>113.0</td>\n",
       "      <td>Apartamento</td>\n",
       "      <td>0</td>\n",
       "    </tr>\n",
       "    <tr>\n",
       "      <th>2</th>\n",
       "      <td>2020-08-19</td>\n",
       "      <td>2020-08-20</td>\n",
       "      <td>4.709000</td>\n",
       "      <td>-74.030000</td>\n",
       "      <td>Cundinamarca</td>\n",
       "      <td>Bogotá D.C</td>\n",
       "      <td>4.0</td>\n",
       "      <td>4.0</td>\n",
       "      <td>2.0</td>\n",
       "      <td>897.0</td>\n",
       "      <td>300.0</td>\n",
       "      <td>Casa</td>\n",
       "      <td>0</td>\n",
       "    </tr>\n",
       "    <tr>\n",
       "      <th>3</th>\n",
       "      <td>2020-10-06</td>\n",
       "      <td>2020-10-07</td>\n",
       "      <td>7.000008</td>\n",
       "      <td>-75.500009</td>\n",
       "      <td>Antioquia</td>\n",
       "      <td>Medellín</td>\n",
       "      <td>3.0</td>\n",
       "      <td>3.0</td>\n",
       "      <td>2.0</td>\n",
       "      <td>108.0</td>\n",
       "      <td>113.0</td>\n",
       "      <td>Apartamento</td>\n",
       "      <td>0</td>\n",
       "    </tr>\n",
       "    <tr>\n",
       "      <th>4</th>\n",
       "      <td>2020-12-17</td>\n",
       "      <td>2021-03-04</td>\n",
       "      <td>5.049009</td>\n",
       "      <td>-75.506802</td>\n",
       "      <td>Caldas</td>\n",
       "      <td>Manizales</td>\n",
       "      <td>3.0</td>\n",
       "      <td>3.0</td>\n",
       "      <td>2.0</td>\n",
       "      <td>108.0</td>\n",
       "      <td>113.0</td>\n",
       "      <td>Apartamento</td>\n",
       "      <td>0</td>\n",
       "    </tr>\n",
       "    <tr>\n",
       "      <th>...</th>\n",
       "      <td>...</td>\n",
       "      <td>...</td>\n",
       "      <td>...</td>\n",
       "      <td>...</td>\n",
       "      <td>...</td>\n",
       "      <td>...</td>\n",
       "      <td>...</td>\n",
       "      <td>...</td>\n",
       "      <td>...</td>\n",
       "      <td>...</td>\n",
       "      <td>...</td>\n",
       "      <td>...</td>\n",
       "      <td>...</td>\n",
       "    </tr>\n",
       "    <tr>\n",
       "      <th>131930</th>\n",
       "      <td>2020-12-19</td>\n",
       "      <td>2021-03-02</td>\n",
       "      <td>7.000008</td>\n",
       "      <td>-73.250009</td>\n",
       "      <td>Santander</td>\n",
       "      <td>Bucaramanga</td>\n",
       "      <td>3.0</td>\n",
       "      <td>3.0</td>\n",
       "      <td>2.0</td>\n",
       "      <td>108.0</td>\n",
       "      <td>113.0</td>\n",
       "      <td>Apartamento</td>\n",
       "      <td>0</td>\n",
       "    </tr>\n",
       "    <tr>\n",
       "      <th>131931</th>\n",
       "      <td>2020-11-30</td>\n",
       "      <td>2021-05-19</td>\n",
       "      <td>7.064000</td>\n",
       "      <td>-73.106000</td>\n",
       "      <td>Santander</td>\n",
       "      <td>Floridablanca</td>\n",
       "      <td>3.0</td>\n",
       "      <td>3.0</td>\n",
       "      <td>2.0</td>\n",
       "      <td>108.0</td>\n",
       "      <td>113.0</td>\n",
       "      <td>Apartamento</td>\n",
       "      <td>0</td>\n",
       "    </tr>\n",
       "    <tr>\n",
       "      <th>131932</th>\n",
       "      <td>2020-08-11</td>\n",
       "      <td>2020-08-11</td>\n",
       "      <td>4.636047</td>\n",
       "      <td>-74.147480</td>\n",
       "      <td>Cundinamarca</td>\n",
       "      <td>Bogotá D.C</td>\n",
       "      <td>3.0</td>\n",
       "      <td>3.0</td>\n",
       "      <td>2.0</td>\n",
       "      <td>108.0</td>\n",
       "      <td>113.0</td>\n",
       "      <td>Apartamento</td>\n",
       "      <td>0</td>\n",
       "    </tr>\n",
       "    <tr>\n",
       "      <th>131933</th>\n",
       "      <td>2020-10-27</td>\n",
       "      <td>2022-12-31</td>\n",
       "      <td>4.649682</td>\n",
       "      <td>-74.161950</td>\n",
       "      <td>Cundinamarca</td>\n",
       "      <td>Bogotá D.C</td>\n",
       "      <td>3.0</td>\n",
       "      <td>3.0</td>\n",
       "      <td>2.0</td>\n",
       "      <td>108.0</td>\n",
       "      <td>113.0</td>\n",
       "      <td>Apartamento</td>\n",
       "      <td>0</td>\n",
       "    </tr>\n",
       "    <tr>\n",
       "      <th>131934</th>\n",
       "      <td>2020-08-14</td>\n",
       "      <td>2020-08-14</td>\n",
       "      <td>4.674874</td>\n",
       "      <td>-74.147077</td>\n",
       "      <td>Cundinamarca</td>\n",
       "      <td>Bogotá D.C</td>\n",
       "      <td>4.0</td>\n",
       "      <td>4.0</td>\n",
       "      <td>2.0</td>\n",
       "      <td>897.0</td>\n",
       "      <td>300.0</td>\n",
       "      <td>Casa</td>\n",
       "      <td>0</td>\n",
       "    </tr>\n",
       "  </tbody>\n",
       "</table>\n",
       "<p>131935 rows × 13 columns</p>\n",
       "</div>"
      ],
      "text/plain": [
       "       start_date   end_date   latitud   longitud  departamento  \\\n",
       "0      2020-12-14 2022-12-31  6.203000 -75.572000     Antioquia   \n",
       "1      2020-09-16 2021-05-14  4.722748 -74.073115  Cundinamarca   \n",
       "2      2020-08-19 2020-08-20  4.709000 -74.030000  Cundinamarca   \n",
       "3      2020-10-06 2020-10-07  7.000008 -75.500009     Antioquia   \n",
       "4      2020-12-17 2021-03-04  5.049009 -75.506802        Caldas   \n",
       "...           ...        ...       ...        ...           ...   \n",
       "131930 2020-12-19 2021-03-02  7.000008 -73.250009     Santander   \n",
       "131931 2020-11-30 2021-05-19  7.064000 -73.106000     Santander   \n",
       "131932 2020-08-11 2020-08-11  4.636047 -74.147480  Cundinamarca   \n",
       "131933 2020-10-27 2022-12-31  4.649682 -74.161950  Cundinamarca   \n",
       "131934 2020-08-14 2020-08-14  4.674874 -74.147077  Cundinamarca   \n",
       "\n",
       "            municipio  rooms  bedrooms  bathrooms  surface_total  \\\n",
       "0            Medellín    4.0       4.0        4.0          897.0   \n",
       "1          Bogotá D.C    3.0       3.0        2.0          108.0   \n",
       "2          Bogotá D.C    4.0       4.0        2.0          897.0   \n",
       "3            Medellín    3.0       3.0        2.0          108.0   \n",
       "4           Manizales    3.0       3.0        2.0          108.0   \n",
       "...               ...    ...       ...        ...            ...   \n",
       "131930    Bucaramanga    3.0       3.0        2.0          108.0   \n",
       "131931  Floridablanca    3.0       3.0        2.0          108.0   \n",
       "131932     Bogotá D.C    3.0       3.0        2.0          108.0   \n",
       "131933     Bogotá D.C    3.0       3.0        2.0          108.0   \n",
       "131934     Bogotá D.C    4.0       4.0        2.0          897.0   \n",
       "\n",
       "        surface_covered property_type  target  \n",
       "0                 300.0          Casa       1  \n",
       "1                 113.0   Apartamento       0  \n",
       "2                 300.0          Casa       0  \n",
       "3                 113.0   Apartamento       0  \n",
       "4                 113.0   Apartamento       0  \n",
       "...                 ...           ...     ...  \n",
       "131930            113.0   Apartamento       0  \n",
       "131931            113.0   Apartamento       0  \n",
       "131932            113.0   Apartamento       0  \n",
       "131933            113.0   Apartamento       0  \n",
       "131934            300.0          Casa       0  \n",
       "\n",
       "[131935 rows x 13 columns]"
      ]
     },
     "execution_count": 453,
     "metadata": {},
     "output_type": "execute_result"
    }
   ],
   "source": [
    "df4"
   ]
  },
  {
   "cell_type": "markdown",
   "metadata": {},
   "source": [
    "## Categorical Data"
   ]
  },
  {
   "cell_type": "code",
   "execution_count": 276,
   "metadata": {},
   "outputs": [],
   "source": [
    "# As the categorical data in this dataset is nominal there is non a order relationsipwithin the values. Therefore, our categorical features will be changed\n",
    "# for numerical data using the preprocessing tool One Hot Encoder.\n",
    "from sklearn.preprocessing import OneHotEncoder"
   ]
  },
  {
   "cell_type": "code",
   "execution_count": 277,
   "metadata": {},
   "outputs": [
    {
     "data": {
      "text/plain": [
       "(131935, 245)"
      ]
     },
     "execution_count": 277,
     "metadata": {},
     "output_type": "execute_result"
    }
   ],
   "source": [
    "# We create a variable with the function to encode categorical features as a 1-0 numeric array.\n",
    "ohe = OneHotEncoder(handle_unknown='ignore')\n",
    "\n",
    "# As the input to this transformer should be an array-like of integers or strings, we transform the categorical featurres in arrays.\n",
    "# After that we create a dataframe with the results of the transformation to later add it to the dataframe standardized.\n",
    "categorical_encoded = pd.DataFrame(ohe.fit_transform(np.array(train[['departamento', 'municipio', 'property_type']])).toarray())\n",
    "\n",
    "# Our standardized dataframes has 131935 rows and 7 columns.\n",
    "data_standardized.shape\n",
    "\n",
    "# Our new dataframe has the following shape: 131935 rows and 245 columns.\n",
    "categorical_encoded.shape"
   ]
  },
  {
   "cell_type": "code",
   "execution_count": 278,
   "metadata": {},
   "outputs": [
    {
     "data": {
      "text/plain": [
       "(131935, 252)"
      ]
     },
     "execution_count": 278,
     "metadata": {},
     "output_type": "execute_result"
    }
   ],
   "source": [
    "# Our working dataframe have now 131935 rows and 252 columns.\n",
    "data_standardized.join(categorical_encoded).shape"
   ]
  },
  {
   "cell_type": "code",
   "execution_count": 279,
   "metadata": {},
   "outputs": [
    {
     "data": {
      "text/plain": [
       "(131935, 252)"
      ]
     },
     "execution_count": 279,
     "metadata": {},
     "output_type": "execute_result"
    }
   ],
   "source": [
    "# We merge the two dataframes.\n",
    "working_df = data_standardized.join(categorical_encoded)\n",
    "\n",
    "# However, we have now a Dataframe witih over 250 columns and we enter to the place where more information is less (curse of dimensionality), \n",
    "# hence we need to select the relevant feautrues to train our ML model to predict the correct outcomes.\n",
    "# This problem happens because as we add more features (but not more records for the model), the data becomes more scattered, leading to overfitting and\n",
    "# decreasing the effectiveness of our model to predict correctly.\n",
    "working_df.shape"
   ]
  },
  {
   "cell_type": "code",
   "execution_count": 280,
   "metadata": {},
   "outputs": [
    {
     "data": {
      "text/html": [
       "<div>\n",
       "<style scoped>\n",
       "    .dataframe tbody tr th:only-of-type {\n",
       "        vertical-align: middle;\n",
       "    }\n",
       "\n",
       "    .dataframe tbody tr th {\n",
       "        vertical-align: top;\n",
       "    }\n",
       "\n",
       "    .dataframe thead th {\n",
       "        text-align: right;\n",
       "    }\n",
       "</style>\n",
       "<table border=\"1\" class=\"dataframe\">\n",
       "  <thead>\n",
       "    <tr style=\"text-align: right;\">\n",
       "      <th></th>\n",
       "      <th>latitud</th>\n",
       "      <th>longitud</th>\n",
       "      <th>rooms</th>\n",
       "      <th>bedrooms</th>\n",
       "      <th>bathrooms</th>\n",
       "      <th>surface_total</th>\n",
       "      <th>surface_covered</th>\n",
       "      <th>0</th>\n",
       "      <th>1</th>\n",
       "      <th>2</th>\n",
       "      <th>...</th>\n",
       "      <th>235</th>\n",
       "      <th>236</th>\n",
       "      <th>237</th>\n",
       "      <th>238</th>\n",
       "      <th>239</th>\n",
       "      <th>240</th>\n",
       "      <th>241</th>\n",
       "      <th>242</th>\n",
       "      <th>243</th>\n",
       "      <th>244</th>\n",
       "    </tr>\n",
       "  </thead>\n",
       "  <tbody>\n",
       "    <tr>\n",
       "      <th>0</th>\n",
       "      <td>0.430900</td>\n",
       "      <td>-0.419325</td>\n",
       "      <td>1.336041</td>\n",
       "      <td>1.317504</td>\n",
       "      <td>2.060197</td>\n",
       "      <td>1.445353</td>\n",
       "      <td>1.430426</td>\n",
       "      <td>1.0</td>\n",
       "      <td>0.0</td>\n",
       "      <td>0.0</td>\n",
       "      <td>...</td>\n",
       "      <td>0.0</td>\n",
       "      <td>0.0</td>\n",
       "      <td>0.0</td>\n",
       "      <td>0.0</td>\n",
       "      <td>1.0</td>\n",
       "      <td>0.0</td>\n",
       "      <td>0.0</td>\n",
       "      <td>0.0</td>\n",
       "      <td>0.0</td>\n",
       "      <td>0.0</td>\n",
       "    </tr>\n",
       "    <tr>\n",
       "      <th>1</th>\n",
       "      <td>-0.546046</td>\n",
       "      <td>1.004901</td>\n",
       "      <td>-0.552498</td>\n",
       "      <td>-0.495987</td>\n",
       "      <td>-0.404001</td>\n",
       "      <td>-0.689847</td>\n",
       "      <td>-0.683008</td>\n",
       "      <td>0.0</td>\n",
       "      <td>0.0</td>\n",
       "      <td>0.0</td>\n",
       "      <td>...</td>\n",
       "      <td>0.0</td>\n",
       "      <td>0.0</td>\n",
       "      <td>0.0</td>\n",
       "      <td>1.0</td>\n",
       "      <td>0.0</td>\n",
       "      <td>0.0</td>\n",
       "      <td>0.0</td>\n",
       "      <td>0.0</td>\n",
       "      <td>0.0</td>\n",
       "      <td>0.0</td>\n",
       "    </tr>\n",
       "    <tr>\n",
       "      <th>2</th>\n",
       "      <td>-0.555120</td>\n",
       "      <td>1.045868</td>\n",
       "      <td>1.336041</td>\n",
       "      <td>1.317504</td>\n",
       "      <td>-0.404001</td>\n",
       "      <td>1.445353</td>\n",
       "      <td>1.430426</td>\n",
       "      <td>0.0</td>\n",
       "      <td>0.0</td>\n",
       "      <td>0.0</td>\n",
       "      <td>...</td>\n",
       "      <td>0.0</td>\n",
       "      <td>0.0</td>\n",
       "      <td>0.0</td>\n",
       "      <td>0.0</td>\n",
       "      <td>1.0</td>\n",
       "      <td>0.0</td>\n",
       "      <td>0.0</td>\n",
       "      <td>0.0</td>\n",
       "      <td>0.0</td>\n",
       "      <td>0.0</td>\n",
       "    </tr>\n",
       "    <tr>\n",
       "      <th>3</th>\n",
       "      <td>0.956915</td>\n",
       "      <td>-0.350919</td>\n",
       "      <td>-0.552498</td>\n",
       "      <td>-0.495987</td>\n",
       "      <td>-0.404001</td>\n",
       "      <td>-0.689847</td>\n",
       "      <td>-0.683008</td>\n",
       "      <td>1.0</td>\n",
       "      <td>0.0</td>\n",
       "      <td>0.0</td>\n",
       "      <td>...</td>\n",
       "      <td>0.0</td>\n",
       "      <td>0.0</td>\n",
       "      <td>0.0</td>\n",
       "      <td>1.0</td>\n",
       "      <td>0.0</td>\n",
       "      <td>0.0</td>\n",
       "      <td>0.0</td>\n",
       "      <td>0.0</td>\n",
       "      <td>0.0</td>\n",
       "      <td>0.0</td>\n",
       "    </tr>\n",
       "    <tr>\n",
       "      <th>4</th>\n",
       "      <td>-0.330719</td>\n",
       "      <td>-0.357374</td>\n",
       "      <td>-0.552498</td>\n",
       "      <td>-0.495987</td>\n",
       "      <td>-0.404001</td>\n",
       "      <td>-0.689847</td>\n",
       "      <td>-0.683008</td>\n",
       "      <td>0.0</td>\n",
       "      <td>0.0</td>\n",
       "      <td>0.0</td>\n",
       "      <td>...</td>\n",
       "      <td>0.0</td>\n",
       "      <td>0.0</td>\n",
       "      <td>0.0</td>\n",
       "      <td>1.0</td>\n",
       "      <td>0.0</td>\n",
       "      <td>0.0</td>\n",
       "      <td>0.0</td>\n",
       "      <td>0.0</td>\n",
       "      <td>0.0</td>\n",
       "      <td>0.0</td>\n",
       "    </tr>\n",
       "  </tbody>\n",
       "</table>\n",
       "<p>5 rows × 252 columns</p>\n",
       "</div>"
      ],
      "text/plain": [
       "    latitud  longitud     rooms  bedrooms  bathrooms  surface_total  \\\n",
       "0  0.430900 -0.419325  1.336041  1.317504   2.060197       1.445353   \n",
       "1 -0.546046  1.004901 -0.552498 -0.495987  -0.404001      -0.689847   \n",
       "2 -0.555120  1.045868  1.336041  1.317504  -0.404001       1.445353   \n",
       "3  0.956915 -0.350919 -0.552498 -0.495987  -0.404001      -0.689847   \n",
       "4 -0.330719 -0.357374 -0.552498 -0.495987  -0.404001      -0.689847   \n",
       "\n",
       "   surface_covered    0    1    2  ...  235  236  237  238  239  240  241  \\\n",
       "0         1.430426  1.0  0.0  0.0  ...  0.0  0.0  0.0  0.0  1.0  0.0  0.0   \n",
       "1        -0.683008  0.0  0.0  0.0  ...  0.0  0.0  0.0  1.0  0.0  0.0  0.0   \n",
       "2         1.430426  0.0  0.0  0.0  ...  0.0  0.0  0.0  0.0  1.0  0.0  0.0   \n",
       "3        -0.683008  1.0  0.0  0.0  ...  0.0  0.0  0.0  1.0  0.0  0.0  0.0   \n",
       "4        -0.683008  0.0  0.0  0.0  ...  0.0  0.0  0.0  1.0  0.0  0.0  0.0   \n",
       "\n",
       "   242  243  244  \n",
       "0  0.0  0.0  0.0  \n",
       "1  0.0  0.0  0.0  \n",
       "2  0.0  0.0  0.0  \n",
       "3  0.0  0.0  0.0  \n",
       "4  0.0  0.0  0.0  \n",
       "\n",
       "[5 rows x 252 columns]"
      ]
     },
     "execution_count": 280,
     "metadata": {},
     "output_type": "execute_result"
    }
   ],
   "source": [
    "working_df.head(5)"
   ]
  },
  {
   "cell_type": "code",
   "execution_count": null,
   "metadata": {},
   "outputs": [],
   "source": [
    "# For that we need to reduce the amount of dimentions that we feed our model.\n",
    "# We do this using the technic PCA principal component analysis."
   ]
  },
  {
   "cell_type": "code",
   "execution_count": 406,
   "metadata": {},
   "outputs": [],
   "source": [
    "from sklearn.decomposition import PCA\n",
    "\n",
    "pca = PCA(n_components=1)"
   ]
  },
  {
   "cell_type": "code",
   "execution_count": 407,
   "metadata": {},
   "outputs": [
    {
     "name": "stderr",
     "output_type": "stream",
     "text": [
      "c:\\Users\\Oscar Marino\\AppData\\Local\\Programs\\Python\\Python310\\lib\\site-packages\\sklearn\\utils\\validation.py:1858: FutureWarning: Feature names only support names that are all strings. Got feature names with dtypes: ['int', 'str']. An error will be raised in 1.2.\n",
      "  warnings.warn(\n"
     ]
    }
   ],
   "source": [
    "data_to_work = pd.DataFrame(pca.fit_transform(working_df))"
   ]
  },
  {
   "cell_type": "code",
   "execution_count": null,
   "metadata": {},
   "outputs": [],
   "source": [
    "# Unfortunately, assessing the performance of the different ML models using the categorical values transformed with One Hot Encoder and PCA, did not improve the models metrics. The data needs to be continuously cleaned."
   ]
  },
  {
   "cell_type": "code",
   "execution_count": 506,
   "metadata": {},
   "outputs": [],
   "source": [
    "# Data for which the models performed better\n",
    "train.to_csv('Train_pipeline')\n",
    "data_standardized.to_csv('data_standardized_pipeline')"
   ]
  },
  {
   "cell_type": "markdown",
   "metadata": {},
   "source": [
    "## ML Models"
   ]
  },
  {
   "cell_type": "code",
   "execution_count": 418,
   "metadata": {},
   "outputs": [],
   "source": [
    "# We import the libraries needed.\n",
    "\n",
    "from sklearn.tree import DecisionTreeClassifier\n",
    "from sklearn.neighbors import KNeighborsClassifier\n",
    "from sklearn.ensemble import RandomForestClassifier\n",
    "import xgboost as xgb\n",
    "\n",
    "from sklearn.metrics import accuracy_score\n",
    "from sklearn.metrics import classification_report\n",
    "from sklearn.metrics import confusion_matrix\n",
    "from sklearn.metrics import ConfusionMatrixDisplay\n",
    "\n",
    "from sklearn.model_selection import train_test_split\n",
    "from sklearn.metrics import accuracy_score\n",
    "from sklearn.metrics import recall_score\n",
    "from sklearn.model_selection import cross_validate\n",
    "import sklearn.metrics as metrics\n",
    "\n",
    "from sklearn.pipeline import Pipeline\n",
    "\n",
    "from sklearn.preprocessing import StandardScaler\n"
   ]
  },
  {
   "cell_type": "code",
   "execution_count": 456,
   "metadata": {},
   "outputs": [
    {
     "name": "stdout",
     "output_type": "stream",
     "text": [
      "(92354, 7) (39581, 7) (92354,) (39581,)\n"
     ]
    }
   ],
   "source": [
    "# To define the model we are going to use the data_standarized Dataframe that is the Train dataset that is standardized.\n",
    "X = train[['latitud','longitud', 'rooms', 'bedrooms', 'bathrooms', 'surface_total', 'surface_covered']]\n",
    "y = train['target']\n",
    "\n",
    "from sklearn.model_selection import train_test_split\n",
    "# We are going to split our data in Train and Test to assess our model.\n",
    "X_train, X_test, y_train, y_test = train_test_split(X, y, test_size=0.30, stratify = y)\n",
    "\n",
    "# The train data will be our dev for experimenting with different models and hyperparameters, and the test set will se our hold-out.\n",
    "print(X_train.shape, X_test.shape, y_train.shape, y_test.shape)"
   ]
  },
  {
   "cell_type": "markdown",
   "metadata": {},
   "source": [
    "## Ensambling"
   ]
  },
  {
   "cell_type": "markdown",
   "metadata": {},
   "source": [
    "### Bosting"
   ]
  },
  {
   "cell_type": "code",
   "execution_count": 397,
   "metadata": {},
   "outputs": [],
   "source": [
    "import xgboost as xgb\n",
    "from sklearn.tree import DecisionTreeClassifier"
   ]
  },
  {
   "cell_type": "code",
   "execution_count": 410,
   "metadata": {},
   "outputs": [
    {
     "name": "stderr",
     "output_type": "stream",
     "text": [
      "c:\\Users\\Oscar Marino\\AppData\\Local\\Programs\\Python\\Python310\\lib\\site-packages\\xgboost\\sklearn.py:1421: UserWarning: `use_label_encoder` is deprecated in 1.7.0.\n",
      "  warnings.warn(\"`use_label_encoder` is deprecated in 1.7.0.\")\n"
     ]
    },
    {
     "data": {
      "text/html": [
       "<style>#sk-container-id-23 {color: black;background-color: white;}#sk-container-id-23 pre{padding: 0;}#sk-container-id-23 div.sk-toggleable {background-color: white;}#sk-container-id-23 label.sk-toggleable__label {cursor: pointer;display: block;width: 100%;margin-bottom: 0;padding: 0.3em;box-sizing: border-box;text-align: center;}#sk-container-id-23 label.sk-toggleable__label-arrow:before {content: \"▸\";float: left;margin-right: 0.25em;color: #696969;}#sk-container-id-23 label.sk-toggleable__label-arrow:hover:before {color: black;}#sk-container-id-23 div.sk-estimator:hover label.sk-toggleable__label-arrow:before {color: black;}#sk-container-id-23 div.sk-toggleable__content {max-height: 0;max-width: 0;overflow: hidden;text-align: left;background-color: #f0f8ff;}#sk-container-id-23 div.sk-toggleable__content pre {margin: 0.2em;color: black;border-radius: 0.25em;background-color: #f0f8ff;}#sk-container-id-23 input.sk-toggleable__control:checked~div.sk-toggleable__content {max-height: 200px;max-width: 100%;overflow: auto;}#sk-container-id-23 input.sk-toggleable__control:checked~label.sk-toggleable__label-arrow:before {content: \"▾\";}#sk-container-id-23 div.sk-estimator input.sk-toggleable__control:checked~label.sk-toggleable__label {background-color: #d4ebff;}#sk-container-id-23 div.sk-label input.sk-toggleable__control:checked~label.sk-toggleable__label {background-color: #d4ebff;}#sk-container-id-23 input.sk-hidden--visually {border: 0;clip: rect(1px 1px 1px 1px);clip: rect(1px, 1px, 1px, 1px);height: 1px;margin: -1px;overflow: hidden;padding: 0;position: absolute;width: 1px;}#sk-container-id-23 div.sk-estimator {font-family: monospace;background-color: #f0f8ff;border: 1px dotted black;border-radius: 0.25em;box-sizing: border-box;margin-bottom: 0.5em;}#sk-container-id-23 div.sk-estimator:hover {background-color: #d4ebff;}#sk-container-id-23 div.sk-parallel-item::after {content: \"\";width: 100%;border-bottom: 1px solid gray;flex-grow: 1;}#sk-container-id-23 div.sk-label:hover label.sk-toggleable__label {background-color: #d4ebff;}#sk-container-id-23 div.sk-serial::before {content: \"\";position: absolute;border-left: 1px solid gray;box-sizing: border-box;top: 0;bottom: 0;left: 50%;z-index: 0;}#sk-container-id-23 div.sk-serial {display: flex;flex-direction: column;align-items: center;background-color: white;padding-right: 0.2em;padding-left: 0.2em;position: relative;}#sk-container-id-23 div.sk-item {position: relative;z-index: 1;}#sk-container-id-23 div.sk-parallel {display: flex;align-items: stretch;justify-content: center;background-color: white;position: relative;}#sk-container-id-23 div.sk-item::before, #sk-container-id-23 div.sk-parallel-item::before {content: \"\";position: absolute;border-left: 1px solid gray;box-sizing: border-box;top: 0;bottom: 0;left: 50%;z-index: -1;}#sk-container-id-23 div.sk-parallel-item {display: flex;flex-direction: column;z-index: 1;position: relative;background-color: white;}#sk-container-id-23 div.sk-parallel-item:first-child::after {align-self: flex-end;width: 50%;}#sk-container-id-23 div.sk-parallel-item:last-child::after {align-self: flex-start;width: 50%;}#sk-container-id-23 div.sk-parallel-item:only-child::after {width: 0;}#sk-container-id-23 div.sk-dashed-wrapped {border: 1px dashed gray;margin: 0 0.4em 0.5em 0.4em;box-sizing: border-box;padding-bottom: 0.4em;background-color: white;}#sk-container-id-23 div.sk-label label {font-family: monospace;font-weight: bold;display: inline-block;line-height: 1.2em;}#sk-container-id-23 div.sk-label-container {text-align: center;}#sk-container-id-23 div.sk-container {/* jupyter's `normalize.less` sets `[hidden] { display: none; }` but bootstrap.min.css set `[hidden] { display: none !important; }` so we also need the `!important` here to be able to override the default hidden behavior on the sphinx rendered scikit-learn.org. See: https://github.com/scikit-learn/scikit-learn/issues/21755 */display: inline-block !important;position: relative;}#sk-container-id-23 div.sk-text-repr-fallback {display: none;}</style><div id=\"sk-container-id-23\" class=\"sk-top-container\"><div class=\"sk-text-repr-fallback\"><pre>XGBClassifier(base_score=0.5, booster=&#x27;gbtree&#x27;, callbacks=None,\n",
       "              colsample_bylevel=1, colsample_bynode=1, colsample_bytree=1,\n",
       "              early_stopping_rounds=None, enable_categorical=False,\n",
       "              eval_metric=None, feature_types=None, gamma=0, gpu_id=-1,\n",
       "              grow_policy=&#x27;depthwise&#x27;, importance_type=None,\n",
       "              interaction_constraints=&#x27;&#x27;, learning_rate=0.300000012,\n",
       "              max_bin=256, max_cat_threshold=64, max_cat_to_onehot=4,\n",
       "              max_delta_step=0, max_depth=6, max_leaves=0, min_child_weight=1,\n",
       "              missing=nan, monotone_constraints=&#x27;()&#x27;, n_estimators=150,\n",
       "              n_jobs=0, num_parallel_tree=1, predictor=&#x27;auto&#x27;, random_state=42, ...)</pre><b>In a Jupyter environment, please rerun this cell to show the HTML representation or trust the notebook. <br />On GitHub, the HTML representation is unable to render, please try loading this page with nbviewer.org.</b></div><div class=\"sk-container\" hidden><div class=\"sk-item\"><div class=\"sk-estimator sk-toggleable\"><input class=\"sk-toggleable__control sk-hidden--visually\" id=\"sk-estimator-id-23\" type=\"checkbox\" checked><label for=\"sk-estimator-id-23\" class=\"sk-toggleable__label sk-toggleable__label-arrow\">XGBClassifier</label><div class=\"sk-toggleable__content\"><pre>XGBClassifier(base_score=0.5, booster=&#x27;gbtree&#x27;, callbacks=None,\n",
       "              colsample_bylevel=1, colsample_bynode=1, colsample_bytree=1,\n",
       "              early_stopping_rounds=None, enable_categorical=False,\n",
       "              eval_metric=None, feature_types=None, gamma=0, gpu_id=-1,\n",
       "              grow_policy=&#x27;depthwise&#x27;, importance_type=None,\n",
       "              interaction_constraints=&#x27;&#x27;, learning_rate=0.300000012,\n",
       "              max_bin=256, max_cat_threshold=64, max_cat_to_onehot=4,\n",
       "              max_delta_step=0, max_depth=6, max_leaves=0, min_child_weight=1,\n",
       "              missing=nan, monotone_constraints=&#x27;()&#x27;, n_estimators=150,\n",
       "              n_jobs=0, num_parallel_tree=1, predictor=&#x27;auto&#x27;, random_state=42, ...)</pre></div></div></div></div></div>"
      ],
      "text/plain": [
       "XGBClassifier(base_score=0.5, booster='gbtree', callbacks=None,\n",
       "              colsample_bylevel=1, colsample_bynode=1, colsample_bytree=1,\n",
       "              early_stopping_rounds=None, enable_categorical=False,\n",
       "              eval_metric=None, feature_types=None, gamma=0, gpu_id=-1,\n",
       "              grow_policy='depthwise', importance_type=None,\n",
       "              interaction_constraints='', learning_rate=0.300000012,\n",
       "              max_bin=256, max_cat_threshold=64, max_cat_to_onehot=4,\n",
       "              max_delta_step=0, max_depth=6, max_leaves=0, min_child_weight=1,\n",
       "              missing=nan, monotone_constraints='()', n_estimators=150,\n",
       "              n_jobs=0, num_parallel_tree=1, predictor='auto', random_state=42, ...)"
      ]
     },
     "execution_count": 410,
     "metadata": {},
     "output_type": "execute_result"
    }
   ],
   "source": [
    "clf_xgb = xgb.XGBClassifier(n_estimators=150,\n",
    "                            seed=42, use_label_encoder= False)\n",
    "                            \n",
    "# Entrenamos\n",
    "clf_xgb.fit(X_train, y_train)"
   ]
  },
  {
   "cell_type": "code",
   "execution_count": 411,
   "metadata": {},
   "outputs": [
    {
     "name": "stdout",
     "output_type": "stream",
     "text": [
      "Accuracy en train: 0.8958247612447755\n",
      "Accuracy en test: 0.8857280008084687\n",
      "Recall en train: 0.38092345078979345\n",
      "Recall en test: 0.3423104181431609\n"
     ]
    }
   ],
   "source": [
    "y_train_pred = clf_xgb.predict(X_train)\n",
    "y_test_pred = clf_xgb.predict(X_test)\n",
    "\n",
    "# Evaluamos\n",
    "print('Accuracy en train:', metrics.accuracy_score(y_train, y_train_pred))\n",
    "print('Accuracy en test:', metrics.accuracy_score(y_test, y_test_pred))\n",
    "\n",
    "print('Recall en train:', metrics.recall_score(y_train, y_train_pred))\n",
    "print('Recall en test:', metrics.recall_score(y_test, y_test_pred))\n",
    "\n"
   ]
  },
  {
   "cell_type": "markdown",
   "metadata": {},
   "source": [
    "### Random Forests"
   ]
  },
  {
   "cell_type": "code",
   "execution_count": 473,
   "metadata": {},
   "outputs": [],
   "source": [
    "# Instancing the model.\n",
    "# We are going to let the model to overfit, taking 2/3 of the data randomly allowing it to repeat records.\n",
    "forest_model = RandomForestClassifier(n_estimators = 100, max_depth = None, criterion='gini', max_features='sqrt', bootstrap = True, max_samples=2/3, oob_score=True, n_jobs=-1)"
   ]
  },
  {
   "cell_type": "code",
   "execution_count": 474,
   "metadata": {},
   "outputs": [
    {
     "data": {
      "text/html": [
       "<style>#sk-container-id-25 {color: black;background-color: white;}#sk-container-id-25 pre{padding: 0;}#sk-container-id-25 div.sk-toggleable {background-color: white;}#sk-container-id-25 label.sk-toggleable__label {cursor: pointer;display: block;width: 100%;margin-bottom: 0;padding: 0.3em;box-sizing: border-box;text-align: center;}#sk-container-id-25 label.sk-toggleable__label-arrow:before {content: \"▸\";float: left;margin-right: 0.25em;color: #696969;}#sk-container-id-25 label.sk-toggleable__label-arrow:hover:before {color: black;}#sk-container-id-25 div.sk-estimator:hover label.sk-toggleable__label-arrow:before {color: black;}#sk-container-id-25 div.sk-toggleable__content {max-height: 0;max-width: 0;overflow: hidden;text-align: left;background-color: #f0f8ff;}#sk-container-id-25 div.sk-toggleable__content pre {margin: 0.2em;color: black;border-radius: 0.25em;background-color: #f0f8ff;}#sk-container-id-25 input.sk-toggleable__control:checked~div.sk-toggleable__content {max-height: 200px;max-width: 100%;overflow: auto;}#sk-container-id-25 input.sk-toggleable__control:checked~label.sk-toggleable__label-arrow:before {content: \"▾\";}#sk-container-id-25 div.sk-estimator input.sk-toggleable__control:checked~label.sk-toggleable__label {background-color: #d4ebff;}#sk-container-id-25 div.sk-label input.sk-toggleable__control:checked~label.sk-toggleable__label {background-color: #d4ebff;}#sk-container-id-25 input.sk-hidden--visually {border: 0;clip: rect(1px 1px 1px 1px);clip: rect(1px, 1px, 1px, 1px);height: 1px;margin: -1px;overflow: hidden;padding: 0;position: absolute;width: 1px;}#sk-container-id-25 div.sk-estimator {font-family: monospace;background-color: #f0f8ff;border: 1px dotted black;border-radius: 0.25em;box-sizing: border-box;margin-bottom: 0.5em;}#sk-container-id-25 div.sk-estimator:hover {background-color: #d4ebff;}#sk-container-id-25 div.sk-parallel-item::after {content: \"\";width: 100%;border-bottom: 1px solid gray;flex-grow: 1;}#sk-container-id-25 div.sk-label:hover label.sk-toggleable__label {background-color: #d4ebff;}#sk-container-id-25 div.sk-serial::before {content: \"\";position: absolute;border-left: 1px solid gray;box-sizing: border-box;top: 0;bottom: 0;left: 50%;z-index: 0;}#sk-container-id-25 div.sk-serial {display: flex;flex-direction: column;align-items: center;background-color: white;padding-right: 0.2em;padding-left: 0.2em;position: relative;}#sk-container-id-25 div.sk-item {position: relative;z-index: 1;}#sk-container-id-25 div.sk-parallel {display: flex;align-items: stretch;justify-content: center;background-color: white;position: relative;}#sk-container-id-25 div.sk-item::before, #sk-container-id-25 div.sk-parallel-item::before {content: \"\";position: absolute;border-left: 1px solid gray;box-sizing: border-box;top: 0;bottom: 0;left: 50%;z-index: -1;}#sk-container-id-25 div.sk-parallel-item {display: flex;flex-direction: column;z-index: 1;position: relative;background-color: white;}#sk-container-id-25 div.sk-parallel-item:first-child::after {align-self: flex-end;width: 50%;}#sk-container-id-25 div.sk-parallel-item:last-child::after {align-self: flex-start;width: 50%;}#sk-container-id-25 div.sk-parallel-item:only-child::after {width: 0;}#sk-container-id-25 div.sk-dashed-wrapped {border: 1px dashed gray;margin: 0 0.4em 0.5em 0.4em;box-sizing: border-box;padding-bottom: 0.4em;background-color: white;}#sk-container-id-25 div.sk-label label {font-family: monospace;font-weight: bold;display: inline-block;line-height: 1.2em;}#sk-container-id-25 div.sk-label-container {text-align: center;}#sk-container-id-25 div.sk-container {/* jupyter's `normalize.less` sets `[hidden] { display: none; }` but bootstrap.min.css set `[hidden] { display: none !important; }` so we also need the `!important` here to be able to override the default hidden behavior on the sphinx rendered scikit-learn.org. See: https://github.com/scikit-learn/scikit-learn/issues/21755 */display: inline-block !important;position: relative;}#sk-container-id-25 div.sk-text-repr-fallback {display: none;}</style><div id=\"sk-container-id-25\" class=\"sk-top-container\"><div class=\"sk-text-repr-fallback\"><pre>RandomForestClassifier(max_samples=0.6666666666666666, n_jobs=-1,\n",
       "                       oob_score=True)</pre><b>In a Jupyter environment, please rerun this cell to show the HTML representation or trust the notebook. <br />On GitHub, the HTML representation is unable to render, please try loading this page with nbviewer.org.</b></div><div class=\"sk-container\" hidden><div class=\"sk-item\"><div class=\"sk-estimator sk-toggleable\"><input class=\"sk-toggleable__control sk-hidden--visually\" id=\"sk-estimator-id-25\" type=\"checkbox\" checked><label for=\"sk-estimator-id-25\" class=\"sk-toggleable__label sk-toggleable__label-arrow\">RandomForestClassifier</label><div class=\"sk-toggleable__content\"><pre>RandomForestClassifier(max_samples=0.6666666666666666, n_jobs=-1,\n",
       "                       oob_score=True)</pre></div></div></div></div></div>"
      ],
      "text/plain": [
       "RandomForestClassifier(max_samples=0.6666666666666666, n_jobs=-1,\n",
       "                       oob_score=True)"
      ]
     },
     "execution_count": 474,
     "metadata": {},
     "output_type": "execute_result"
    }
   ],
   "source": [
    "# Training the mode.\n",
    "forest_model.fit(X_train, y_train)"
   ]
  },
  {
   "cell_type": "code",
   "execution_count": 475,
   "metadata": {},
   "outputs": [
    {
     "name": "stdout",
     "output_type": "stream",
     "text": [
      "0.9632717586677351\n",
      "0.9302443091382229\n",
      "0.8257897934386391\n",
      "0.6925939050318922\n"
     ]
    }
   ],
   "source": [
    "# Predicting tags with the model for the target column.\n",
    "y_train_pred = forest_model.predict(X_train)\n",
    "y_test_pred = forest_model.predict(X_test)\n",
    "\n",
    "# As we can see the model is good for obtaining the correct classification when all the data is taking into accound. However, its predictions are weak for classifying the\n",
    "# the expensive properties over all the cases we are trying to identify..\n",
    "print(metrics.accuracy_score(y_train, y_train_pred))\n",
    "print(metrics.accuracy_score(y_test, y_test_pred))\n",
    "\n",
    "# Thiese are the meassurements we are interested in.\n",
    "print(metrics.recall_score(y_train, y_train_pred))\n",
    "print(metrics.recall_score(y_test, y_test_pred))"
   ]
  },
  {
   "cell_type": "code",
   "execution_count": 476,
   "metadata": {},
   "outputs": [
    {
     "data": {
      "image/png": "[encoded data removed]",
      "text/plain": [
       "<Figure size 640x480 with 2 Axes>"
      ]
     },
     "metadata": {},
     "output_type": "display_data"
    }
   ],
   "source": [
    "# We obtain the confussion matrix for the test data and plot it.\n",
    "matrix = confusion_matrix(y_test, y_test_pred)\n",
    "cm_display = ConfusionMatrixDisplay(matrix)\n",
    "\n",
    "cm_display.plot()\n",
    "plt.show()"
   ]
  },
  {
   "cell_type": "code",
   "execution_count": 477,
   "metadata": {},
   "outputs": [
    {
     "name": "stdout",
     "output_type": "stream",
     "text": [
      "              precision    recall  f1-score   support\n",
      "\n",
      "           0       0.95      0.97      0.96     33937\n",
      "           1       0.79      0.69      0.74      5644\n",
      "\n",
      "    accuracy                           0.93     39581\n",
      "   macro avg       0.87      0.83      0.85     39581\n",
      "weighted avg       0.93      0.93      0.93     39581\n",
      "\n"
     ]
    }
   ],
   "source": [
    "# With classification report we obtain a resume with the main classification metrics that allow us to see how our model is performing.\n",
    "print(classification_report(y_test, y_test_pred))"
   ]
  },
  {
   "cell_type": "code",
   "execution_count": 478,
   "metadata": {},
   "outputs": [
    {
     "data": {
      "text/plain": [
       "0.928070251423869"
      ]
     },
     "execution_count": 478,
     "metadata": {},
     "output_type": "execute_result"
    }
   ],
   "source": [
    "forest_model.oob_score_"
   ]
  },
  {
   "cell_type": "code",
   "execution_count": null,
   "metadata": {},
   "outputs": [
    {
     "data": {
      "text/plain": [
       "array([1.30554446e-02, 9.50365295e-03, 9.73502061e-03, 3.24899010e-02,\n",
       "       8.49038759e-03, 1.52361958e-02, 1.09416070e-02, 6.91322981e-03,\n",
       "       5.21595819e-03, 6.96440775e-03, 4.77445645e-03, 4.13656949e-03,\n",
       "       4.26058122e-03, 5.20868094e-03, 6.20300368e-03, 1.92919068e-02,\n",
       "       1.14444741e-02, 4.93869564e-03, 6.01950884e-03, 6.58117088e-03,\n",
       "       5.07524369e-03, 4.99428193e-03, 4.86727410e-03, 5.00624397e-03,\n",
       "       7.69330276e-03, 4.13964372e-03, 4.20102498e-03, 3.81885782e-03,\n",
       "       3.74990710e-03, 4.52643646e-03, 4.15023156e-03, 4.04522328e-03,\n",
       "       5.76401330e-03, 3.43374984e-03, 3.71577831e-03, 4.88698801e-03,\n",
       "       4.48925031e-03, 7.29787392e-03, 4.23947378e-03, 7.37992615e-03,\n",
       "       3.88379220e-03, 4.05057760e-03, 3.39378754e-03, 3.87403275e-03,\n",
       "       4.32141395e-03, 4.75008846e-03, 3.77253898e-03, 3.56849823e-03,\n",
       "       4.07211844e-03, 3.93758359e-03, 3.76487866e-03, 3.76137001e-03,\n",
       "       5.14644740e-03, 3.76278575e-03, 4.11682573e-03, 4.84318333e-03,\n",
       "       4.59378635e-03, 3.23607514e-03, 4.76580918e-03, 2.98189910e-03,\n",
       "       4.46990124e-03, 5.09112139e-03, 4.71785701e-03, 3.19393739e-03,\n",
       "       4.59750037e-03, 4.24640443e-03, 3.77517130e-03, 3.52136123e-03,\n",
       "       3.73774576e-03, 7.39005099e-03, 2.30459803e-03, 3.58558902e-03,\n",
       "       5.52952204e-03, 2.86636337e-03, 3.23946779e-03, 2.44531084e-03,\n",
       "       2.58631358e-03, 2.92358462e-03, 2.54737955e-03, 2.73817839e-03,\n",
       "       2.18842199e-03, 3.64087780e-03, 7.73087827e-03, 4.36191745e-03,\n",
       "       4.14553170e-03, 6.54663710e-03, 7.66031125e-03, 3.93201348e-03,\n",
       "       3.46442321e-03, 2.60150187e-03, 2.55876743e-03, 2.78813138e-03,\n",
       "       3.24493610e-03, 3.29614517e-03, 2.55126637e-03, 3.64174300e-03,\n",
       "       3.62625635e-03, 3.33816335e-03, 2.60353649e-03, 3.44575583e-03,\n",
       "       2.61590528e-03, 3.17732751e-03, 2.20117245e-03, 2.46816867e-03,\n",
       "       2.62165144e-03, 2.16784072e-03, 2.49510209e-03, 2.89416781e-03,\n",
       "       2.41694917e-03, 1.58771922e-02, 2.26944499e-03, 2.24620909e-03,\n",
       "       3.35858500e-03, 2.19266970e-03, 2.32158663e-03, 2.52166997e-03,\n",
       "       2.20915886e-03, 2.74779843e-03, 2.95449613e-03, 2.42858640e-03,\n",
       "       3.53700390e-03, 1.37429768e-02, 3.54189410e-03, 1.38632805e-02,\n",
       "       3.73025399e-03, 1.02503398e-02, 2.32462964e-03, 2.96566113e-03,\n",
       "       3.20784181e-03, 2.85049061e-03, 2.40923382e-03, 2.72355363e-03,\n",
       "       2.62110253e-03, 3.52100843e-03, 3.12428111e-03, 3.46030769e-03,\n",
       "       3.02967008e-03, 2.47430017e-03, 2.43222575e-03, 2.56896893e-03,\n",
       "       3.39930189e-03, 1.96856324e-03, 2.62380968e-03, 2.97793503e-03,\n",
       "       4.31694313e-03, 2.38394487e-03, 3.21205204e-03, 3.06231726e-03,\n",
       "       2.41446519e-03, 2.09583470e-03, 3.66699293e-03, 2.11011746e-03,\n",
       "       4.66348760e-03, 4.29543347e-03, 2.70453572e-03, 2.67540445e-03,\n",
       "       3.29227337e-03, 5.31174073e-03, 3.64679132e-03, 3.46167016e-03,\n",
       "       2.23742293e-03, 2.19634765e-03, 2.73608931e-03, 2.23767016e-03,\n",
       "       6.57336142e-03, 3.49655771e-03, 2.58894779e-03, 4.22174116e-03,\n",
       "       3.16321563e-03, 2.23916506e-03, 2.39078355e-03, 2.82984221e-03,\n",
       "       2.81639937e-03, 3.99396602e-03, 7.15401425e-03, 2.02602187e-03,\n",
       "       5.93070173e-03, 2.89755185e-03, 4.66902731e-03, 2.35457053e-03,\n",
       "       2.79328233e-03, 2.62781386e-03, 3.91375831e-03, 2.30870156e-03,\n",
       "       3.84701409e-03, 2.29795398e-03, 3.25706156e-03, 2.10584966e-03,\n",
       "       2.49286803e-03, 6.22201608e-03, 2.83101041e-06, 7.93091225e-07,\n",
       "       2.84961422e-06, 0.00000000e+00, 2.67275277e-06, 2.38236497e-03,\n",
       "       1.55755697e-03, 2.00985506e-02, 6.46437347e-03, 3.80493898e-03,\n",
       "       9.23164782e-03, 4.37259916e-03, 1.96683418e-03, 2.32520212e-03,\n",
       "       2.85039007e-03, 3.37592884e-03, 2.89530200e-03, 3.00432184e-03,\n",
       "       2.44591150e-03, 2.68737908e-03, 2.08054331e-03, 1.93255489e-03,\n",
       "       2.44179616e-03, 4.26622643e-03, 6.67314982e-06, 1.53080689e-06,\n",
       "       1.43394223e-06, 3.48911169e-06, 3.08666400e-06, 3.15446912e-06,\n",
       "       1.44635971e-06, 0.00000000e+00, 1.52366068e-06, 0.00000000e+00,\n",
       "       0.00000000e+00, 1.85160140e-03, 8.10297234e-03, 1.02513800e-02,\n",
       "       7.57468349e-03, 2.74801936e-03, 4.23606273e-03, 1.92096374e-03,\n",
       "       1.91986004e-03, 2.24135264e-03, 3.08481134e-03, 3.65784833e-03,\n",
       "       4.06925826e-03, 2.30508234e-03, 2.27377825e-03, 2.34482600e-03,\n",
       "       2.07082835e-03, 2.49943640e-03, 2.40308839e-03, 2.21275137e-03,\n",
       "       2.11771863e-03, 3.60712631e-03, 2.31302916e-03, 2.17269081e-03,\n",
       "       1.98524058e-03, 0.00000000e+00, 0.00000000e+00, 0.00000000e+00])"
      ]
     },
     "execution_count": 185,
     "metadata": {},
     "output_type": "execute_result"
    }
   ],
   "source": [
    "# The feaures that have more relevance in the target column is latitude and longitude\n",
    "forest_model.feature_importances_"
   ]
  },
  {
   "cell_type": "code",
   "execution_count": null,
   "metadata": {},
   "outputs": [],
   "source": [
    "from sklearn.metrics import recall_score"
   ]
  },
  {
   "cell_type": "code",
   "execution_count": 479,
   "metadata": {},
   "outputs": [
    {
     "name": "stdout",
     "output_type": "stream",
     "text": [
      "1\n",
      "2\n"
     ]
    },
    {
     "name": "stderr",
     "output_type": "stream",
     "text": [
      "c:\\Users\\Oscar Marino\\AppData\\Local\\Programs\\Python\\Python310\\lib\\site-packages\\sklearn\\ensemble\\_forest.py:586: UserWarning: Some inputs do not have OOB scores. This probably means too few trees were used to compute any reliable OOB estimates.\n",
      "  warn(\n",
      "c:\\Users\\Oscar Marino\\AppData\\Local\\Programs\\Python\\Python310\\lib\\site-packages\\sklearn\\ensemble\\_forest.py:586: UserWarning: Some inputs do not have OOB scores. This probably means too few trees were used to compute any reliable OOB estimates.\n",
      "  warn(\n"
     ]
    },
    {
     "name": "stdout",
     "output_type": "stream",
     "text": [
      "3\n",
      "4\n"
     ]
    },
    {
     "name": "stderr",
     "output_type": "stream",
     "text": [
      "c:\\Users\\Oscar Marino\\AppData\\Local\\Programs\\Python\\Python310\\lib\\site-packages\\sklearn\\ensemble\\_forest.py:586: UserWarning: Some inputs do not have OOB scores. This probably means too few trees were used to compute any reliable OOB estimates.\n",
      "  warn(\n",
      "c:\\Users\\Oscar Marino\\AppData\\Local\\Programs\\Python\\Python310\\lib\\site-packages\\sklearn\\ensemble\\_forest.py:586: UserWarning: Some inputs do not have OOB scores. This probably means too few trees were used to compute any reliable OOB estimates.\n",
      "  warn(\n"
     ]
    },
    {
     "name": "stdout",
     "output_type": "stream",
     "text": [
      "5\n",
      "10\n"
     ]
    },
    {
     "name": "stderr",
     "output_type": "stream",
     "text": [
      "c:\\Users\\Oscar Marino\\AppData\\Local\\Programs\\Python\\Python310\\lib\\site-packages\\sklearn\\ensemble\\_forest.py:586: UserWarning: Some inputs do not have OOB scores. This probably means too few trees were used to compute any reliable OOB estimates.\n",
      "  warn(\n",
      "c:\\Users\\Oscar Marino\\AppData\\Local\\Programs\\Python\\Python310\\lib\\site-packages\\sklearn\\ensemble\\_forest.py:586: UserWarning: Some inputs do not have OOB scores. This probably means too few trees were used to compute any reliable OOB estimates.\n",
      "  warn(\n"
     ]
    },
    {
     "name": "stdout",
     "output_type": "stream",
     "text": [
      "25\n"
     ]
    },
    {
     "name": "stderr",
     "output_type": "stream",
     "text": [
      "c:\\Users\\Oscar Marino\\AppData\\Local\\Programs\\Python\\Python310\\lib\\site-packages\\sklearn\\ensemble\\_forest.py:586: UserWarning: Some inputs do not have OOB scores. This probably means too few trees were used to compute any reliable OOB estimates.\n",
      "  warn(\n"
     ]
    },
    {
     "name": "stdout",
     "output_type": "stream",
     "text": [
      "50\n",
      "100\n",
      "250\n",
      "500\n",
      "1000\n"
     ]
    }
   ],
   "source": [
    "train_recall = []\n",
    "test_recall = []\n",
    "oob_scores = []\n",
    "\n",
    "N_estimadores = [1,2,3,4,5,10,25,50,100,250,500,1000]\n",
    "for estimadores in N_estimadores:\n",
    "    print(estimadores)\n",
    "    clf = RandomForestClassifier(n_estimators=estimadores, n_jobs=-1, oob_score= True, random_state = 42)\n",
    "    clf.fit(X_train,y_train)\n",
    "    \n",
    "    y_train_pred = clf.predict(X_train)\n",
    "    y_test_pred = clf.predict(X_test)\n",
    "    \n",
    "    train_recall.append(metrics.recall_score(y_train, y_train_pred))\n",
    "    test_recall.append(metrics.recall_score(y_test, y_test_pred))\n",
    "    oob_scores.append(clf.oob_score_)\n",
    "    \n",
    "train_recall = np.array(train_recall)\n",
    "test_recall = np.array(test_recall)\n",
    "oob_scores = np.array(oob_scores)"
   ]
  },
  {
   "cell_type": "code",
   "execution_count": 480,
   "metadata": {},
   "outputs": [
    {
     "data": {
      "image/png": "[encoded data removed]",
      "text/plain": [
       "<Figure size 1400x800 with 1 Axes>"
      ]
     },
     "metadata": {},
     "output_type": "display_data"
    }
   ],
   "source": [
    "plt.figure(figsize = (14,8))\n",
    "plt.plot(N_estimadores, train_recall, label = 'Train')\n",
    "plt.plot(N_estimadores, test_recall, label = 'Test')\n",
    "plt.plot(N_estimadores, oob_scores, label = 'OOB')\n",
    "plt.xlabel('Number of stimators')\n",
    "plt.ylabel('Recall')\n",
    "plt.legend()\n",
    "plt.title('Validation curves', fontsize = 15)\n",
    "# plt.xlim(0,50)\n",
    "plt.show()\n",
    "\n",
    "# With less than 25 tress we obtain the maximun value for recall score."
   ]
  },
  {
   "cell_type": "markdown",
   "metadata": {},
   "source": [
    "### Tree"
   ]
  },
  {
   "cell_type": "code",
   "execution_count": 489,
   "metadata": {},
   "outputs": [
    {
     "name": "stdout",
     "output_type": "stream",
     "text": [
      "Number of features: 7\n",
      "Preponderance of the variables: [0.33499442 0.25037506 0.00887983 0.01138586 0.34703068 0.01249239\n",
      " 0.03484175]\n"
     ]
    }
   ],
   "source": [
    "# We define the model\n",
    "dtc_model = DecisionTreeClassifier(max_depth=12, random_state=42)\n",
    "\n",
    "# Trian it.\n",
    "dtc_model.fit(X_train, y_train)\n",
    "\n",
    "# Obtain some metrics.\n",
    "print('Number of features:',dtc_model.max_features_)\n",
    "print('Preponderance of the variables:',dtc_model.feature_importances_)\n",
    "# Where we can see that Bathroom is the most important feature."
   ]
  },
  {
   "cell_type": "code",
   "execution_count": 490,
   "metadata": {},
   "outputs": [],
   "source": [
    "# Predicting instances to evaluate the model.\n",
    "y_train_pred = dtc_model.predict(X_train)\n",
    "y_test_pred = dtc_model.predict(X_test)"
   ]
  },
  {
   "cell_type": "code",
   "execution_count": 491,
   "metadata": {},
   "outputs": [
    {
     "name": "stdout",
     "output_type": "stream",
     "text": [
      "The accuracy of the model is 0.9236091560733699\n",
      "The recall of the model is 0.6177855407047388\n",
      "The accuracy of the model is 0.9310022485535989\n",
      "The recall of the model is 0.6972005669737774\n"
     ]
    }
   ],
   "source": [
    "# We calculate the accuracy and the recall of the model with train data.\n",
    "print('The accuracy of the model is',accuracy_score(y_train, y_train_pred))\n",
    "print('The recall of the model is',recall_score(y_train, y_train_pred))\n",
    "\n",
    "# # Also with test data.\n",
    "print('The accuracy of the model is',accuracy_score(y_test, y_test_pred))\n",
    "print('The recall of the model is',recall_score(y_test, y_test_pred))"
   ]
  },
  {
   "cell_type": "code",
   "execution_count": 492,
   "metadata": {},
   "outputs": [
    {
     "data": {
      "image/png": "[encoded data removed]",
      "text/plain": [
       "<Figure size 640x480 with 2 Axes>"
      ]
     },
     "metadata": {},
     "output_type": "display_data"
    }
   ],
   "source": [
    "from sklearn.metrics import confusion_matrix\n",
    "\n",
    "# Using confusion_matrix we obtain a binary classification matrix where we can see the predicted instances.\n",
    "matrix = confusion_matrix(y_train, y_train_pred)\n",
    "\n",
    "from sklearn.metrics import ConfusionMatrixDisplay\n",
    "\n",
    "# We plot the confusion matrix\n",
    "cm_display = ConfusionMatrixDisplay(matrix)\n",
    "\n",
    "cm_display.plot()\n",
    "plt.show()"
   ]
  },
  {
   "cell_type": "code",
   "execution_count": 493,
   "metadata": {},
   "outputs": [
    {
     "name": "stdout",
     "output_type": "stream",
     "text": [
      "              precision    recall  f1-score   support\n",
      "\n",
      "           0       0.94      0.97      0.96     79186\n",
      "           1       0.80      0.62      0.70     13168\n",
      "\n",
      "    accuracy                           0.92     92354\n",
      "   macro avg       0.87      0.80      0.83     92354\n",
      "weighted avg       0.92      0.92      0.92     92354\n",
      "\n"
     ]
    }
   ],
   "source": [
    "from sklearn.metrics import classification_report\n",
    "\n",
    "# Using classification report we obtain several measurments to see how our model is performing.\n",
    "print(classification_report(y_train, y_train_pred))"
   ]
  },
  {
   "cell_type": "code",
   "execution_count": 488,
   "metadata": {},
   "outputs": [
    {
     "data": {
      "image/png": "[encoded data removed]",
      "text/plain": [
       "<Figure size 640x480 with 1 Axes>"
      ]
     },
     "metadata": {},
     "output_type": "display_data"
    }
   ],
   "source": [
    "tree_train_score_mean = []\n",
    "tree_train_score_std = []\n",
    "tree_test_score_mean = []\n",
    "tree_test_score_std =[]\n",
    "\n",
    "deepness = np.arange(1,21)\n",
    "\n",
    "for deep in deepness:\n",
    "    \n",
    "    tcmcv = DecisionTreeClassifier(max_depth = deep)\n",
    "    tree_scores = cross_validate(tcmcv, X, y, cv = 10, return_train_score=True, n_jobs = -1) \n",
    "    \n",
    "    tree_train_score_mean.append(tree_scores['train_score'].mean())\n",
    "    tree_train_score_std.append(tree_scores['train_score'].std())\n",
    "     \n",
    "    tree_test_score_mean.append(tree_scores['test_score'].mean())\n",
    "    tree_test_score_std.append(tree_scores['test_score'].std())\n",
    "    \n",
    "\n",
    "tree_train_score_mean = np.array(tree_train_score_mean)\n",
    "tree_train_score_std = np.array(tree_train_score_std)\n",
    "\n",
    "tree_test_score_mean = np.array(tree_test_score_mean)\n",
    "tree_test_score_std = np.array(tree_test_score_std)\n",
    "\n",
    "plt.fill_between(deepness, tree_train_score_mean - tree_train_score_std,\n",
    "                 tree_train_score_mean + tree_train_score_std, alpha=0.1,\n",
    "                 color=\"r\")\n",
    "plt.fill_between(deepness, tree_test_score_mean - tree_test_score_std,\n",
    "                 tree_test_score_mean + tree_test_score_std, alpha=0.1, color=\"g\")\n",
    "\n",
    "plt.plot(deepness, tree_train_score_mean, 'o-', color=\"r\",\n",
    "         label=\"Training score\")\n",
    "plt.plot(deepness, tree_test_score_mean, 'o-', color=\"g\",\n",
    "         label=\"Test score\")\n",
    "\n",
    "plt.legend()\n",
    "plt.ylabel('Accuracy')\n",
    "plt.xlabel('Profundidad Arbol de Decision')\n",
    "plt.show()"
   ]
  },
  {
   "cell_type": "markdown",
   "metadata": {},
   "source": [
    "### K neighbours."
   ]
  },
  {
   "cell_type": "code",
   "execution_count": null,
   "metadata": {},
   "outputs": [],
   "source": [
    "from sklearn.neighbors import KNeighborsClassifier"
   ]
  },
  {
   "cell_type": "code",
   "execution_count": 494,
   "metadata": {},
   "outputs": [],
   "source": [
    "# Instancing the model.\n",
    "clf = KNeighborsClassifier(n_neighbors=5)"
   ]
  },
  {
   "cell_type": "code",
   "execution_count": 495,
   "metadata": {},
   "outputs": [
    {
     "data": {
      "text/html": [
       "<style>#sk-container-id-26 {color: black;background-color: white;}#sk-container-id-26 pre{padding: 0;}#sk-container-id-26 div.sk-toggleable {background-color: white;}#sk-container-id-26 label.sk-toggleable__label {cursor: pointer;display: block;width: 100%;margin-bottom: 0;padding: 0.3em;box-sizing: border-box;text-align: center;}#sk-container-id-26 label.sk-toggleable__label-arrow:before {content: \"▸\";float: left;margin-right: 0.25em;color: #696969;}#sk-container-id-26 label.sk-toggleable__label-arrow:hover:before {color: black;}#sk-container-id-26 div.sk-estimator:hover label.sk-toggleable__label-arrow:before {color: black;}#sk-container-id-26 div.sk-toggleable__content {max-height: 0;max-width: 0;overflow: hidden;text-align: left;background-color: #f0f8ff;}#sk-container-id-26 div.sk-toggleable__content pre {margin: 0.2em;color: black;border-radius: 0.25em;background-color: #f0f8ff;}#sk-container-id-26 input.sk-toggleable__control:checked~div.sk-toggleable__content {max-height: 200px;max-width: 100%;overflow: auto;}#sk-container-id-26 input.sk-toggleable__control:checked~label.sk-toggleable__label-arrow:before {content: \"▾\";}#sk-container-id-26 div.sk-estimator input.sk-toggleable__control:checked~label.sk-toggleable__label {background-color: #d4ebff;}#sk-container-id-26 div.sk-label input.sk-toggleable__control:checked~label.sk-toggleable__label {background-color: #d4ebff;}#sk-container-id-26 input.sk-hidden--visually {border: 0;clip: rect(1px 1px 1px 1px);clip: rect(1px, 1px, 1px, 1px);height: 1px;margin: -1px;overflow: hidden;padding: 0;position: absolute;width: 1px;}#sk-container-id-26 div.sk-estimator {font-family: monospace;background-color: #f0f8ff;border: 1px dotted black;border-radius: 0.25em;box-sizing: border-box;margin-bottom: 0.5em;}#sk-container-id-26 div.sk-estimator:hover {background-color: #d4ebff;}#sk-container-id-26 div.sk-parallel-item::after {content: \"\";width: 100%;border-bottom: 1px solid gray;flex-grow: 1;}#sk-container-id-26 div.sk-label:hover label.sk-toggleable__label {background-color: #d4ebff;}#sk-container-id-26 div.sk-serial::before {content: \"\";position: absolute;border-left: 1px solid gray;box-sizing: border-box;top: 0;bottom: 0;left: 50%;z-index: 0;}#sk-container-id-26 div.sk-serial {display: flex;flex-direction: column;align-items: center;background-color: white;padding-right: 0.2em;padding-left: 0.2em;position: relative;}#sk-container-id-26 div.sk-item {position: relative;z-index: 1;}#sk-container-id-26 div.sk-parallel {display: flex;align-items: stretch;justify-content: center;background-color: white;position: relative;}#sk-container-id-26 div.sk-item::before, #sk-container-id-26 div.sk-parallel-item::before {content: \"\";position: absolute;border-left: 1px solid gray;box-sizing: border-box;top: 0;bottom: 0;left: 50%;z-index: -1;}#sk-container-id-26 div.sk-parallel-item {display: flex;flex-direction: column;z-index: 1;position: relative;background-color: white;}#sk-container-id-26 div.sk-parallel-item:first-child::after {align-self: flex-end;width: 50%;}#sk-container-id-26 div.sk-parallel-item:last-child::after {align-self: flex-start;width: 50%;}#sk-container-id-26 div.sk-parallel-item:only-child::after {width: 0;}#sk-container-id-26 div.sk-dashed-wrapped {border: 1px dashed gray;margin: 0 0.4em 0.5em 0.4em;box-sizing: border-box;padding-bottom: 0.4em;background-color: white;}#sk-container-id-26 div.sk-label label {font-family: monospace;font-weight: bold;display: inline-block;line-height: 1.2em;}#sk-container-id-26 div.sk-label-container {text-align: center;}#sk-container-id-26 div.sk-container {/* jupyter's `normalize.less` sets `[hidden] { display: none; }` but bootstrap.min.css set `[hidden] { display: none !important; }` so we also need the `!important` here to be able to override the default hidden behavior on the sphinx rendered scikit-learn.org. See: https://github.com/scikit-learn/scikit-learn/issues/21755 */display: inline-block !important;position: relative;}#sk-container-id-26 div.sk-text-repr-fallback {display: none;}</style><div id=\"sk-container-id-26\" class=\"sk-top-container\"><div class=\"sk-text-repr-fallback\"><pre>KNeighborsClassifier()</pre><b>In a Jupyter environment, please rerun this cell to show the HTML representation or trust the notebook. <br />On GitHub, the HTML representation is unable to render, please try loading this page with nbviewer.org.</b></div><div class=\"sk-container\" hidden><div class=\"sk-item\"><div class=\"sk-estimator sk-toggleable\"><input class=\"sk-toggleable__control sk-hidden--visually\" id=\"sk-estimator-id-26\" type=\"checkbox\" checked><label for=\"sk-estimator-id-26\" class=\"sk-toggleable__label sk-toggleable__label-arrow\">KNeighborsClassifier</label><div class=\"sk-toggleable__content\"><pre>KNeighborsClassifier()</pre></div></div></div></div></div>"
      ],
      "text/plain": [
       "KNeighborsClassifier()"
      ]
     },
     "execution_count": 495,
     "metadata": {},
     "output_type": "execute_result"
    }
   ],
   "source": [
    "# Training it.\n",
    "clf.fit(X,y)"
   ]
  },
  {
   "cell_type": "code",
   "execution_count": 500,
   "metadata": {},
   "outputs": [],
   "source": [
    "# Predicting instances.\n",
    "y_train_pred = clf.predict(X)"
   ]
  },
  {
   "cell_type": "code",
   "execution_count": 497,
   "metadata": {},
   "outputs": [
    {
     "data": {
      "image/png": "[encoded data removed]",
      "text/plain": [
       "<Figure size 640x480 with 2 Axes>"
      ]
     },
     "metadata": {},
     "output_type": "display_data"
    }
   ],
   "source": [
    "matrix = confusion_matrix(y_train, y_train_pred)\n",
    "\n",
    "cm_display = ConfusionMatrixDisplay(matrix)\n",
    "\n",
    "cm_display.plot()\n",
    "plt.show()"
   ]
  },
  {
   "cell_type": "code",
   "execution_count": 499,
   "metadata": {},
   "outputs": [
    {
     "name": "stdout",
     "output_type": "stream",
     "text": [
      "              precision    recall  f1-score   support\n",
      "\n",
      "           0       0.94      0.97      0.96     79186\n",
      "           1       0.80      0.62      0.70     13168\n",
      "\n",
      "    accuracy                           0.92     92354\n",
      "   macro avg       0.87      0.80      0.83     92354\n",
      "weighted avg       0.92      0.92      0.92     92354\n",
      "\n"
     ]
    }
   ],
   "source": [
    "from sklearn.metrics import classification_report\n",
    "\n",
    "print(classification_report(y_train, y_train_pred))"
   ]
  },
  {
   "cell_type": "code",
   "execution_count": null,
   "metadata": {},
   "outputs": [
    {
     "data": {
      "image/png": "[encoded data removed]",
      "text/plain": [
       "<Figure size 640x480 with 1 Axes>"
      ]
     },
     "metadata": {},
     "output_type": "display_data"
    }
   ],
   "source": [
    "knn_train_scores_mean = []\n",
    "knn_train_scores_std = []\n",
    "knn_test_scores_mean = []\n",
    "knn_test_scores_std = []\n",
    "\n",
    "n_vecinos = np.arange(1,20,1)\n",
    "i = 0\n",
    "i_max = len(n_vecinos)\n",
    "for vecinos in n_vecinos:\n",
    "    i = i + 1\n",
    "    clf = KNeighborsClassifier(n_neighbors=vecinos)\n",
    "    knn_scores = cross_validate(clf, X, y, cv=5, return_train_score=True, n_jobs = -1)\n",
    "    \n",
    "    knn_train_scores_mean.append(knn_scores['train_score'].mean())\n",
    "    knn_train_scores_std.append(knn_scores['train_score'].std())\n",
    "    \n",
    "    knn_test_scores_mean.append(knn_scores['test_score'].mean())\n",
    "    knn_test_scores_std.append(knn_scores['test_score'].std())\n",
    "    \n",
    "\n",
    "knn_train_scores_mean = np.array(knn_train_scores_mean)\n",
    "knn_train_scores_std = np.array(knn_train_scores_std)\n",
    "knn_test_scores_mean = np.array(knn_test_scores_mean)\n",
    "knn_test_scores_std = np.array(knn_test_scores_std)\n",
    "\n",
    "plt.fill_between(n_vecinos, knn_train_scores_mean - knn_train_scores_std,\n",
    "                 knn_train_scores_mean + knn_train_scores_std, alpha=0.1,\n",
    "                 color=\"r\")\n",
    "plt.fill_between(n_vecinos, knn_test_scores_mean - knn_test_scores_std,\n",
    "                 knn_test_scores_mean + knn_test_scores_std, alpha=0.1, color=\"g\")\n",
    "\n",
    "plt.plot(n_vecinos, knn_train_scores_mean, 'o-', color=\"r\",\n",
    "         label=\"Training score\")\n",
    "plt.plot(n_vecinos, knn_test_scores_mean, 'o-', color=\"g\",\n",
    "         label=\"Test score\")\n",
    "\n",
    "plt.legend()\n",
    "plt.ylabel('Accuracy')\n",
    "plt.xlabel('Cantidad de Vecinos')\n",
    "plt.show()"
   ]
  },
  {
   "cell_type": "markdown",
   "metadata": {},
   "source": [
    "### test.csv"
   ]
  },
  {
   "cell_type": "code",
   "execution_count": null,
   "metadata": {},
   "outputs": [],
   "source": [
    "# We Apply the model to the test to obtain the predictions."
   ]
  },
  {
   "cell_type": "code",
   "execution_count": null,
   "metadata": {},
   "outputs": [
    {
     "data": {
      "text/html": [
       "<div>\n",
       "<style scoped>\n",
       "    .dataframe tbody tr th:only-of-type {\n",
       "        vertical-align: middle;\n",
       "    }\n",
       "\n",
       "    .dataframe tbody tr th {\n",
       "        vertical-align: top;\n",
       "    }\n",
       "\n",
       "    .dataframe thead th {\n",
       "        text-align: right;\n",
       "    }\n",
       "</style>\n",
       "<table border=\"1\" class=\"dataframe\">\n",
       "  <thead>\n",
       "    <tr style=\"text-align: right;\">\n",
       "      <th></th>\n",
       "      <th>latitud</th>\n",
       "      <th>longitud</th>\n",
       "      <th>rooms</th>\n",
       "      <th>bedrooms</th>\n",
       "      <th>bathrooms</th>\n",
       "      <th>surface_total</th>\n",
       "      <th>surface_covered</th>\n",
       "    </tr>\n",
       "  </thead>\n",
       "  <tbody>\n",
       "    <tr>\n",
       "      <th>0</th>\n",
       "      <td>-0.581880</td>\n",
       "      <td>1.011393</td>\n",
       "      <td>-0.245778</td>\n",
       "      <td>-0.205585</td>\n",
       "      <td>0.334839</td>\n",
       "      <td>-0.184358</td>\n",
       "      <td>-0.125843</td>\n",
       "    </tr>\n",
       "    <tr>\n",
       "      <th>1</th>\n",
       "      <td>0.487954</td>\n",
       "      <td>-0.384871</td>\n",
       "      <td>-0.245778</td>\n",
       "      <td>-0.205585</td>\n",
       "      <td>0.334839</td>\n",
       "      <td>-0.377981</td>\n",
       "      <td>0.002527</td>\n",
       "    </tr>\n",
       "    <tr>\n",
       "      <th>2</th>\n",
       "      <td>0.140069</td>\n",
       "      <td>-0.510654</td>\n",
       "      <td>0.642990</td>\n",
       "      <td>0.580032</td>\n",
       "      <td>-1.207870</td>\n",
       "      <td>-0.034238</td>\n",
       "      <td>0.002527</td>\n",
       "    </tr>\n",
       "    <tr>\n",
       "      <th>3</th>\n",
       "      <td>0.113650</td>\n",
       "      <td>-0.439733</td>\n",
       "      <td>-2.023312</td>\n",
       "      <td>-1.776818</td>\n",
       "      <td>-0.436515</td>\n",
       "      <td>0.576226</td>\n",
       "      <td>0.002527</td>\n",
       "    </tr>\n",
       "    <tr>\n",
       "      <th>4</th>\n",
       "      <td>0.487954</td>\n",
       "      <td>-0.384871</td>\n",
       "      <td>0.642990</td>\n",
       "      <td>0.580032</td>\n",
       "      <td>-0.436515</td>\n",
       "      <td>-0.034238</td>\n",
       "      <td>0.002527</td>\n",
       "    </tr>\n",
       "    <tr>\n",
       "      <th>...</th>\n",
       "      <td>...</td>\n",
       "      <td>...</td>\n",
       "      <td>...</td>\n",
       "      <td>...</td>\n",
       "      <td>...</td>\n",
       "      <td>...</td>\n",
       "      <td>...</td>\n",
       "    </tr>\n",
       "    <tr>\n",
       "      <th>65845</th>\n",
       "      <td>0.118338</td>\n",
       "      <td>-0.482207</td>\n",
       "      <td>-0.245778</td>\n",
       "      <td>-0.205585</td>\n",
       "      <td>-0.436515</td>\n",
       "      <td>-0.377981</td>\n",
       "      <td>0.002527</td>\n",
       "    </tr>\n",
       "    <tr>\n",
       "      <th>65846</th>\n",
       "      <td>-0.431910</td>\n",
       "      <td>-0.397027</td>\n",
       "      <td>-0.245778</td>\n",
       "      <td>-0.205585</td>\n",
       "      <td>-1.207870</td>\n",
       "      <td>-0.377981</td>\n",
       "      <td>0.002527</td>\n",
       "    </tr>\n",
       "    <tr>\n",
       "      <th>65847</th>\n",
       "      <td>-0.420920</td>\n",
       "      <td>-0.551992</td>\n",
       "      <td>1.531757</td>\n",
       "      <td>1.365649</td>\n",
       "      <td>-0.436515</td>\n",
       "      <td>-0.036734</td>\n",
       "      <td>0.002527</td>\n",
       "    </tr>\n",
       "    <tr>\n",
       "      <th>65848</th>\n",
       "      <td>0.553061</td>\n",
       "      <td>1.939965</td>\n",
       "      <td>-0.245778</td>\n",
       "      <td>-0.205585</td>\n",
       "      <td>-0.436515</td>\n",
       "      <td>-0.377981</td>\n",
       "      <td>0.002527</td>\n",
       "    </tr>\n",
       "    <tr>\n",
       "      <th>65849</th>\n",
       "      <td>0.487954</td>\n",
       "      <td>-0.384871</td>\n",
       "      <td>-0.245778</td>\n",
       "      <td>-0.205585</td>\n",
       "      <td>-0.436515</td>\n",
       "      <td>-0.377981</td>\n",
       "      <td>0.002527</td>\n",
       "    </tr>\n",
       "  </tbody>\n",
       "</table>\n",
       "<p>65850 rows × 7 columns</p>\n",
       "</div>"
      ],
      "text/plain": [
       "        latitud  longitud     rooms  bedrooms  bathrooms  surface_total  \\\n",
       "0     -0.581880  1.011393 -0.245778 -0.205585   0.334839      -0.184358   \n",
       "1      0.487954 -0.384871 -0.245778 -0.205585   0.334839      -0.377981   \n",
       "2      0.140069 -0.510654  0.642990  0.580032  -1.207870      -0.034238   \n",
       "3      0.113650 -0.439733 -2.023312 -1.776818  -0.436515       0.576226   \n",
       "4      0.487954 -0.384871  0.642990  0.580032  -0.436515      -0.034238   \n",
       "...         ...       ...       ...       ...        ...            ...   \n",
       "65845  0.118338 -0.482207 -0.245778 -0.205585  -0.436515      -0.377981   \n",
       "65846 -0.431910 -0.397027 -0.245778 -0.205585  -1.207870      -0.377981   \n",
       "65847 -0.420920 -0.551992  1.531757  1.365649  -0.436515      -0.036734   \n",
       "65848  0.553061  1.939965 -0.245778 -0.205585  -0.436515      -0.377981   \n",
       "65849  0.487954 -0.384871 -0.245778 -0.205585  -0.436515      -0.377981   \n",
       "\n",
       "       surface_covered  \n",
       "0            -0.125843  \n",
       "1             0.002527  \n",
       "2             0.002527  \n",
       "3             0.002527  \n",
       "4             0.002527  \n",
       "...                ...  \n",
       "65845         0.002527  \n",
       "65846         0.002527  \n",
       "65847         0.002527  \n",
       "65848         0.002527  \n",
       "65849         0.002527  \n",
       "\n",
       "[65850 rows x 7 columns]"
      ]
     },
     "execution_count": 186,
     "metadata": {},
     "output_type": "execute_result"
    }
   ],
   "source": [
    "test_corrected = pd.read_csv('test_corrected')\n",
    "test_corrected.drop('Unnamed: 0',axis=1,inplace=True)\n",
    "test_corrected"
   ]
  },
  {
   "cell_type": "code",
   "execution_count": null,
   "metadata": {},
   "outputs": [],
   "source": [
    "X_test = test_corrected[['latitud','longitud', 'rooms', 'bedrooms', 'bathrooms', 'surface_total', 'surface_covered']]"
   ]
  },
  {
   "cell_type": "code",
   "execution_count": null,
   "metadata": {},
   "outputs": [],
   "source": [
    "y_test_pred = dtc_model.predict(X_test)"
   ]
  },
  {
   "cell_type": "code",
   "execution_count": null,
   "metadata": {},
   "outputs": [],
   "source": [
    "y_test_pred_k = clf.predict(X_test)\n",
    "\n",
    "test_precdictions = pd.DataFrame()\n",
    "\n",
    "test_precdictions['Pred'] = y_test_pred_k\n",
    "test_precdictions\n",
    "\n",
    "test_precdictions.to_csv('oscarmarinoa.csv2', index=False)"
   ]
  },
  {
   "cell_type": "code",
   "execution_count": null,
   "metadata": {},
   "outputs": [
    {
     "data": {
      "text/plain": [
       "array([0, 0, 0, ..., 0, 0, 0], dtype=int64)"
      ]
     },
     "execution_count": 99,
     "metadata": {},
     "output_type": "execute_result"
    }
   ],
   "source": [
    "y_test_pred"
   ]
  },
  {
   "cell_type": "code",
   "execution_count": null,
   "metadata": {},
   "outputs": [],
   "source": [
    "test_precdictions = pd.DataFrame()"
   ]
  },
  {
   "cell_type": "code",
   "execution_count": null,
   "metadata": {},
   "outputs": [],
   "source": [
    "test_precdictions['Pred'] = y_test_pred\n",
    "test_precdictions"
   ]
  },
  {
   "cell_type": "code",
   "execution_count": null,
   "metadata": {},
   "outputs": [],
   "source": [
    "test_precdictions.to_csv('oscarmarinoa.csv', index=False)"
   ]
  }
 ],
 "metadata": {
  "kernelspec": {
   "display_name": "Python 3.10.8 64-bit",
   "language": "python",
   "name": "python3"
  },
  "language_info": {
   "codemirror_mode": {
    "name": "ipython",
    "version": 3
   },
   "file_extension": ".py",
   "mimetype": "text/x-python",
   "name": "python",
   "nbconvert_exporter": "python",
   "pygments_lexer": "ipython3",
   "version": "3.10.8"
  },
  "orig_nbformat": 4,
  "vscode": {
   "interpreter": {
    "hash": "68ac5f2a079eb37b29a6a78efb89b55e3f5ce774c913a43ce907979c16c14b5a"
   }
  }
 },
 "nbformat": 4,
 "nbformat_minor": 2
}
